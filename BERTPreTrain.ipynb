{
 "cells": [
  {
   "cell_type": "code",
   "execution_count": null,
   "id": "79d82e7a-f788-4cce-a3fd-baafebf4f803",
   "metadata": {
    "tags": []
   },
   "outputs": [],
   "source": [
    "pip install --upgrade pip"
   ]
  },
  {
   "cell_type": "code",
   "execution_count": 20,
   "id": "7faf48a1-5949-4a1e-b883-101244e0b5fd",
   "metadata": {
    "tags": []
   },
   "outputs": [
    {
     "name": "stdout",
     "output_type": "stream",
     "text": [
      "Requirement already satisfied: torch==1.13.1 in /usr/local/lib/python3.10/site-packages (1.13.1)\n",
      "Requirement already satisfied: nvidia-cudnn-cu11==8.5.0.96 in /usr/local/lib/python3.10/site-packages (from torch==1.13.1) (8.5.0.96)\n",
      "Requirement already satisfied: nvidia-cublas-cu11==11.10.3.66 in /usr/local/lib/python3.10/site-packages (from torch==1.13.1) (11.10.3.66)\n",
      "Requirement already satisfied: nvidia-cuda-runtime-cu11==11.7.99 in /usr/local/lib/python3.10/site-packages (from torch==1.13.1) (11.7.99)\n",
      "Requirement already satisfied: typing-extensions in /usr/local/lib/python3.10/site-packages (from torch==1.13.1) (4.5.0)\n",
      "Requirement already satisfied: nvidia-cuda-nvrtc-cu11==11.7.99 in /usr/local/lib/python3.10/site-packages (from torch==1.13.1) (11.7.99)\n",
      "Requirement already satisfied: setuptools in /usr/local/lib/python3.10/site-packages (from nvidia-cublas-cu11==11.10.3.66->torch==1.13.1) (67.6.0)\n",
      "Requirement already satisfied: wheel in /usr/local/lib/python3.10/site-packages (from nvidia-cublas-cu11==11.10.3.66->torch==1.13.1) (0.40.0)\n"
     ]
    },
    {
     "name": "stderr",
     "output_type": "stream",
     "text": [
      "\u001b[33mWARNING: Running pip as the 'root' user can result in broken permissions and conflicting behaviour with the system package manager. It is recommended to use a virtual environment instead: https://pip.pypa.io/warnings/venv\u001b[0m\u001b[33m\n",
      "\u001b[0m\u001b[31mERROR: pip's dependency resolver does not currently take into account all the packages that are installed. This behaviour is the source of the following dependency conflicts.\n",
      "torchtext 0.14.1 requires torch==1.13.1, but you have torch 2.0.0 which is incompatible.\u001b[0m\u001b[31m\n",
      "\u001b[0m\u001b[33mWARNING: Running pip as the 'root' user can result in broken permissions and conflicting behaviour with the system package manager. It is recommended to use a virtual environment instead: https://pip.pypa.io/warnings/venv\u001b[0m\u001b[33m\n",
      "\u001b[0m"
     ]
    },
    {
     "name": "stdout",
     "output_type": "stream",
     "text": [
      "Requirement already satisfied: torchtext==0.14.1 in /usr/local/lib/python3.10/site-packages (0.14.1)\n",
      "Collecting torch==1.13.1\n",
      "  Using cached torch-1.13.1-cp310-cp310-manylinux1_x86_64.whl (887.5 MB)\n",
      "Requirement already satisfied: numpy in /usr/local/lib/python3.10/site-packages (from torchtext==0.14.1) (1.24.2)\n",
      "Requirement already satisfied: requests in /usr/local/lib/python3.10/site-packages (from torchtext==0.14.1) (2.28.2)\n",
      "Requirement already satisfied: tqdm in /usr/local/lib/python3.10/site-packages (from torchtext==0.14.1) (4.65.0)\n",
      "Requirement already satisfied: nvidia-cuda-runtime-cu11==11.7.99 in /usr/local/lib/python3.10/site-packages (from torch==1.13.1->torchtext==0.14.1) (11.7.99)\n",
      "Requirement already satisfied: typing-extensions in /usr/local/lib/python3.10/site-packages (from torch==1.13.1->torchtext==0.14.1) (4.5.0)\n",
      "Requirement already satisfied: nvidia-cuda-nvrtc-cu11==11.7.99 in /usr/local/lib/python3.10/site-packages (from torch==1.13.1->torchtext==0.14.1) (11.7.99)\n",
      "Requirement already satisfied: nvidia-cublas-cu11==11.10.3.66 in /usr/local/lib/python3.10/site-packages (from torch==1.13.1->torchtext==0.14.1) (11.10.3.66)\n",
      "Requirement already satisfied: nvidia-cudnn-cu11==8.5.0.96 in /usr/local/lib/python3.10/site-packages (from torch==1.13.1->torchtext==0.14.1) (8.5.0.96)\n",
      "Requirement already satisfied: setuptools in /usr/local/lib/python3.10/site-packages (from nvidia-cublas-cu11==11.10.3.66->torch==1.13.1->torchtext==0.14.1) (67.6.0)\n",
      "Requirement already satisfied: wheel in /usr/local/lib/python3.10/site-packages (from nvidia-cublas-cu11==11.10.3.66->torch==1.13.1->torchtext==0.14.1) (0.40.0)\n",
      "Requirement already satisfied: certifi>=2017.4.17 in /usr/local/lib/python3.10/site-packages (from requests->torchtext==0.14.1) (2022.12.7)\n",
      "Requirement already satisfied: charset-normalizer<4,>=2 in /usr/local/lib/python3.10/site-packages (from requests->torchtext==0.14.1) (3.1.0)\n",
      "Requirement already satisfied: urllib3<1.27,>=1.21.1 in /usr/local/lib/python3.10/site-packages (from requests->torchtext==0.14.1) (1.26.15)\n",
      "Requirement already satisfied: idna<4,>=2.5 in /usr/local/lib/python3.10/site-packages (from requests->torchtext==0.14.1) (3.4)\n",
      "Installing collected packages: torch\n",
      "  Attempting uninstall: torch\n",
      "    Found existing installation: torch 2.0.0\n",
      "    Uninstalling torch-2.0.0:\n",
      "      Successfully uninstalled torch-2.0.0\n"
     ]
    },
    {
     "name": "stderr",
     "output_type": "stream",
     "text": [
      "\u001b[31mERROR: pip's dependency resolver does not currently take into account all the packages that are installed. This behaviour is the source of the following dependency conflicts.\n",
      "torchvision 0.15.1 requires torch==2.0.0, but you have torch 1.13.1 which is incompatible.\u001b[0m\u001b[31m\n",
      "\u001b[0m\u001b[33mWARNING: Running pip as the 'root' user can result in broken permissions and conflicting behaviour with the system package manager. It is recommended to use a virtual environment instead: https://pip.pypa.io/warnings/venv\u001b[0m\u001b[33m\n",
      "\u001b[0m"
     ]
    },
    {
     "name": "stdout",
     "output_type": "stream",
     "text": [
      "Successfully installed torch-1.13.1\n",
      "Requirement already satisfied: notebook in /usr/local/lib/python3.10/site-packages (6.5.4)\n",
      "Requirement already satisfied: argon2-cffi in /usr/local/lib/python3.10/site-packages (from notebook) (21.3.0)\n",
      "Requirement already satisfied: jupyter-core>=4.6.1 in /usr/local/lib/python3.10/site-packages (from notebook) (5.2.0)\n",
      "Requirement already satisfied: jupyter-client>=5.3.4 in /usr/local/lib/python3.10/site-packages (from notebook) (8.0.3)\n",
      "Requirement already satisfied: prometheus-client in /usr/local/lib/python3.10/site-packages (from notebook) (0.16.0)\n",
      "Requirement already satisfied: jinja2 in /usr/local/lib/python3.10/site-packages (from notebook) (3.1.2)\n",
      "Requirement already satisfied: tornado>=6.1 in /usr/local/lib/python3.10/site-packages (from notebook) (6.2)\n",
      "Requirement already satisfied: nbclassic>=0.4.7 in /usr/local/lib/python3.10/site-packages (from notebook) (0.5.5)\n",
      "Requirement already satisfied: pyzmq>=17 in /usr/local/lib/python3.10/site-packages (from notebook) (25.0.1)\n",
      "Requirement already satisfied: ipython-genutils in /usr/local/lib/python3.10/site-packages (from notebook) (0.2.0)\n",
      "Requirement already satisfied: nbconvert>=5 in /usr/local/lib/python3.10/site-packages (from notebook) (7.3.1)\n",
      "Requirement already satisfied: Send2Trash>=1.8.0 in /usr/local/lib/python3.10/site-packages (from notebook) (1.8.0)\n",
      "Requirement already satisfied: terminado>=0.8.3 in /usr/local/lib/python3.10/site-packages (from notebook) (0.17.1)\n",
      "Requirement already satisfied: nbformat in /usr/local/lib/python3.10/site-packages (from notebook) (5.8.0)\n",
      "Requirement already satisfied: traitlets>=4.2.1 in /usr/local/lib/python3.10/site-packages (from notebook) (5.9.0)\n",
      "Requirement already satisfied: nest-asyncio>=1.5 in /usr/local/lib/python3.10/site-packages (from notebook) (1.5.6)\n",
      "Requirement already satisfied: ipykernel in /usr/local/lib/python3.10/site-packages (from notebook) (6.21.3)\n",
      "Requirement already satisfied: python-dateutil>=2.8.2 in /usr/local/lib/python3.10/site-packages (from jupyter-client>=5.3.4->notebook) (2.8.2)\n",
      "Requirement already satisfied: platformdirs>=2.5 in /usr/local/lib/python3.10/site-packages (from jupyter-core>=4.6.1->notebook) (3.1.1)\n",
      "Requirement already satisfied: jupyter-server>=1.8 in /usr/local/lib/python3.10/site-packages (from nbclassic>=0.4.7->notebook) (2.5.0)\n",
      "Requirement already satisfied: notebook-shim>=0.1.0 in /usr/local/lib/python3.10/site-packages (from nbclassic>=0.4.7->notebook) (0.2.2)\n",
      "Requirement already satisfied: packaging in /usr/local/lib/python3.10/site-packages (from nbconvert>=5->notebook) (21.3)\n",
      "Requirement already satisfied: mistune<3,>=2.0.3 in /usr/local/lib/python3.10/site-packages (from nbconvert>=5->notebook) (2.0.5)\n",
      "Requirement already satisfied: jupyterlab-pygments in /usr/local/lib/python3.10/site-packages (from nbconvert>=5->notebook) (0.2.2)\n",
      "Requirement already satisfied: markupsafe>=2.0 in /usr/local/lib/python3.10/site-packages (from nbconvert>=5->notebook) (2.1.2)\n",
      "Requirement already satisfied: beautifulsoup4 in /usr/local/lib/python3.10/site-packages (from nbconvert>=5->notebook) (4.12.2)\n",
      "Requirement already satisfied: nbclient>=0.5.0 in /usr/local/lib/python3.10/site-packages (from nbconvert>=5->notebook) (0.7.3)\n",
      "Requirement already satisfied: pandocfilters>=1.4.1 in /usr/local/lib/python3.10/site-packages (from nbconvert>=5->notebook) (1.5.0)\n",
      "Requirement already satisfied: tinycss2 in /usr/local/lib/python3.10/site-packages (from nbconvert>=5->notebook) (1.2.1)\n",
      "Requirement already satisfied: pygments>=2.4.1 in /usr/local/lib/python3.10/site-packages (from nbconvert>=5->notebook) (2.14.0)\n",
      "Requirement already satisfied: defusedxml in /usr/local/lib/python3.10/site-packages (from nbconvert>=5->notebook) (0.7.1)\n",
      "Requirement already satisfied: bleach in /usr/local/lib/python3.10/site-packages (from nbconvert>=5->notebook) (6.0.0)\n",
      "Requirement already satisfied: jsonschema>=2.6 in /usr/local/lib/python3.10/site-packages (from nbformat->notebook) (4.17.3)\n",
      "Requirement already satisfied: fastjsonschema in /usr/local/lib/python3.10/site-packages (from nbformat->notebook) (2.16.3)\n",
      "Requirement already satisfied: ptyprocess in /usr/local/lib/python3.10/site-packages (from terminado>=0.8.3->notebook) (0.7.0)\n",
      "Requirement already satisfied: argon2-cffi-bindings in /usr/local/lib/python3.10/site-packages (from argon2-cffi->notebook) (21.2.0)\n",
      "Requirement already satisfied: debugpy>=1.6.5 in /usr/local/lib/python3.10/site-packages (from ipykernel->notebook) (1.6.6)\n",
      "Requirement already satisfied: matplotlib-inline>=0.1 in /usr/local/lib/python3.10/site-packages (from ipykernel->notebook) (0.1.6)\n",
      "Requirement already satisfied: psutil in /usr/local/lib/python3.10/site-packages (from ipykernel->notebook) (5.9.4)\n",
      "Requirement already satisfied: ipython>=7.23.1 in /usr/local/lib/python3.10/site-packages (from ipykernel->notebook) (8.11.0)\n",
      "Requirement already satisfied: comm>=0.1.1 in /usr/local/lib/python3.10/site-packages (from ipykernel->notebook) (0.1.2)\n",
      "Requirement already satisfied: prompt-toolkit!=3.0.37,<3.1.0,>=3.0.30 in /usr/local/lib/python3.10/site-packages (from ipython>=7.23.1->ipykernel->notebook) (3.0.38)\n",
      "Requirement already satisfied: jedi>=0.16 in /usr/local/lib/python3.10/site-packages (from ipython>=7.23.1->ipykernel->notebook) (0.18.2)\n",
      "Requirement already satisfied: backcall in /usr/local/lib/python3.10/site-packages (from ipython>=7.23.1->ipykernel->notebook) (0.2.0)\n",
      "Requirement already satisfied: stack-data in /usr/local/lib/python3.10/site-packages (from ipython>=7.23.1->ipykernel->notebook) (0.6.2)\n",
      "Requirement already satisfied: pexpect>4.3 in /usr/local/lib/python3.10/site-packages (from ipython>=7.23.1->ipykernel->notebook) (4.8.0)\n",
      "Requirement already satisfied: pickleshare in /usr/local/lib/python3.10/site-packages (from ipython>=7.23.1->ipykernel->notebook) (0.7.5)\n",
      "Requirement already satisfied: decorator in /usr/local/lib/python3.10/site-packages (from ipython>=7.23.1->ipykernel->notebook) (5.1.1)\n",
      "Requirement already satisfied: attrs>=17.4.0 in /usr/local/lib/python3.10/site-packages (from jsonschema>=2.6->nbformat->notebook) (22.2.0)\n",
      "Requirement already satisfied: pyrsistent!=0.17.0,!=0.17.1,!=0.17.2,>=0.14.0 in /usr/local/lib/python3.10/site-packages (from jsonschema>=2.6->nbformat->notebook) (0.19.3)\n",
      "Requirement already satisfied: jupyter-server-terminals in /usr/local/lib/python3.10/site-packages (from jupyter-server>=1.8->nbclassic>=0.4.7->notebook) (0.4.4)\n",
      "Requirement already satisfied: jupyter-events>=0.4.0 in /usr/local/lib/python3.10/site-packages (from jupyter-server>=1.8->nbclassic>=0.4.7->notebook) (0.6.3)\n",
      "Requirement already satisfied: websocket-client in /usr/local/lib/python3.10/site-packages (from jupyter-server>=1.8->nbclassic>=0.4.7->notebook) (1.5.1)\n",
      "Requirement already satisfied: anyio>=3.1.0 in /usr/local/lib/python3.10/site-packages (from jupyter-server>=1.8->nbclassic>=0.4.7->notebook) (3.6.2)\n",
      "Requirement already satisfied: six>=1.5 in /usr/local/lib/python3.10/site-packages (from python-dateutil>=2.8.2->jupyter-client>=5.3.4->notebook) (1.16.0)\n",
      "Requirement already satisfied: cffi>=1.0.1 in /usr/local/lib/python3.10/site-packages (from argon2-cffi-bindings->argon2-cffi->notebook) (1.15.1)\n",
      "Requirement already satisfied: soupsieve>1.2 in /usr/local/lib/python3.10/site-packages (from beautifulsoup4->nbconvert>=5->notebook) (2.4)\n",
      "Requirement already satisfied: webencodings in /usr/local/lib/python3.10/site-packages (from bleach->nbconvert>=5->notebook) (0.5.1)\n",
      "Requirement already satisfied: pyparsing!=3.0.5,>=2.0.2 in /usr/local/lib/python3.10/site-packages (from packaging->nbconvert>=5->notebook) (3.0.9)\n",
      "Requirement already satisfied: idna>=2.8 in /usr/local/lib/python3.10/site-packages (from anyio>=3.1.0->jupyter-server>=1.8->nbclassic>=0.4.7->notebook) (3.4)\n",
      "Requirement already satisfied: sniffio>=1.1 in /usr/local/lib/python3.10/site-packages (from anyio>=3.1.0->jupyter-server>=1.8->nbclassic>=0.4.7->notebook) (1.3.0)\n",
      "Requirement already satisfied: pycparser in /usr/local/lib/python3.10/site-packages (from cffi>=1.0.1->argon2-cffi-bindings->argon2-cffi->notebook) (2.21)\n",
      "Requirement already satisfied: parso<0.9.0,>=0.8.0 in /usr/local/lib/python3.10/site-packages (from jedi>=0.16->ipython>=7.23.1->ipykernel->notebook) (0.8.3)\n",
      "Requirement already satisfied: python-json-logger>=2.0.4 in /usr/local/lib/python3.10/site-packages (from jupyter-events>=0.4.0->jupyter-server>=1.8->nbclassic>=0.4.7->notebook) (2.0.7)\n",
      "Requirement already satisfied: rfc3986-validator>=0.1.1 in /usr/local/lib/python3.10/site-packages (from jupyter-events>=0.4.0->jupyter-server>=1.8->nbclassic>=0.4.7->notebook) (0.1.1)\n",
      "Requirement already satisfied: rfc3339-validator in /usr/local/lib/python3.10/site-packages (from jupyter-events>=0.4.0->jupyter-server>=1.8->nbclassic>=0.4.7->notebook) (0.1.4)\n",
      "Requirement already satisfied: pyyaml>=5.3 in /usr/local/lib/python3.10/site-packages (from jupyter-events>=0.4.0->jupyter-server>=1.8->nbclassic>=0.4.7->notebook) (5.4.1)\n",
      "Requirement already satisfied: wcwidth in /usr/local/lib/python3.10/site-packages (from prompt-toolkit!=3.0.37,<3.1.0,>=3.0.30->ipython>=7.23.1->ipykernel->notebook) (0.2.6)\n",
      "Requirement already satisfied: asttokens>=2.1.0 in /usr/local/lib/python3.10/site-packages (from stack-data->ipython>=7.23.1->ipykernel->notebook) (2.2.1)\n",
      "Requirement already satisfied: pure-eval in /usr/local/lib/python3.10/site-packages (from stack-data->ipython>=7.23.1->ipykernel->notebook) (0.2.2)\n",
      "Requirement already satisfied: executing>=1.2.0 in /usr/local/lib/python3.10/site-packages (from stack-data->ipython>=7.23.1->ipykernel->notebook) (1.2.0)\n",
      "Requirement already satisfied: isoduration in /usr/local/lib/python3.10/site-packages (from jsonschema>=2.6->nbformat->notebook) (20.11.0)\n",
      "Requirement already satisfied: uri-template in /usr/local/lib/python3.10/site-packages (from jsonschema>=2.6->nbformat->notebook) (1.2.0)\n",
      "Requirement already satisfied: fqdn in /usr/local/lib/python3.10/site-packages (from jsonschema>=2.6->nbformat->notebook) (1.5.1)\n",
      "Requirement already satisfied: jsonpointer>1.13 in /usr/local/lib/python3.10/site-packages (from jsonschema>=2.6->nbformat->notebook) (2.3)\n",
      "Requirement already satisfied: webcolors>=1.11 in /usr/local/lib/python3.10/site-packages (from jsonschema>=2.6->nbformat->notebook) (1.13)\n",
      "Requirement already satisfied: arrow>=0.15.0 in /usr/local/lib/python3.10/site-packages (from isoduration->jsonschema>=2.6->nbformat->notebook) (1.2.3)\n"
     ]
    },
    {
     "name": "stderr",
     "output_type": "stream",
     "text": [
      "\u001b[33mWARNING: Running pip as the 'root' user can result in broken permissions and conflicting behaviour with the system package manager. It is recommended to use a virtual environment instead: https://pip.pypa.io/warnings/venv\u001b[0m\u001b[33m\n",
      "\u001b[0m"
     ]
    },
    {
     "name": "stdout",
     "output_type": "stream",
     "text": [
      "Requirement already satisfied: numpy in /usr/local/lib/python3.10/site-packages (1.24.2)\n"
     ]
    },
    {
     "name": "stderr",
     "output_type": "stream",
     "text": [
      "\u001b[33mWARNING: Running pip as the 'root' user can result in broken permissions and conflicting behaviour with the system package manager. It is recommended to use a virtual environment instead: https://pip.pypa.io/warnings/venv\u001b[0m\u001b[33m\n",
      "\u001b[0m"
     ]
    },
    {
     "name": "stdout",
     "output_type": "stream",
     "text": [
      "Requirement already satisfied: pandas in /usr/local/lib/python3.10/site-packages (2.0.0)\n",
      "Requirement already satisfied: pytz>=2020.1 in /usr/local/lib/python3.10/site-packages (from pandas) (2023.3)\n",
      "Requirement already satisfied: tzdata>=2022.1 in /usr/local/lib/python3.10/site-packages (from pandas) (2023.3)\n",
      "Requirement already satisfied: python-dateutil>=2.8.2 in /usr/local/lib/python3.10/site-packages (from pandas) (2.8.2)\n",
      "Requirement already satisfied: numpy>=1.21.0 in /usr/local/lib/python3.10/site-packages (from pandas) (1.24.2)\n",
      "Requirement already satisfied: six>=1.5 in /usr/local/lib/python3.10/site-packages (from python-dateutil>=2.8.2->pandas) (1.16.0)\n"
     ]
    },
    {
     "name": "stderr",
     "output_type": "stream",
     "text": [
      "\u001b[33mWARNING: Running pip as the 'root' user can result in broken permissions and conflicting behaviour with the system package manager. It is recommended to use a virtual environment instead: https://pip.pypa.io/warnings/venv\u001b[0m\u001b[33m\n",
      "\u001b[0m"
     ]
    },
    {
     "name": "stdout",
     "output_type": "stream",
     "text": [
      "Requirement already satisfied: transformers in /usr/local/lib/python3.10/site-packages (4.27.4)\n",
      "Requirement already satisfied: numpy>=1.17 in /usr/local/lib/python3.10/site-packages (from transformers) (1.24.2)\n",
      "Requirement already satisfied: tqdm>=4.27 in /usr/local/lib/python3.10/site-packages (from transformers) (4.65.0)\n",
      "Requirement already satisfied: requests in /usr/local/lib/python3.10/site-packages (from transformers) (2.28.2)\n",
      "Requirement already satisfied: packaging>=20.0 in /usr/local/lib/python3.10/site-packages (from transformers) (21.3)\n",
      "Requirement already satisfied: tokenizers!=0.11.3,<0.14,>=0.11.1 in /usr/local/lib/python3.10/site-packages (from transformers) (0.13.3)\n",
      "Requirement already satisfied: huggingface-hub<1.0,>=0.11.0 in /usr/local/lib/python3.10/site-packages (from transformers) (0.13.4)\n",
      "Requirement already satisfied: filelock in /usr/local/lib/python3.10/site-packages (from transformers) (3.11.0)\n",
      "Requirement already satisfied: pyyaml>=5.1 in /usr/local/lib/python3.10/site-packages (from transformers) (5.4.1)\n",
      "Requirement already satisfied: regex!=2019.12.17 in /usr/local/lib/python3.10/site-packages (from transformers) (2023.3.23)\n",
      "Requirement already satisfied: typing-extensions>=3.7.4.3 in /usr/local/lib/python3.10/site-packages (from huggingface-hub<1.0,>=0.11.0->transformers) (4.5.0)\n",
      "Requirement already satisfied: pyparsing!=3.0.5,>=2.0.2 in /usr/local/lib/python3.10/site-packages (from packaging>=20.0->transformers) (3.0.9)\n",
      "Requirement already satisfied: certifi>=2017.4.17 in /usr/local/lib/python3.10/site-packages (from requests->transformers) (2022.12.7)\n",
      "Requirement already satisfied: idna<4,>=2.5 in /usr/local/lib/python3.10/site-packages (from requests->transformers) (3.4)\n",
      "Requirement already satisfied: urllib3<1.27,>=1.21.1 in /usr/local/lib/python3.10/site-packages (from requests->transformers) (1.26.15)\n",
      "Requirement already satisfied: charset-normalizer<4,>=2 in /usr/local/lib/python3.10/site-packages (from requests->transformers) (3.1.0)\n"
     ]
    },
    {
     "name": "stderr",
     "output_type": "stream",
     "text": [
      "\u001b[33mWARNING: Running pip as the 'root' user can result in broken permissions and conflicting behaviour with the system package manager. It is recommended to use a virtual environment instead: https://pip.pypa.io/warnings/venv\u001b[0m\u001b[33m\n",
      "\u001b[0m"
     ]
    },
    {
     "name": "stdout",
     "output_type": "stream",
     "text": [
      "Requirement already satisfied: kaggle in /usr/local/lib/python3.10/site-packages (1.5.13)\n",
      "Requirement already satisfied: requests in /usr/local/lib/python3.10/site-packages (from kaggle) (2.28.2)\n",
      "Requirement already satisfied: urllib3 in /usr/local/lib/python3.10/site-packages (from kaggle) (1.26.15)\n",
      "Requirement already satisfied: six>=1.10 in /usr/local/lib/python3.10/site-packages (from kaggle) (1.16.0)\n",
      "Requirement already satisfied: python-slugify in /usr/local/lib/python3.10/site-packages (from kaggle) (8.0.1)\n",
      "Requirement already satisfied: tqdm in /usr/local/lib/python3.10/site-packages (from kaggle) (4.65.0)\n",
      "Requirement already satisfied: python-dateutil in /usr/local/lib/python3.10/site-packages (from kaggle) (2.8.2)\n",
      "Requirement already satisfied: certifi in /usr/local/lib/python3.10/site-packages (from kaggle) (2022.12.7)\n",
      "Requirement already satisfied: text-unidecode>=1.3 in /usr/local/lib/python3.10/site-packages (from python-slugify->kaggle) (1.3)\n",
      "Requirement already satisfied: idna<4,>=2.5 in /usr/local/lib/python3.10/site-packages (from requests->kaggle) (3.4)\n",
      "Requirement already satisfied: charset-normalizer<4,>=2 in /usr/local/lib/python3.10/site-packages (from requests->kaggle) (3.1.0)\n"
     ]
    },
    {
     "name": "stderr",
     "output_type": "stream",
     "text": [
      "\u001b[33mWARNING: Running pip as the 'root' user can result in broken permissions and conflicting behaviour with the system package manager. It is recommended to use a virtual environment instead: https://pip.pypa.io/warnings/venv\u001b[0m\u001b[33m\n",
      "\u001b[0m"
     ]
    },
    {
     "name": "stdout",
     "output_type": "stream",
     "text": [
      "Requirement already satisfied: spacy==3.4.4 in /usr/local/lib/python3.10/site-packages (3.4.4)\n",
      "Requirement already satisfied: typer<0.8.0,>=0.3.0 in /usr/local/lib/python3.10/site-packages (from spacy==3.4.4) (0.7.0)\n",
      "Requirement already satisfied: spacy-loggers<2.0.0,>=1.0.0 in /usr/local/lib/python3.10/site-packages (from spacy==3.4.4) (1.0.4)\n",
      "Requirement already satisfied: pathy>=0.3.5 in /usr/local/lib/python3.10/site-packages (from spacy==3.4.4) (0.10.1)\n",
      "Requirement already satisfied: jinja2 in /usr/local/lib/python3.10/site-packages (from spacy==3.4.4) (3.1.2)\n",
      "Requirement already satisfied: requests<3.0.0,>=2.13.0 in /usr/local/lib/python3.10/site-packages (from spacy==3.4.4) (2.28.2)\n",
      "Requirement already satisfied: packaging>=20.0 in /usr/local/lib/python3.10/site-packages (from spacy==3.4.4) (21.3)\n",
      "Requirement already satisfied: preshed<3.1.0,>=3.0.2 in /usr/local/lib/python3.10/site-packages (from spacy==3.4.4) (3.0.8)\n",
      "Requirement already satisfied: murmurhash<1.1.0,>=0.28.0 in /usr/local/lib/python3.10/site-packages (from spacy==3.4.4) (1.0.9)\n",
      "Requirement already satisfied: pydantic!=1.8,!=1.8.1,<1.11.0,>=1.7.4 in /usr/local/lib/python3.10/site-packages (from spacy==3.4.4) (1.10.7)\n",
      "Requirement already satisfied: srsly<3.0.0,>=2.4.3 in /usr/local/lib/python3.10/site-packages (from spacy==3.4.4) (2.4.6)\n",
      "Requirement already satisfied: langcodes<4.0.0,>=3.2.0 in /usr/local/lib/python3.10/site-packages (from spacy==3.4.4) (3.3.0)\n",
      "Requirement already satisfied: cymem<2.1.0,>=2.0.2 in /usr/local/lib/python3.10/site-packages (from spacy==3.4.4) (2.0.7)\n",
      "Requirement already satisfied: thinc<8.2.0,>=8.1.0 in /usr/local/lib/python3.10/site-packages (from spacy==3.4.4) (8.1.9)\n",
      "Requirement already satisfied: catalogue<2.1.0,>=2.0.6 in /usr/local/lib/python3.10/site-packages (from spacy==3.4.4) (2.0.8)\n",
      "Requirement already satisfied: numpy>=1.15.0 in /usr/local/lib/python3.10/site-packages (from spacy==3.4.4) (1.24.2)\n",
      "Requirement already satisfied: wasabi<1.1.0,>=0.9.1 in /usr/local/lib/python3.10/site-packages (from spacy==3.4.4) (0.10.1)\n",
      "Requirement already satisfied: setuptools in /usr/local/lib/python3.10/site-packages (from spacy==3.4.4) (67.6.0)\n",
      "Requirement already satisfied: tqdm<5.0.0,>=4.38.0 in /usr/local/lib/python3.10/site-packages (from spacy==3.4.4) (4.65.0)\n",
      "Requirement already satisfied: smart-open<7.0.0,>=5.2.1 in /usr/local/lib/python3.10/site-packages (from spacy==3.4.4) (6.3.0)\n",
      "Requirement already satisfied: spacy-legacy<3.1.0,>=3.0.10 in /usr/local/lib/python3.10/site-packages (from spacy==3.4.4) (3.0.12)\n",
      "Requirement already satisfied: pyparsing!=3.0.5,>=2.0.2 in /usr/local/lib/python3.10/site-packages (from packaging>=20.0->spacy==3.4.4) (3.0.9)\n",
      "Requirement already satisfied: typing-extensions>=4.2.0 in /usr/local/lib/python3.10/site-packages (from pydantic!=1.8,!=1.8.1,<1.11.0,>=1.7.4->spacy==3.4.4) (4.5.0)\n",
      "Requirement already satisfied: urllib3<1.27,>=1.21.1 in /usr/local/lib/python3.10/site-packages (from requests<3.0.0,>=2.13.0->spacy==3.4.4) (1.26.15)\n",
      "Requirement already satisfied: certifi>=2017.4.17 in /usr/local/lib/python3.10/site-packages (from requests<3.0.0,>=2.13.0->spacy==3.4.4) (2022.12.7)\n",
      "Requirement already satisfied: charset-normalizer<4,>=2 in /usr/local/lib/python3.10/site-packages (from requests<3.0.0,>=2.13.0->spacy==3.4.4) (3.1.0)\n",
      "Requirement already satisfied: idna<4,>=2.5 in /usr/local/lib/python3.10/site-packages (from requests<3.0.0,>=2.13.0->spacy==3.4.4) (3.4)\n",
      "Requirement already satisfied: blis<0.8.0,>=0.7.8 in /usr/local/lib/python3.10/site-packages (from thinc<8.2.0,>=8.1.0->spacy==3.4.4) (0.7.9)\n",
      "Requirement already satisfied: confection<1.0.0,>=0.0.1 in /usr/local/lib/python3.10/site-packages (from thinc<8.2.0,>=8.1.0->spacy==3.4.4) (0.0.4)\n",
      "Requirement already satisfied: click<9.0.0,>=7.1.1 in /usr/local/lib/python3.10/site-packages (from typer<0.8.0,>=0.3.0->spacy==3.4.4) (8.1.3)\n",
      "Requirement already satisfied: MarkupSafe>=2.0 in /usr/local/lib/python3.10/site-packages (from jinja2->spacy==3.4.4) (2.1.2)\n"
     ]
    },
    {
     "name": "stderr",
     "output_type": "stream",
     "text": [
      "\u001b[33mWARNING: Running pip as the 'root' user can result in broken permissions and conflicting behaviour with the system package manager. It is recommended to use a virtual environment instead: https://pip.pypa.io/warnings/venv\u001b[0m\u001b[33m\n",
      "\u001b[0m"
     ]
    }
   ],
   "source": [
    "import os\n",
    "import yaml\n",
    "\n",
    "with open(\"environment.yml\") as file_handle:\n",
    "    environment_data = yaml.safe_load(file_handle)\n",
    "\n",
    "for dependency in environment_data[\"dependencies\"]:\n",
    "    if isinstance(dependency, dict):\n",
    "      for lib in dependency['pip']:\n",
    "        os.system(f\"pip install {lib}\")"
   ]
  },
  {
   "cell_type": "code",
   "execution_count": null,
   "id": "2fce06da-4cd6-4e3c-a5ac-c77eaa8f5628",
   "metadata": {
    "tags": []
   },
   "outputs": [],
   "source": [
    "!pip install transformers datasets"
   ]
  },
  {
   "cell_type": "code",
   "execution_count": 9,
   "id": "4e60af17-8d19-4bc6-82ce-912b1a7be857",
   "metadata": {
    "tags": []
   },
   "outputs": [
    {
     "name": "stdout",
     "output_type": "stream",
     "text": [
      "huggingface/tokenizers: The current process just got forked, after parallelism has already been used. Disabling parallelism to avoid deadlocks...\n",
      "To disable this warning, you can either:\n",
      "\t- Avoid using `tokenizers` before the fork if possible\n",
      "\t- Explicitly set the environment variable TOKENIZERS_PARALLELISM=(true | false)\n",
      "\u001b[33mWARNING: Running pip as the 'root' user can result in broken permissions and conflicting behaviour with the system package manager. It is recommended to use a virtual environment instead: https://pip.pypa.io/warnings/venv\u001b[0m\u001b[33m\n",
      "\u001b[0m"
     ]
    }
   ],
   "source": [
    "! pip install -q kaggle"
   ]
  },
  {
   "cell_type": "code",
   "execution_count": 2,
   "id": "4f7f17a6-a195-422f-b734-d35d17620c44",
   "metadata": {
    "tags": []
   },
   "outputs": [
    {
     "ename": "NameError",
     "evalue": "name 'os' is not defined",
     "output_type": "error",
     "traceback": [
      "\u001b[0;31m---------------------------------------------------------------------------\u001b[0m",
      "\u001b[0;31mNameError\u001b[0m                                 Traceback (most recent call last)",
      "Cell \u001b[0;32mIn[2], line 1\u001b[0m\n\u001b[0;32m----> 1\u001b[0m \u001b[43mos\u001b[49m\u001b[38;5;241m.\u001b[39menviron[\u001b[38;5;124m'\u001b[39m\u001b[38;5;124mTOKENIZERS_PARALLELISM\u001b[39m\u001b[38;5;124m'\u001b[39m] \u001b[38;5;241m=\u001b[39m \u001b[38;5;124m'\u001b[39m\u001b[38;5;124mtrue\u001b[39m\u001b[38;5;124m'\u001b[39m \u001b[38;5;66;03m# or 'false'\u001b[39;00m\n",
      "\u001b[0;31mNameError\u001b[0m: name 'os' is not defined"
     ]
    }
   ],
   "source": [
    "os.environ['TOKENIZERS_PARALLELISM'] = 'true' # or 'false'"
   ]
  },
  {
   "cell_type": "code",
   "execution_count": 12,
   "id": "80822b3f-a02a-4ea3-81ba-721dad9dbec5",
   "metadata": {
    "tags": []
   },
   "outputs": [
    {
     "name": "stdout",
     "output_type": "stream",
     "text": [
      "huggingface/tokenizers: The current process just got forked, after parallelism has already been used. Disabling parallelism to avoid deadlocks...\n",
      "To disable this warning, you can either:\n",
      "\t- Avoid using `tokenizers` before the fork if possible\n",
      "\t- Explicitly set the environment variable TOKENIZERS_PARALLELISM=(true | false)\n",
      "huggingface/tokenizers: The current process just got forked, after parallelism has already been used. Disabling parallelism to avoid deadlocks...\n",
      "To disable this warning, you can either:\n",
      "\t- Avoid using `tokenizers` before the fork if possible\n",
      "\t- Explicitly set the environment variable TOKENIZERS_PARALLELISM=(true | false)\n"
     ]
    }
   ],
   "source": [
    "!mv ./kaggle.json ~/.kaggle/\n",
    "!chmod 600 ~/.kaggle/kaggle.json"
   ]
  },
  {
   "cell_type": "code",
   "execution_count": null,
   "id": "e8c09ba6-db02-4bcf-b9b8-2ca358485891",
   "metadata": {},
   "outputs": [],
   "source": [
    "# Must sign up for the competition and verify your account with a text message before downloading the data"
   ]
  },
  {
   "cell_type": "code",
   "execution_count": 15,
   "id": "12b9e2ad-9a14-4e40-a980-6a32f82650d0",
   "metadata": {
    "tags": []
   },
   "outputs": [
    {
     "name": "stdout",
     "output_type": "stream",
     "text": [
      "huggingface/tokenizers: The current process just got forked, after parallelism has already been used. Disabling parallelism to avoid deadlocks...\n",
      "To disable this warning, you can either:\n",
      "\t- Avoid using `tokenizers` before the fork if possible\n",
      "\t- Explicitly set the environment variable TOKENIZERS_PARALLELISM=(true | false)\n",
      "Downloading shopee-product-matching.zip to /root/DL_Group_Project/dl-ecommerce-duplicates\n",
      " 99%|██████████████████████████████████████▌| 1.67G/1.68G [00:13<00:00, 121MB/s]\n",
      "100%|██████████████████████████████████████| 1.68G/1.68G [00:22<00:00, 79.0MB/s]\n"
     ]
    }
   ],
   "source": [
    "! kaggle competitions download -c 'shopee-product-matching'"
   ]
  },
  {
   "cell_type": "code",
   "execution_count": 21,
   "id": "2fa027a8-ffa3-4ada-9b7c-961485ea5149",
   "metadata": {
    "tags": []
   },
   "outputs": [
    {
     "name": "stdout",
     "output_type": "stream",
     "text": [
      "huggingface/tokenizers: The current process just got forked, after parallelism has already been used. Disabling parallelism to avoid deadlocks...\n",
      "To disable this warning, you can either:\n",
      "\t- Avoid using `tokenizers` before the fork if possible\n",
      "\t- Explicitly set the environment variable TOKENIZERS_PARALLELISM=(true | false)\n"
     ]
    }
   ],
   "source": [
    "!unzip -q -o ./shopee-product-matching.zip -d ./shopee-product-matching/"
   ]
  },
  {
   "cell_type": "code",
   "execution_count": 19,
   "id": "aca77946-d018-4230-ae07-7ff4bdba158c",
   "metadata": {
    "tags": []
   },
   "outputs": [
    {
     "ename": "ModuleNotFoundError",
     "evalue": "No module named 'matplotlib'",
     "output_type": "error",
     "traceback": [
      "\u001b[0;31m---------------------------------------------------------------------------\u001b[0m",
      "\u001b[0;31mModuleNotFoundError\u001b[0m                       Traceback (most recent call last)",
      "Cell \u001b[0;32mIn[19], line 3\u001b[0m\n\u001b[1;32m      1\u001b[0m \u001b[38;5;28;01mimport\u001b[39;00m \u001b[38;5;21;01mnumpy\u001b[39;00m \u001b[38;5;28;01mas\u001b[39;00m \u001b[38;5;21;01mnp\u001b[39;00m\n\u001b[1;32m      2\u001b[0m \u001b[38;5;28;01mimport\u001b[39;00m \u001b[38;5;21;01mpandas\u001b[39;00m \u001b[38;5;28;01mas\u001b[39;00m \u001b[38;5;21;01mpd\u001b[39;00m\n\u001b[0;32m----> 3\u001b[0m \u001b[38;5;28;01mimport\u001b[39;00m \u001b[38;5;21;01mmatplotlib\u001b[39;00m\n\u001b[1;32m      5\u001b[0m \u001b[38;5;28;01mimport\u001b[39;00m \u001b[38;5;21;01mtorch\u001b[39;00m\n\u001b[1;32m      6\u001b[0m \u001b[38;5;28;01mimport\u001b[39;00m \u001b[38;5;21;01mtorchvision\u001b[39;00m\u001b[38;5;21;01m.\u001b[39;00m\u001b[38;5;21;01mtransforms\u001b[39;00m \u001b[38;5;28;01mas\u001b[39;00m \u001b[38;5;21;01mtransforms\u001b[39;00m\n",
      "\u001b[0;31mModuleNotFoundError\u001b[0m: No module named 'matplotlib'"
     ]
    }
   ],
   "source": [
    "import numpy as np\n",
    "import pandas as pd\n",
    "import matplotlib\n",
    "\n",
    "import torch\n",
    "import torchvision.transforms as transforms\n",
    "from torch.utils.data.dataset import Dataset\n",
    "from transformers import AutoTokenizer\n",
    "from tqdm import tqdm\n",
    "from modules.datasets.ImageShopeeDataset import ImageShopeeDataset\n",
    "from modules.datasets.TextShopeeDataset import TextShopeeDataset\n",
    "from modules.models.ResNet18EmbeddingsShopeeNet import ResNet18EmbeddingsShopeeNet\n",
    "from modules.models.BERTPreTrainedEmbeddingsShopeeNet import BERTPreTrainedEmbeddingsShopeeNet\n",
    "import os"
   ]
  },
  {
   "cell_type": "code",
   "execution_count": 3,
   "id": "e897b6dc-a7e4-484a-92ea-d031401b9030",
   "metadata": {
    "tags": []
   },
   "outputs": [],
   "source": [
    "DATA_FOLDER = './shopee-product-matching/'\n",
    "\n",
    "IS_TEST = False\n",
    "\n",
    "def get_dataset(root=DATA_FOLDER, is_test=False):\n",
    "    name = \"test.csv\" if is_test else \"train.csv\"\n",
    "    df = pd.read_csv(DATA_FOLDER + name)\n",
    "    images_folder = \"test_images/\" if is_test else \"train_images/\"\n",
    "    df['image'] = DATA_FOLDER + images_folder + df['image']\n",
    "    return df\n",
    "\n",
    "def add_target(df):\n",
    "    grouped = df.groupby('label_group')['posting_id'].apply(list)\n",
    "    target = df['label_group'].map(grouped)\n",
    "    new_df = df.copy()\n",
    "    new_df['target'] = target\n",
    "    return new_df\n",
    "\n",
    "df = get_dataset(is_test=IS_TEST)\n",
    "df = add_target(df)\n",
    "train = df[df['image'].apply(lambda x: os.path.exists(x))] "
   ]
  },
  {
   "cell_type": "code",
   "execution_count": 4,
   "id": "97ce5d7c-138c-450c-bcc3-646cf60d17cd",
   "metadata": {
    "tags": []
   },
   "outputs": [],
   "source": [
    "# Prepare DataLoaders\n",
    "tokenizer = AutoTokenizer.from_pretrained(\"bert-base-uncased\")\n",
    "\n",
    "text_dataset = TextShopeeDataset(train['title'].values, tokenizer)\n",
    "\n",
    "def my_collate_fn(data):\n",
    "    # TODO: Implement your this\n",
    "    return tuple(data)\n",
    "\n",
    "text_loader = torch.utils.data.DataLoader(\n",
    "    text_dataset,\n",
    "    batch_size=1,\n",
    "    shuffle=False,\n",
    "    num_workers=4,\n",
    "    collate_fn=my_collate_fn\n",
    ")"
   ]
  },
  {
   "cell_type": "code",
   "execution_count": 5,
   "id": "b1175175-d62b-47f3-afd5-158f5120dcab",
   "metadata": {
    "tags": []
   },
   "outputs": [
    {
     "name": "stderr",
     "output_type": "stream",
     "text": [
      "Some weights of the model checkpoint at bert-base-uncased were not used when initializing BertModel: ['cls.seq_relationship.bias', 'cls.seq_relationship.weight', 'cls.predictions.bias', 'cls.predictions.transform.dense.bias', 'cls.predictions.transform.LayerNorm.bias', 'cls.predictions.transform.LayerNorm.weight', 'cls.predictions.decoder.weight', 'cls.predictions.transform.dense.weight']\n",
      "- This IS expected if you are initializing BertModel from the checkpoint of a model trained on another task or with another architecture (e.g. initializing a BertForSequenceClassification model from a BertForPreTraining model).\n",
      "- This IS NOT expected if you are initializing BertModel from the checkpoint of a model that you expect to be exactly identical (initializing a BertForSequenceClassification model from a BertForSequenceClassification model).\n"
     ]
    },
    {
     "name": "stdout",
     "output_type": "stream",
     "text": [
      "torch.Size([3, 20, 768])\n",
      "torch.Size([3, 768])\n"
     ]
    }
   ],
   "source": [
    "from transformers import AutoTokenizer, BertForPreTraining, BertModel\n",
    "\n",
    "tokenizer = AutoTokenizer.from_pretrained(\"bert-base-uncased\")\n",
    "# model = BertForPreTraining.from_pretrained(\"bert-base-uncased\")\n",
    "model = BertModel.from_pretrained(\"bert-base-uncased\")\n",
    "\n",
    "# Pass a list of text sequences to the tokenizer\n",
    "inputs = tokenizer([\"Hello, my dog is cute\", \"Hi, my friend's cat is adorable\", \"Hi, my friend's cat is adorable Hi, my friend's cat is adorable\"], padding=True, return_tensors=\"pt\")\n",
    "\n",
    "# inputs['output_hidden_states'] = True\n",
    "\n",
    "# Pass the inputs to the model\n",
    "outputs = model(**inputs)\n",
    "\n",
    "# Extract the last hidden states\n",
    "last_hidden_states = outputs.last_hidden_state\n",
    "\n",
    "print(last_hidden_states.shape) # (N, K, H) K is sequence length and H is hidden state \n",
    "\n",
    "# Compute the mean of the last hidden states for each input sequence\n",
    "embeddings = last_hidden_states.mean(dim=1)\n",
    "\n",
    "print(embeddings.shape)"
   ]
  },
  {
   "cell_type": "code",
   "execution_count": 6,
   "id": "c370633d-d14f-42b6-959e-396353bf56ae",
   "metadata": {
    "tags": []
   },
   "outputs": [
    {
     "data": {
      "text/plain": [
       "tensor([[[-0.1144,  0.1937,  0.1250,  ..., -0.3827,  0.2107,  0.5407],\n",
       "         [ 0.5308,  0.3207,  0.3665,  ..., -0.0036,  0.7579,  0.0388],\n",
       "         [-0.4877,  0.8849,  0.4256,  ..., -0.6976,  0.4458,  0.1231],\n",
       "         ...,\n",
       "         [-0.4370, -0.0448,  0.3319,  ...,  0.2621, -0.0604, -0.1064],\n",
       "         [-0.3728, -0.0480,  0.4407,  ...,  0.0035, -0.1797,  0.3346],\n",
       "         [-0.2671,  0.1269,  0.6542,  ...,  0.0122, -0.1564,  0.3124]],\n",
       "\n",
       "        [[-0.0534,  0.1799,  0.0135,  ..., -0.3239,  0.2102,  0.6410],\n",
       "         [ 0.5771,  0.1648,  0.0964,  ..., -0.1105,  1.0164,  0.0558],\n",
       "         [-0.3150,  0.8607,  0.2674,  ..., -0.2600,  0.6345,  0.1224],\n",
       "         ...,\n",
       "         [ 0.0195,  0.0896,  0.5284,  ...,  0.0538,  0.0268,  0.2879],\n",
       "         [-0.2774, -0.1960,  0.3721,  ...,  0.1099, -0.0820,  0.2022],\n",
       "         [-0.2978, -0.2896,  0.3966,  ...,  0.2111,  0.0163,  0.1468]],\n",
       "\n",
       "        [[-0.3906, -0.0888,  0.0866,  ..., -0.4189,  0.0276,  0.5605],\n",
       "         [ 0.0110,  0.0209,  0.5217,  ...,  0.1708,  0.4813, -0.0729],\n",
       "         [-0.7028,  0.9683,  0.2198,  ..., -0.6718, -0.0692, -0.1558],\n",
       "         ...,\n",
       "         [-0.8491,  0.2003,  0.4015,  ..., -0.3066,  0.0556,  1.1093],\n",
       "         [-1.4605, -0.0676,  0.0766,  ...,  0.1253, -0.0347,  0.1681],\n",
       "         [ 0.4334,  0.2938, -0.3541,  ...,  0.0316, -0.4967, -0.3286]]],\n",
       "       grad_fn=<NativeLayerNormBackward0>)"
      ]
     },
     "execution_count": 6,
     "metadata": {},
     "output_type": "execute_result"
    }
   ],
   "source": [
    "last_hidden_states"
   ]
  },
  {
   "cell_type": "code",
   "execution_count": 7,
   "id": "f5b93932-9951-4e7d-a408-2343441965da",
   "metadata": {
    "tags": []
   },
   "outputs": [
    {
     "name": "stderr",
     "output_type": "stream",
     "text": [
      "Some weights of the model checkpoint at bert-base-uncased were not used when initializing BertModel: ['cls.seq_relationship.bias', 'cls.seq_relationship.weight', 'cls.predictions.bias', 'cls.predictions.transform.dense.bias', 'cls.predictions.transform.LayerNorm.bias', 'cls.predictions.transform.LayerNorm.weight', 'cls.predictions.decoder.weight', 'cls.predictions.transform.dense.weight']\n",
      "- This IS expected if you are initializing BertModel from the checkpoint of a model trained on another task or with another architecture (e.g. initializing a BertForSequenceClassification model from a BertForPreTraining model).\n",
      "- This IS NOT expected if you are initializing BertModel from the checkpoint of a model that you expect to be exactly identical (initializing a BertForSequenceClassification model from a BertForSequenceClassification model).\n",
      "  0%|          | 0/34250 [00:00<?, ?it/s]"
     ]
    },
    {
     "name": "stdout",
     "output_type": "stream",
     "text": [
      "huggingface/tokenizers: The current process just got forked, after parallelism has already been used. Disabling parallelism to avoid deadlocks...\n",
      "To disable this warning, you can either:\n",
      "\t- Avoid using `tokenizers` before the fork if possible\n",
      "\t- Explicitly set the environment variable TOKENIZERS_PARALLELISM=(true | false)\n",
      "huggingface/tokenizers: The current process just got forked, after parallelism has already been used. Disabling parallelism to avoid deadlocks...\n",
      "To disable this warning, you can either:\n",
      "\t- Avoid using `tokenizers` before the fork if possible\n",
      "\t- Explicitly set the environment variable TOKENIZERS_PARALLELISM=(true | false)\n",
      "huggingface/tokenizers: The current process just got forked, after parallelism has already been used. Disabling parallelism to avoid deadlocks...\n",
      "To disable this warning, you can either:\n",
      "\t- Avoid using `tokenizers` before the fork if possible\n",
      "\t- Explicitly set the environment variable TOKENIZERS_PARALLELISM=(true | false)\n",
      "huggingface/tokenizers: The current process just got forked, after parallelism has already been used. Disabling parallelism to avoid deadlocks...\n",
      "To disable this warning, you can either:\n",
      "\t- Avoid using `tokenizers` before the fork if possible\n",
      "\t- Explicitly set the environment variable TOKENIZERS_PARALLELISM=(true | false)\n"
     ]
    },
    {
     "name": "stderr",
     "output_type": "stream",
     "text": [
      "100%|█████████▉| 34243/34250 [06:25<00:00, 89.88it/s]"
     ]
    },
    {
     "name": "stdout",
     "output_type": "stream",
     "text": [
      "\t- Avoid using `tokenizers` before the fork if possible\n",
      "\t- Explicitly set the environment variable TOKENIZERS_PARALLELISM=(true | false)\n"
     ]
    },
    {
     "name": "stderr",
     "output_type": "stream",
     "text": [
      "100%|██████████| 34250/34250 [06:26<00:00, 88.73it/s]\n"
     ]
    }
   ],
   "source": [
    "DEVICE = 'cuda'\n",
    "bert_pretrain_model = BERTPreTrainedEmbeddingsShopeeNet()\n",
    "bert_pretrain_model.to(DEVICE)\n",
    "\n",
    "text_embeddings = []\n",
    "with torch.no_grad():\n",
    "    for data in tqdm(text_loader):\n",
    "        # data is a tuple\n",
    "        data = data[0]\n",
    "        \n",
    "        # Check if a GPU is available\n",
    "        if torch.cuda.is_available():\n",
    "            # Move the inputs to the GPU\n",
    "            data = {name: tensor.to('cuda') for name, tensor in data.items()}\n",
    "        else:\n",
    "            print('GPU not available')\n",
    "        \n",
    "        embeddings = bert_pretrain_model(data)\n",
    "        embeddings = embeddings.data.cpu().numpy()\n",
    "        text_embeddings.extend(embeddings)"
   ]
  },
  {
   "cell_type": "code",
   "execution_count": 8,
   "id": "dc5921bf-4776-436b-ae4e-4c98c05ea300",
   "metadata": {
    "tags": []
   },
   "outputs": [
    {
     "data": {
      "text/plain": [
       "(34250, 768)"
      ]
     },
     "execution_count": 8,
     "metadata": {},
     "output_type": "execute_result"
    }
   ],
   "source": [
    "text_embeddings = np.stack(text_embeddings)\n",
    "norms = np.linalg.norm(text_embeddings, axis=1)\n",
    "text_embeddings = text_embeddings / norms[:, np.newaxis]\n",
    "text_embeddings.shape"
   ]
  },
  {
   "cell_type": "code",
   "execution_count": 9,
   "id": "8248370c-e021-4530-88ac-efc674208b73",
   "metadata": {
    "tags": []
   },
   "outputs": [],
   "source": [
    "np.save('./text_embeddings', text_embeddings)"
   ]
  },
  {
   "cell_type": "code",
   "execution_count": 10,
   "id": "a66b4728-e22b-43cd-9595-681d48d86026",
   "metadata": {
    "tags": []
   },
   "outputs": [
    {
     "name": "stdout",
     "output_type": "stream",
     "text": [
      "huggingface/tokenizers: The current process just got forked, after parallelism has already been used. Disabling parallelism to avoid deadlocks...\n",
      "To disable this warning, you can either:\n",
      "\t- Avoid using `tokenizers` before the fork if possible\n",
      "\t- Explicitly set the environment variable TOKENIZERS_PARALLELISM=(true | false)\n",
      "Reading package lists... Done\n",
      "Building dependency tree... Done\n",
      "Reading state information... Done\n",
      "\u001b[1;31mE: \u001b[0mUnable to locate package libomp-dev\u001b[0m\n",
      "huggingface/tokenizers: The current process just got forked, after parallelism has already been used. Disabling parallelism to avoid deadlocks...\n",
      "To disable this warning, you can either:\n",
      "\t- Avoid using `tokenizers` before the fork if possible\n",
      "\t- Explicitly set the environment variable TOKENIZERS_PARALLELISM=(true | false)\n",
      "Collecting faiss-gpu==1.7.2\n",
      "  Downloading faiss_gpu-1.7.2-cp310-cp310-manylinux_2_17_x86_64.manylinux2014_x86_64.whl (85.5 MB)\n",
      "\u001b[2K     \u001b[90m━━━━━━━━━━━━━━━━━━━━━━━━━━━━━━━━━━━━━━━━\u001b[0m \u001b[32m85.5/85.5 MB\u001b[0m \u001b[31m15.2 MB/s\u001b[0m eta \u001b[36m0:00:00\u001b[0m00:01\u001b[0m00:01\u001b[0m\n",
      "\u001b[?25hInstalling collected packages: faiss-gpu\n",
      "Successfully installed faiss-gpu-1.7.2\n",
      "\u001b[33mWARNING: Running pip as the 'root' user can result in broken permissions and conflicting behaviour with the system package manager. It is recommended to use a virtual environment instead: https://pip.pypa.io/warnings/venv\u001b[0m\u001b[33m\n",
      "\u001b[0m"
     ]
    }
   ],
   "source": [
    "!apt install libomp-dev\n",
    "!python -m pip install --upgrade faiss-gpu==1.7.2\n",
    "import faiss"
   ]
  },
  {
   "cell_type": "code",
   "execution_count": 13,
   "id": "e18cf700-20f7-42ac-bbf9-5179e0a4f916",
   "metadata": {
    "tags": []
   },
   "outputs": [],
   "source": [
    "k = 100\n",
    "res = faiss.StandardGpuResources()\n",
    "index_text = faiss.IndexFlatIP(text_embeddings.shape[1])\n",
    "# index_img = faiss.index_cpu_to_gpu(res, 0, index_img)\n",
    "index_text.add(text_embeddings)\n",
    "similarities_text, indexes_text = index_text.search(text_embeddings, k)"
   ]
  },
  {
   "cell_type": "code",
   "execution_count": 17,
   "id": "419debf1-56b9-4ea3-bee9-2b5386c59a81",
   "metadata": {
    "tags": []
   },
   "outputs": [
    {
     "name": "stderr",
     "output_type": "stream",
     "text": [
      "100%|██████████| 15/15 [02:45<00:00, 11.00s/it]\n"
     ]
    }
   ],
   "source": [
    "def calc_f1_score(targets, results):\n",
    "    intersect = len(np.intersect1d(targets, results))\n",
    "    return 2 * intersect / (len(targets) + len(results))\n",
    "\n",
    "\n",
    "def process_for_threshold(similarities, indexes, threshold, embeddings):\n",
    "    f1_score_accumulated = 0\n",
    "    for i in range(len(embeddings)):\n",
    "        cur_sims = similarities[i]\n",
    "        cur_indexes = indexes[i]\n",
    "        duplicate_indexes = cur_indexes[cur_sims >= threshold]\n",
    "        results = df.iloc[duplicate_indexes]['posting_id'].values\n",
    "        targets = df.iloc[i]['target']\n",
    "        f1_score = calc_f1_score(targets, results)\n",
    "        f1_score_accumulated += f1_score\n",
    "    return f1_score_accumulated / len(embeddings)\n",
    "\n",
    "\n",
    "thresholds = np.arange(0.85, 0.99, 0.01)\n",
    "f1_avg_scores = []\n",
    "for threshold in tqdm(thresholds):\n",
    "    f1_avg = process_for_threshold(similarities_text, indexes_text, threshold, text_embeddings)\n",
    "    f1_avg_scores.append(f1_avg)"
   ]
  },
  {
   "cell_type": "code",
   "execution_count": 18,
   "id": "a238be5c-1b85-454f-bdd5-06ba3c1237d2",
   "metadata": {
    "tags": []
   },
   "outputs": [
    {
     "ename": "ModuleNotFoundError",
     "evalue": "No module named 'matplotlib'",
     "output_type": "error",
     "traceback": [
      "\u001b[0;31m---------------------------------------------------------------------------\u001b[0m",
      "\u001b[0;31mModuleNotFoundError\u001b[0m                       Traceback (most recent call last)",
      "Cell \u001b[0;32mIn[18], line 1\u001b[0m\n\u001b[0;32m----> 1\u001b[0m \u001b[38;5;28;01mimport\u001b[39;00m \u001b[38;5;21;01mmatplotlib\u001b[39;00m\u001b[38;5;21;01m.\u001b[39;00m\u001b[38;5;21;01mpyplot\u001b[39;00m \u001b[38;5;28;01mas\u001b[39;00m \u001b[38;5;21;01mplt\u001b[39;00m\n\u001b[1;32m      3\u001b[0m plt\u001b[38;5;241m.\u001b[39mplot(thresholds, f1_avg_scores)\n\u001b[1;32m      5\u001b[0m \u001b[38;5;66;03m# Add labels and title\u001b[39;00m\n",
      "\u001b[0;31mModuleNotFoundError\u001b[0m: No module named 'matplotlib'"
     ]
    }
   ],
   "source": [
    "import matplotlib.pyplot as plt\n",
    "\n",
    "plt.plot(thresholds, f1_avg_scores)\n",
    "\n",
    "# Add labels and title\n",
    "plt.xlabel('Threshold for cosine similarity')\n",
    "plt.ylabel('Average F1-score')\n",
    "plt.title('F1-score vs threshold for cosine image similarity')\n",
    "plt.grid(True)\n",
    "\n",
    "max_f1 = max(f1_avg_scores)\n",
    "max_threshold = thresholds[np.argmax(f1_avg_scores)]\n",
    "\n",
    "# plt.annotate(f\"{max_f1}\", xy=(max_threshold, max_f1), xytext=(max_threshold, max_f1-0.05),\n",
    "#              arrowprops=dict(facecolor='black', shrink=0.2), horizontalalignment = 'center')\n",
    "\n",
    "# Save the plot to a file\n",
    "plt.savefig('cnn-baseline-thresholds.png')"
   ]
  },
  {
   "cell_type": "code",
   "execution_count": null,
   "id": "010698e4-5e64-4e5c-9bc8-5b70fdb23760",
   "metadata": {},
   "outputs": [],
   "source": [
    "print(f\"Max f1-score: {max_f1}, threshold: {max_threshold}\") "
   ]
  }
 ],
 "metadata": {
  "instance_type": "ml.g4dn.xlarge",
  "kernelspec": {
   "display_name": "Python 3 (Base Python 3.0)",
   "language": "python",
   "name": "python3__SAGEMAKER_INTERNAL__arn:aws:sagemaker:us-east-1:081325390199:image/sagemaker-base-python-310-v1"
  },
  "language_info": {
   "codemirror_mode": {
    "name": "ipython",
    "version": 3
   },
   "file_extension": ".py",
   "mimetype": "text/x-python",
   "name": "python",
   "nbconvert_exporter": "python",
   "pygments_lexer": "ipython3",
   "version": "3.10.8"
  }
 },
 "nbformat": 4,
 "nbformat_minor": 5
}
