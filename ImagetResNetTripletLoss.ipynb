{
 "cells": [
  {
   "cell_type": "code",
   "execution_count": 1,
   "metadata": {
    "tags": []
   },
   "outputs": [
    {
     "name": "stdout",
     "output_type": "stream",
     "text": [
      "Looking in indexes: https://pypi.org/simple, https://pip.repos.neuron.amazonaws.com\n",
      "Requirement already satisfied: albumentations in /home/ec2-user/anaconda3/envs/pytorch_p39/lib/python3.9/site-packages (1.3.0)\n",
      "Requirement already satisfied: opencv-python-headless>=4.1.1 in /home/ec2-user/anaconda3/envs/pytorch_p39/lib/python3.9/site-packages (from albumentations) (4.7.0.72)\n",
      "Requirement already satisfied: qudida>=0.0.4 in /home/ec2-user/anaconda3/envs/pytorch_p39/lib/python3.9/site-packages (from albumentations) (0.0.4)\n",
      "Requirement already satisfied: numpy>=1.11.1 in /home/ec2-user/anaconda3/envs/pytorch_p39/lib/python3.9/site-packages (from albumentations) (1.23.5)\n",
      "Requirement already satisfied: scikit-image>=0.16.1 in /home/ec2-user/anaconda3/envs/pytorch_p39/lib/python3.9/site-packages (from albumentations) (0.19.3)\n",
      "Requirement already satisfied: scipy in /home/ec2-user/anaconda3/envs/pytorch_p39/lib/python3.9/site-packages (from albumentations) (1.8.1)\n",
      "Requirement already satisfied: PyYAML in /home/ec2-user/anaconda3/envs/pytorch_p39/lib/python3.9/site-packages (from albumentations) (5.4.1)\n",
      "Requirement already satisfied: scikit-learn>=0.19.1 in /home/ec2-user/anaconda3/envs/pytorch_p39/lib/python3.9/site-packages (from qudida>=0.0.4->albumentations) (1.0)\n",
      "Requirement already satisfied: typing-extensions in /home/ec2-user/anaconda3/envs/pytorch_p39/lib/python3.9/site-packages (from qudida>=0.0.4->albumentations) (4.4.0)\n",
      "Requirement already satisfied: networkx>=2.2 in /home/ec2-user/anaconda3/envs/pytorch_p39/lib/python3.9/site-packages (from scikit-image>=0.16.1->albumentations) (3.0)\n",
      "Requirement already satisfied: packaging>=20.0 in /home/ec2-user/anaconda3/envs/pytorch_p39/lib/python3.9/site-packages (from scikit-image>=0.16.1->albumentations) (21.3)\n",
      "Requirement already satisfied: tifffile>=2019.7.26 in /home/ec2-user/anaconda3/envs/pytorch_p39/lib/python3.9/site-packages (from scikit-image>=0.16.1->albumentations) (2022.10.10)\n",
      "Requirement already satisfied: pillow!=7.1.0,!=7.1.1,!=8.3.0,>=6.1.0 in /home/ec2-user/anaconda3/envs/pytorch_p39/lib/python3.9/site-packages (from scikit-image>=0.16.1->albumentations) (9.2.0)\n",
      "Requirement already satisfied: PyWavelets>=1.1.1 in /home/ec2-user/anaconda3/envs/pytorch_p39/lib/python3.9/site-packages (from scikit-image>=0.16.1->albumentations) (1.4.1)\n",
      "Requirement already satisfied: imageio>=2.4.1 in /home/ec2-user/anaconda3/envs/pytorch_p39/lib/python3.9/site-packages (from scikit-image>=0.16.1->albumentations) (2.16.2)\n",
      "Requirement already satisfied: pyparsing!=3.0.5,>=2.0.2 in /home/ec2-user/anaconda3/envs/pytorch_p39/lib/python3.9/site-packages (from packaging>=20.0->scikit-image>=0.16.1->albumentations) (3.0.9)\n",
      "Requirement already satisfied: joblib>=0.11 in /home/ec2-user/anaconda3/envs/pytorch_p39/lib/python3.9/site-packages (from scikit-learn>=0.19.1->qudida>=0.0.4->albumentations) (1.2.0)\n",
      "Requirement already satisfied: threadpoolctl>=2.0.0 in /home/ec2-user/anaconda3/envs/pytorch_p39/lib/python3.9/site-packages (from scikit-learn>=0.19.1->qudida>=0.0.4->albumentations) (3.1.0)\n",
      "Looking in indexes: https://pypi.org/simple, https://pip.repos.neuron.amazonaws.com\n",
      "Requirement already satisfied: transformers in /home/ec2-user/anaconda3/envs/pytorch_p39/lib/python3.9/site-packages (4.28.1)\n",
      "Requirement already satisfied: tqdm>=4.27 in /home/ec2-user/anaconda3/envs/pytorch_p39/lib/python3.9/site-packages (from transformers) (4.63.2)\n",
      "Requirement already satisfied: filelock in /home/ec2-user/anaconda3/envs/pytorch_p39/lib/python3.9/site-packages (from transformers) (3.6.0)\n",
      "Requirement already satisfied: numpy>=1.17 in /home/ec2-user/anaconda3/envs/pytorch_p39/lib/python3.9/site-packages (from transformers) (1.23.5)\n",
      "Requirement already satisfied: tokenizers!=0.11.3,<0.14,>=0.11.1 in /home/ec2-user/anaconda3/envs/pytorch_p39/lib/python3.9/site-packages (from transformers) (0.13.3)\n",
      "Requirement already satisfied: pyyaml>=5.1 in /home/ec2-user/anaconda3/envs/pytorch_p39/lib/python3.9/site-packages (from transformers) (5.4.1)\n",
      "Requirement already satisfied: packaging>=20.0 in /home/ec2-user/anaconda3/envs/pytorch_p39/lib/python3.9/site-packages (from transformers) (21.3)\n",
      "Requirement already satisfied: requests in /home/ec2-user/anaconda3/envs/pytorch_p39/lib/python3.9/site-packages (from transformers) (2.27.1)\n",
      "Requirement already satisfied: huggingface-hub<1.0,>=0.11.0 in /home/ec2-user/anaconda3/envs/pytorch_p39/lib/python3.9/site-packages (from transformers) (0.14.1)\n",
      "Requirement already satisfied: regex!=2019.12.17 in /home/ec2-user/anaconda3/envs/pytorch_p39/lib/python3.9/site-packages (from transformers) (2022.10.31)\n",
      "Requirement already satisfied: typing-extensions>=3.7.4.3 in /home/ec2-user/anaconda3/envs/pytorch_p39/lib/python3.9/site-packages (from huggingface-hub<1.0,>=0.11.0->transformers) (4.4.0)\n",
      "Requirement already satisfied: fsspec in /home/ec2-user/anaconda3/envs/pytorch_p39/lib/python3.9/site-packages (from huggingface-hub<1.0,>=0.11.0->transformers) (2022.11.0)\n",
      "Requirement already satisfied: pyparsing!=3.0.5,>=2.0.2 in /home/ec2-user/anaconda3/envs/pytorch_p39/lib/python3.9/site-packages (from packaging>=20.0->transformers) (3.0.9)\n",
      "Requirement already satisfied: charset-normalizer~=2.0.0 in /home/ec2-user/anaconda3/envs/pytorch_p39/lib/python3.9/site-packages (from requests->transformers) (2.0.12)\n",
      "Requirement already satisfied: idna<4,>=2.5 in /home/ec2-user/anaconda3/envs/pytorch_p39/lib/python3.9/site-packages (from requests->transformers) (3.4)\n",
      "Requirement already satisfied: urllib3<1.27,>=1.21.1 in /home/ec2-user/anaconda3/envs/pytorch_p39/lib/python3.9/site-packages (from requests->transformers) (1.26.8)\n",
      "Requirement already satisfied: certifi>=2017.4.17 in /home/ec2-user/anaconda3/envs/pytorch_p39/lib/python3.9/site-packages (from requests->transformers) (2022.12.7)\n",
      "/bin/sh: apt: command not found\n",
      "Looking in indexes: https://pypi.org/simple, https://pip.repos.neuron.amazonaws.com\n",
      "Requirement already satisfied: faiss-gpu==1.7.2 in /home/ec2-user/anaconda3/envs/pytorch_p39/lib/python3.9/site-packages (1.7.2)\n"
     ]
    }
   ],
   "source": [
    "!pip install albumentations\n",
    "!pip install transformers\n",
    "!apt install libomp-dev\n",
    "!python -m pip install --upgrade faiss-gpu==1.7.2"
   ]
  },
  {
   "cell_type": "code",
   "execution_count": 2,
   "metadata": {
    "tags": []
   },
   "outputs": [
    {
     "name": "stderr",
     "output_type": "stream",
     "text": [
      "/home/ec2-user/anaconda3/envs/pytorch_p39/lib/python3.9/site-packages/requests/__init__.py:102: RequestsDependencyWarning: urllib3 (1.26.8) or chardet (5.1.0)/charset_normalizer (2.0.12) doesn't match a supported version!\n",
      "  warnings.warn(\"urllib3 ({}) or chardet ({})/charset_normalizer ({}) doesn't match a supported \"\n"
     ]
    },
    {
     "name": "stdout",
     "output_type": "stream",
     "text": [
      "/home/ec2-user/SageMaker/dl-ecommerce-duplicates\n"
     ]
    }
   ],
   "source": [
    "import math\n",
    "from tqdm import tqdm\n",
    "import os\n",
    "import pandas as pd\n",
    "import numpy as np\n",
    "from sklearn.preprocessing import LabelEncoder\n",
    "\n",
    "# Visuals and CV2\n",
    "import cv2\n",
    "\n",
    "# albumentations for augs\n",
    "import albumentations\n",
    "from albumentations.pytorch.transforms import ToTensorV2\n",
    "\n",
    "from sklearn.model_selection import KFold, train_test_split\n",
    "\n",
    "#torch\n",
    "import torch\n",
    "import torch.nn as nn\n",
    "from torch.nn import Parameter\n",
    "from torch.nn import functional as F\n",
    "from torch.utils.data import Dataset,DataLoader\n",
    "from torch.optim import Adam\n",
    "from torch.optim.lr_scheduler import _LRScheduler\n",
    "from torch.optim import Adam, lr_scheduler\n",
    "\n",
    "import transformers\n",
    "from transformers import AdamW\n",
    "from transformers import get_linear_schedule_with_warmup,get_cosine_schedule_with_warmup\n",
    "from transformers import get_cosine_with_hard_restarts_schedule_with_warmup\n",
    "from sklearn.model_selection import GroupKFold\n",
    "%cd '/home/ec2-user/SageMaker/dl-ecommerce-duplicates/'\n",
    "from modules.datasets.TextTripletLossShopeeDataset import TextTripletLossShopeeDataset\n",
    "from modules.models.BertWithArcFace import BertWithArcFace\n",
    "from modules.utils.training_utils import train_triplet_fn,valid_triplet_fn\n",
    "import faiss\n",
    "import gc\n",
    "from modules.utils.EmbeddingsProducer import EmbeddingsProducer\n",
    "from modules.utils.F1ScoreEvaluator import F1ScoreEvaluator\n",
    "from modules.utils.CommonVIsualizer import CommonVisualizer\n",
    "from modules.losses.TripletLoss import TripletLoss\n",
    "import os\n",
    "import torchvision.transforms as transforms\n",
    "from modules.datasets.ImageTripletLossShopeeDataset import ImageTripletLossShopeeDataset\n",
    "from torchvision.models import resnet18\n",
    "import torch.optim as optim\n",
    "from modules.models.ResNet18EmbeddingsShopeeNet import ResNet18EmbeddingsShopeeNet\n",
    "from modules.datasets.ImageShopeeDataset import ImageShopeeDataset"
   ]
  },
  {
   "cell_type": "markdown",
   "metadata": {
    "tags": []
   },
   "source": [
    "# Configuration"
   ]
  },
  {
   "cell_type": "code",
   "execution_count": 3,
   "metadata": {
    "tags": []
   },
   "outputs": [],
   "source": [
    "NUM_WORKERS = 4\n",
    "BATCH_SIZE = 32\n",
    "EPOCHS = 10\n",
    "SEED = 2020\n",
    "LR = 5e-5\n",
    "thresholds = np.arange(0.4, 0.99, 0.05)\n",
    "device = torch.device('cuda')\n",
    "\n",
    "################################################# MODEL ####################################################################\n",
    "\n",
    "transformer_model = 'sentence-transformers/paraphrase-xlm-r-multilingual-v1'\n",
    "TOKENIZER = transformers.AutoTokenizer.from_pretrained(transformer_model)\n",
    "\n",
    "################################################ Metric Loss and its params #######################################################\n",
    "loss_module = 'arcface'#'softmax'\n",
    "s = 30.0\n",
    "m = 0.5 \n",
    "ls_eps = 0.0\n",
    "easy_margin = False\n",
    "\n",
    "############################################################################################################################\n",
    "model_params = {\n",
    "    'n_classes':11014,\n",
    "    'model_name':transformer_model,\n",
    "    'pooling':'clf',\n",
    "    'use_fc':False,\n",
    "    'fc_dim':512,\n",
    "    'dropout':0.0,\n",
    "    'loss_module':loss_module,\n",
    "    's':30.0,\n",
    "    'margin':0.50,\n",
    "    'ls_eps':0.0,\n",
    "    'theta_zero':0.785,\n",
    "    'mode_train':True\n",
    "}\n",
    "class CFG:\n",
    "    IMG_SZ = 512\n",
    "    TRAIN_RATIO = 0.8\n",
    "    EPOCHS = 10\n",
    "    MARGIN = 0.75\n",
    "    \n"
   ]
  },
  {
   "cell_type": "markdown",
   "metadata": {},
   "source": [
    "# Some Helper Functions"
   ]
  },
  {
   "cell_type": "code",
   "execution_count": 4,
   "metadata": {
    "tags": []
   },
   "outputs": [],
   "source": [
    "def read_dataset(file):\n",
    "    df = pd.read_csv(file)\n",
    "    tmp = df.groupby(['label_group'])['posting_id'].unique().to_dict()\n",
    "    df['target'] = df['label_group'].map(tmp)\n",
    "    df['target'] = df['target'].apply(lambda x: ' '.join(x))\n",
    "    grouped = df.groupby('label_group')['posting_id'].apply(list)\n",
    "    df['target'] = df['label_group'].map(grouped)\n",
    "    return df"
   ]
  },
  {
   "cell_type": "code",
   "execution_count": 5,
   "metadata": {
    "tags": []
   },
   "outputs": [],
   "source": [
    "def train(model, train_loader, optimizer, criterion, epoch, device):\n",
    "    # Create an empty DataFrame with the desired column names\n",
    "    train_loss_df = pd.DataFrame(columns=['Epoch', 'Train_Loss'])\n",
    "    valid_loss_df = pd.DataFrame(columns=['Epoch', 'Valid_Loss'])\n",
    "    \n",
    "    # THE ENGINE LOOP\n",
    "    # best_loss = 10000\n",
    "    for epoch in range(epoch):\n",
    "        model.train()\n",
    "        train_loss = 0\n",
    "        for batch_idx, data in enumerate(train_loader):\n",
    "            anchor, positive, negative, target = data\n",
    "            anchor, positive, negative, target = anchor.to(device), positive.to(device), negative.to(device), target.to(device)\n",
    "            optimizer.zero_grad()\n",
    "            anchor = model(anchor)\n",
    "            positive = model(positive)\n",
    "            negative = model(negative)\n",
    "            loss = criterion(anchor, positive, negative)\n",
    "            loss.backward()\n",
    "            optimizer.step()\n",
    "            train_loss += loss.item()\n",
    "\n",
    "            if batch_idx % 100 == 0:\n",
    "                print('Train Epoch: {} [{}/{} ({:.0f}%)]\\tLoss: {:.6f}'.format(\n",
    "                    epoch, batch_idx * len(data), len(train_loader.dataset),\n",
    "                    100. * batch_idx / len(train_loader), loss.item()))\n",
    "\n",
    "        print('====> Epoch: {} Average loss: {:.4f}'.format(\n",
    "              epoch, train_loss / len(train_loader.dataset)))\n",
    "\n",
    "        ## Validation\n",
    "        val_loss = 0.0\n",
    "        model.eval()\n",
    "        valid_enumerator = enumerate(valid_loader, 0)\n",
    "        for i, data in valid_enumerator:\n",
    "            with torch.no_grad():\n",
    "                anchor, positive, negative, target = data\n",
    "                anchor, positive, negative, target = anchor.to(device), positive.to(device), negative.to(device), target.to(device)\n",
    "                optimizer.zero_grad()\n",
    "                anchor = model(anchor)\n",
    "                positive = model(positive)\n",
    "                negative = model(negative)\n",
    "                loss = criterion(anchor, positive, negative)\n",
    "                val_loss += loss.cpu().numpy()\n",
    "\n",
    "        # Append a row to the DataFrame with the epoch number and loss]\n",
    "        train_loss_df = train_loss_df.append({'Epoch': epoch, 'Train_Loss': train_loss}, ignore_index=True)\n",
    "        valid_loss_df = valid_loss_df.append({'Epoch': epoch, 'Valid_Loss': val_loss}, ignore_index=True)\n",
    "\n",
    "        torch.save(model.state_dict(), f'results/resnet_triplet_epoch_{epoch}.bin')\n",
    "    \n",
    "    return model, train_loss_df,valid_loss_df"
   ]
  },
  {
   "cell_type": "markdown",
   "metadata": {
    "tags": []
   },
   "source": [
    "# TRAIN"
   ]
  },
  {
   "cell_type": "code",
   "execution_count": 6,
   "metadata": {
    "tags": []
   },
   "outputs": [],
   "source": [
    "def append_string(df,image,anchor,positive,negative):\n",
    "    append_string = \"../shopee-product-matching/train_images/\"\n",
    "    df[image] = append_string + df[image]\n",
    "    df[anchor] = append_string + df[anchor]\n",
    "    df[positive] = append_string + df[positive]\n",
    "    df[negative] = append_string + df[negative]\n",
    "    return df\n",
    "    "
   ]
  },
  {
   "cell_type": "code",
   "execution_count": 7,
   "metadata": {
    "tags": []
   },
   "outputs": [],
   "source": [
    "#Training Data Set\n",
    "file = '../shopee-product-matching/image_triplets/train80.csv'\n",
    "train_df = read_dataset(file)\n",
    "train_df = append_string(train_df,'image','anchor','positive','negative')\n",
    "train_df['label_group'] = LabelEncoder().fit_transform(train_df['label_group'])\n",
    "\n",
    "#Validation Dataset\n",
    "file = '../shopee-product-matching/image_triplets/valid20.csv'\n",
    "valid_df = read_dataset(file)\n",
    "valid_df = append_string(valid_df,'image','anchor','positive','negative')\n",
    "valid_df['label_group'] = LabelEncoder().fit_transform(valid_df['label_group'])\n",
    "\n",
    "#Full Dataset\n",
    "file = '../shopee-product-matching/image_triplets/train_triplets_images.csv'\n",
    "full_df = read_dataset(file)\n",
    "full_df = append_string(full_df,'image','anchor','positive','negative')\n",
    "full_df['label_group'] = LabelEncoder().fit_transform(full_df['label_group'])"
   ]
  },
  {
   "cell_type": "code",
   "execution_count": 8,
   "metadata": {
    "tags": []
   },
   "outputs": [],
   "source": [
    "# train_df = train_df.head(10000)\n",
    "# valid_df = valid_df.head(1000)"
   ]
  },
  {
   "cell_type": "code",
   "execution_count": 8,
   "metadata": {
    "tags": []
   },
   "outputs": [],
   "source": [
    "train_transforms = transforms.Compose([\n",
    "        transforms.Resize((CFG.IMG_SZ, CFG.IMG_SZ)),\n",
    "        transforms.RandomPosterize(bits=2, p=0.3),\n",
    "        transforms.RandomHorizontalFlip(p=0.4),\n",
    "        transforms.RandomAutocontrast(p=0.3),\n",
    "        transforms.ToTensor(),\n",
    "        transforms.Normalize([0.485, 0.456, 0.406], [0.229, 0.224, 0.225])\n",
    "    ])\n",
    "\n",
    "valid_transforms = transforms.Compose([\n",
    "        transforms.Resize((CFG.IMG_SZ, CFG.IMG_SZ)),\n",
    "        transforms.ToTensor(),\n",
    "        transforms.Normalize([0.485, 0.456, 0.406], [0.229, 0.224, 0.225])\n",
    "    ])\n",
    "\n",
    "train_dataset = ImageTripletLossShopeeDataset(\n",
    "    train_df['anchor'].values,\n",
    "    train_df['positive'].values,\n",
    "    train_df['negative'].values,\n",
    "    train_df['label_group'].values,\n",
    "    train_transforms,\n",
    ")\n",
    "\n",
    "valid_dataset = ImageTripletLossShopeeDataset(\n",
    "    valid_df['anchor'].values,\n",
    "    valid_df['positive'].values,\n",
    "    valid_df['negative'].values,\n",
    "    valid_df['label_group'].values,\n",
    "    valid_transforms,\n",
    ")\n",
    "\n",
    "\n",
    "#Batch train loder\n",
    "train_loader = torch.utils.data.DataLoader(\n",
    "    train_dataset,\n",
    "    batch_size=BATCH_SIZE,\n",
    "    pin_memory=True,\n",
    "    drop_last=True,\n",
    "    num_workers=NUM_WORKERS\n",
    ")\n",
    "\n",
    "#Batch train loder\n",
    "valid_loader = torch.utils.data.DataLoader(\n",
    "    valid_dataset,\n",
    "    batch_size=BATCH_SIZE,\n",
    "    pin_memory=True,\n",
    "    drop_last=True,\n",
    "    num_workers=NUM_WORKERS\n",
    ")"
   ]
  },
  {
   "cell_type": "code",
   "execution_count": 9,
   "metadata": {
    "tags": []
   },
   "outputs": [
    {
     "name": "stdout",
     "output_type": "stream",
     "text": [
      "Train Epoch: 0 [0/27399 (0%)]\tLoss: 7.335422\n",
      "Train Epoch: 0 [400/27399 (12%)]\tLoss: 0.966087\n",
      "Train Epoch: 0 [800/27399 (23%)]\tLoss: 1.068487\n",
      "Train Epoch: 0 [1200/27399 (35%)]\tLoss: 0.931978\n",
      "Train Epoch: 0 [1600/27399 (47%)]\tLoss: 0.950140\n",
      "Train Epoch: 0 [2000/27399 (58%)]\tLoss: 1.053231\n",
      "Train Epoch: 0 [2400/27399 (70%)]\tLoss: 0.990470\n",
      "Train Epoch: 0 [2800/27399 (82%)]\tLoss: 1.019809\n",
      "Train Epoch: 0 [3200/27399 (93%)]\tLoss: 0.995268\n",
      "====> Epoch: 0 Average loss: 0.0368\n"
     ]
    },
    {
     "name": "stderr",
     "output_type": "stream",
     "text": [
      "/tmp/ipykernel_25872/1416028851.py:47: FutureWarning: The frame.append method is deprecated and will be removed from pandas in a future version. Use pandas.concat instead.\n",
      "  train_loss_df = train_loss_df.append({'Epoch': epoch, 'Train_Loss': train_loss}, ignore_index=True)\n",
      "/tmp/ipykernel_25872/1416028851.py:48: FutureWarning: The frame.append method is deprecated and will be removed from pandas in a future version. Use pandas.concat instead.\n",
      "  valid_loss_df = valid_loss_df.append({'Epoch': epoch, 'Valid_Loss': val_loss}, ignore_index=True)\n"
     ]
    },
    {
     "name": "stdout",
     "output_type": "stream",
     "text": [
      "Train Epoch: 1 [0/27399 (0%)]\tLoss: 1.006023\n",
      "Train Epoch: 1 [400/27399 (12%)]\tLoss: 0.994645\n",
      "Train Epoch: 1 [800/27399 (23%)]\tLoss: 1.008831\n",
      "Train Epoch: 1 [1200/27399 (35%)]\tLoss: 0.989296\n",
      "Train Epoch: 1 [1600/27399 (47%)]\tLoss: 1.002705\n",
      "Train Epoch: 1 [2000/27399 (58%)]\tLoss: 0.932815\n",
      "Train Epoch: 1 [2400/27399 (70%)]\tLoss: 1.008507\n",
      "Train Epoch: 1 [2800/27399 (82%)]\tLoss: 1.002258\n",
      "Train Epoch: 1 [3200/27399 (93%)]\tLoss: 1.000372\n",
      "====> Epoch: 1 Average loss: 0.0313\n"
     ]
    },
    {
     "name": "stderr",
     "output_type": "stream",
     "text": [
      "/tmp/ipykernel_25872/1416028851.py:47: FutureWarning: The frame.append method is deprecated and will be removed from pandas in a future version. Use pandas.concat instead.\n",
      "  train_loss_df = train_loss_df.append({'Epoch': epoch, 'Train_Loss': train_loss}, ignore_index=True)\n",
      "/tmp/ipykernel_25872/1416028851.py:48: FutureWarning: The frame.append method is deprecated and will be removed from pandas in a future version. Use pandas.concat instead.\n",
      "  valid_loss_df = valid_loss_df.append({'Epoch': epoch, 'Valid_Loss': val_loss}, ignore_index=True)\n"
     ]
    },
    {
     "name": "stdout",
     "output_type": "stream",
     "text": [
      "Train Epoch: 2 [0/27399 (0%)]\tLoss: 1.002653\n",
      "Train Epoch: 2 [400/27399 (12%)]\tLoss: 1.039613\n",
      "Train Epoch: 2 [800/27399 (23%)]\tLoss: 0.996655\n",
      "Train Epoch: 2 [1200/27399 (35%)]\tLoss: 0.997976\n",
      "Train Epoch: 2 [1600/27399 (47%)]\tLoss: 0.993687\n",
      "Train Epoch: 2 [2000/27399 (58%)]\tLoss: 1.002211\n",
      "Train Epoch: 2 [2400/27399 (70%)]\tLoss: 1.029529\n",
      "Train Epoch: 2 [2800/27399 (82%)]\tLoss: 1.011267\n",
      "Train Epoch: 2 [3200/27399 (93%)]\tLoss: 1.025573\n",
      "====> Epoch: 2 Average loss: 0.0313\n"
     ]
    },
    {
     "name": "stderr",
     "output_type": "stream",
     "text": [
      "/tmp/ipykernel_25872/1416028851.py:47: FutureWarning: The frame.append method is deprecated and will be removed from pandas in a future version. Use pandas.concat instead.\n",
      "  train_loss_df = train_loss_df.append({'Epoch': epoch, 'Train_Loss': train_loss}, ignore_index=True)\n",
      "/tmp/ipykernel_25872/1416028851.py:48: FutureWarning: The frame.append method is deprecated and will be removed from pandas in a future version. Use pandas.concat instead.\n",
      "  valid_loss_df = valid_loss_df.append({'Epoch': epoch, 'Valid_Loss': val_loss}, ignore_index=True)\n"
     ]
    },
    {
     "name": "stdout",
     "output_type": "stream",
     "text": [
      "Train Epoch: 3 [0/27399 (0%)]\tLoss: 1.007714\n",
      "Train Epoch: 3 [400/27399 (12%)]\tLoss: 0.982758\n",
      "Train Epoch: 3 [800/27399 (23%)]\tLoss: 0.991456\n",
      "Train Epoch: 3 [1200/27399 (35%)]\tLoss: 0.996561\n",
      "Train Epoch: 3 [1600/27399 (47%)]\tLoss: 0.992286\n",
      "Train Epoch: 3 [2000/27399 (58%)]\tLoss: 0.984592\n",
      "Train Epoch: 3 [2400/27399 (70%)]\tLoss: 1.006083\n",
      "Train Epoch: 3 [2800/27399 (82%)]\tLoss: 1.001042\n",
      "Train Epoch: 3 [3200/27399 (93%)]\tLoss: 0.996883\n",
      "====> Epoch: 3 Average loss: 0.0313\n"
     ]
    },
    {
     "name": "stderr",
     "output_type": "stream",
     "text": [
      "/tmp/ipykernel_25872/1416028851.py:47: FutureWarning: The frame.append method is deprecated and will be removed from pandas in a future version. Use pandas.concat instead.\n",
      "  train_loss_df = train_loss_df.append({'Epoch': epoch, 'Train_Loss': train_loss}, ignore_index=True)\n",
      "/tmp/ipykernel_25872/1416028851.py:48: FutureWarning: The frame.append method is deprecated and will be removed from pandas in a future version. Use pandas.concat instead.\n",
      "  valid_loss_df = valid_loss_df.append({'Epoch': epoch, 'Valid_Loss': val_loss}, ignore_index=True)\n"
     ]
    },
    {
     "name": "stdout",
     "output_type": "stream",
     "text": [
      "Train Epoch: 4 [0/27399 (0%)]\tLoss: 1.005681\n",
      "Train Epoch: 4 [400/27399 (12%)]\tLoss: 1.000081\n",
      "Train Epoch: 4 [800/27399 (23%)]\tLoss: 1.004208\n",
      "Train Epoch: 4 [1200/27399 (35%)]\tLoss: 1.000890\n",
      "Train Epoch: 4 [1600/27399 (47%)]\tLoss: 0.999856\n",
      "Train Epoch: 4 [2000/27399 (58%)]\tLoss: 1.000956\n",
      "Train Epoch: 4 [2400/27399 (70%)]\tLoss: 1.001822\n",
      "Train Epoch: 4 [2800/27399 (82%)]\tLoss: 0.999591\n",
      "Train Epoch: 4 [3200/27399 (93%)]\tLoss: 0.999686\n",
      "====> Epoch: 4 Average loss: 0.0313\n"
     ]
    },
    {
     "name": "stderr",
     "output_type": "stream",
     "text": [
      "/tmp/ipykernel_25872/1416028851.py:47: FutureWarning: The frame.append method is deprecated and will be removed from pandas in a future version. Use pandas.concat instead.\n",
      "  train_loss_df = train_loss_df.append({'Epoch': epoch, 'Train_Loss': train_loss}, ignore_index=True)\n",
      "/tmp/ipykernel_25872/1416028851.py:48: FutureWarning: The frame.append method is deprecated and will be removed from pandas in a future version. Use pandas.concat instead.\n",
      "  valid_loss_df = valid_loss_df.append({'Epoch': epoch, 'Valid_Loss': val_loss}, ignore_index=True)\n"
     ]
    }
   ],
   "source": [
    "EPOCHS = 5\n",
    "model_name = 'resnet_triplet_10_epochs'\n",
    "model_params['loss_module'] = \"triplet\"\n",
    "train_loss_file = os.path.join('results/', model_name + '_train_loss.csv')\n",
    "valid_loss_file = os.path.join('results/', model_name + '_valid_loss.csv')\n",
    "model_file = os.path.join('results/', model_name + '.bin')\n",
    "# Define the model\n",
    "model = ResNet18EmbeddingsShopeeNet()\n",
    "# model.fc = nn.Linear(512, 128, bias=True)\n",
    "model = model.to(device)\n",
    "# Define the loss function and optimizer\n",
    "criterion = TripletLoss()\n",
    "optimizer = optim.Adam(model.parameters(), lr=0.001)\n",
    "model, train_loss_df, valid_loss_df = train(model, train_loader, optimizer, criterion, EPOCHS, device)\n",
    "torch.save(model.state_dict(), model_file)\n",
    "train_loss_df.to_csv(train_loss_file)\n",
    "valid_loss_df.to_csv(valid_loss_file)"
   ]
  },
  {
   "cell_type": "code",
   "execution_count": 10,
   "metadata": {
    "tags": []
   },
   "outputs": [],
   "source": [
    "# Validating on Train, Validation and Full Dataset"
   ]
  },
  {
   "cell_type": "code",
   "execution_count": 12,
   "metadata": {
    "tags": []
   },
   "outputs": [],
   "source": [
    "valid_transforms = transforms.Compose([\n",
    "        transforms.Resize((CFG.IMG_SZ, CFG.IMG_SZ)),\n",
    "        transforms.ToTensor(),\n",
    "        transforms.Normalize([0.485, 0.456, 0.406], [0.229, 0.224, 0.225])\n",
    "    ])\n",
    "\n",
    "train_dataset = ImageShopeeDataset(\n",
    "    train_df['image'].values,\n",
    "    valid_transforms,\n",
    ")\n",
    "\n",
    "valid_dataset = ImageShopeeDataset(\n",
    "    valid_df['image'].values,\n",
    "    valid_transforms,\n",
    ")\n",
    "\n",
    "full_dataset = ImageShopeeDataset(\n",
    "    full_df['image'].values,\n",
    "    valid_transforms,\n",
    ")\n",
    "\n",
    "train_loader = torch.utils.data.DataLoader(\n",
    "    train_dataset,\n",
    "    batch_size=64,\n",
    "    shuffle=False,\n",
    "    num_workers=0\n",
    ")\n",
    "\n",
    "valid_loader = torch.utils.data.DataLoader(\n",
    "    valid_dataset,\n",
    "    batch_size=64,\n",
    "    shuffle=False,\n",
    "    num_workers=0\n",
    ")\n",
    "\n",
    "full_loader = torch.utils.data.DataLoader(\n",
    "    full_dataset,\n",
    "    batch_size=64,\n",
    "    shuffle=False,\n",
    "    num_workers=0\n",
    ")\n",
    "\n"
   ]
  },
  {
   "cell_type": "code",
   "execution_count": 26,
   "metadata": {
    "tags": []
   },
   "outputs": [
    {
     "name": "stderr",
     "output_type": "stream",
     "text": [
      "100%|██████████| 108/108 [02:12<00:00,  1.23s/it]\n",
      "100%|██████████| 12/12 [00:34<00:00,  2.83s/it]\n",
      "No artists with labels found to put in legend.  Note that artists whose label start with an underscore are ignored when legend() is called with no argument.\n"
     ]
    },
    {
     "data": {
      "image/png": "[encoded data removed]",
      "text/plain": [
       "<Figure size 640x480 with 1 Axes>"
      ]
     },
     "metadata": {},
     "output_type": "display_data"
    },
    {
     "data": {
      "image/png": "[encoded data removed]",
      "text/plain": [
       "<Figure size 640x480 with 1 Axes>"
      ]
     },
     "metadata": {},
     "output_type": "display_data"
    },
    {
     "name": "stdout",
     "output_type": "stream",
     "text": [
      "Max f1 score 0.48183698288337734\n"
     ]
    }
   ],
   "source": [
    "model_name_val = \"resnet_triplet\"\n",
    "producer = EmbeddingsProducer(model, device)\n",
    "embeddings = producer.get_embeddings(valid_loader, normalize=True)\n",
    "embeddings = embeddings.squeeze()\n",
    "f1_avg_scores = F1ScoreEvaluator(valid_df,embeddings,k=100).get_avg_f1_scores_for_thresholds(thresholds)\n",
    "f1_avg_scores = [val*10 for val in f1_avg_scores]\n",
    "model_name_and_loss = model_name_val + \"_valid\"\n",
    "filename = os.path.join('results/', model_name_and_loss) \n",
    "model_name_and_loss = model_name_val + \"_valid\"\n",
    "CommonVisualizer().plt_f1_score_vs_threshold(thresholds = thresholds,f1_scores = f1_avg_scores,model_name_and_loss = model_name_and_loss,filename = filename)\n",
    "filename = os.path.join('results/', model_name_val + '_train_and_valid_loss') \n",
    "train_loss_df = pd.read_csv(train_loss_file)\n",
    "valid_loss_df = pd.read_csv(valid_loss_file)\n",
    "CommonVisualizer().plt_losses( train_loss_df.Train_Loss.values, valid_loss_df.Valid_Loss.values, model_name_val, model_params['loss_module'], filename)\n",
    "print(\"Max f1 score\",np.max(f1_avg_scores))"
   ]
  },
  {
   "cell_type": "code",
   "execution_count": 27,
   "metadata": {
    "tags": []
   },
   "outputs": [
    {
     "name": "stderr",
     "output_type": "stream",
     "text": [
      "100%|██████████| 429/429 [08:55<00:00,  1.25s/it]\n",
      "100%|██████████| 12/12 [02:37<00:00, 13.09s/it]\n",
      "No artists with labels found to put in legend.  Note that artists whose label start with an underscore are ignored when legend() is called with no argument.\n"
     ]
    },
    {
     "data": {
      "image/png": "[encoded data removed]",
      "text/plain": [
       "<Figure size 640x480 with 1 Axes>"
      ]
     },
     "metadata": {},
     "output_type": "display_data"
    },
    {
     "name": "stdout",
     "output_type": "stream",
     "text": [
      "Max f1 score 0.45497843642900543\n"
     ]
    }
   ],
   "source": [
    "producer = EmbeddingsProducer(model, device)\n",
    "embeddings = producer.get_embeddings(train_loader, normalize=True)\n",
    "embeddings = embeddings.squeeze()\n",
    "f1_avg_scores = F1ScoreEvaluator(train_df,embeddings,k=100).get_avg_f1_scores_for_thresholds(thresholds)\n",
    "model_name_and_loss = model_name_val + \"_train\"\n",
    "filename = os.path.join('results/', model_name_and_loss) \n",
    "CommonVisualizer().plt_f1_score_vs_threshold(thresholds = thresholds,f1_scores = f1_avg_scores,model_name_and_loss = model_name_and_loss,filename = filename)\n",
    "print(\"Max f1 score\",np.max(f1_avg_scores))"
   ]
  },
  {
   "cell_type": "code",
   "execution_count": null,
   "metadata": {
    "tags": []
   },
   "outputs": [
    {
     "name": "stderr",
     "output_type": "stream",
     "text": [
      "100%|██████████| 536/536 [11:10<00:00,  1.25s/it]\n",
      "100%|██████████| 12/12 [03:23<00:00, 16.98s/it]\n",
      "No artists with labels found to put in legend.  Note that artists whose label start with an underscore are ignored when legend() is called with no argument.\n"
     ]
    },
    {
     "data": {
      "image/png": "[encoded data removed]",
      "text/plain": [
       "<Figure size 640x480 with 1 Axes>"
      ]
     },
     "metadata": {},
     "output_type": "display_data"
    },
    {
     "name": "stdout",
     "output_type": "stream",
     "text": [
      "Max f1 score 0.44655940997145366\n"
     ]
    }
   ],
   "source": [
    "producer = EmbeddingsProducer(model, device)\n",
    "embeddings = producer.get_embeddings(full_loader, normalize=True)\n",
    "embeddings = embeddings.squeeze()\n",
    "f1_avg_scores = F1ScoreEvaluator(full_df,embeddings,k=100).get_avg_f1_scores_for_thresholds(thresholds)\n",
    "model_name_and_loss = model_name_val + \"_full\"\n",
    "filename = os.path.join('results/', model_name_and_loss) \n",
    "CommonVisualizer().plt_f1_score_vs_threshold(thresholds = thresholds,f1_scores = f1_avg_scores,model_name_and_loss = model_name_and_loss,filename = filename)\n",
    "print(\"Max f1 score\",np.max(f1_avg_scores))"
   ]
  },
  {
   "cell_type": "code",
   "execution_count": null,
   "metadata": {},
   "outputs": [],
   "source": []
  }
 ],
 "metadata": {
  "kernelspec": {
   "display_name": "conda_pytorch_p39",
   "language": "python",
   "name": "conda_pytorch_p39"
  },
  "language_info": {
   "codemirror_mode": {
    "name": "ipython",
    "version": 3
   },
   "file_extension": ".py",
   "mimetype": "text/x-python",
   "name": "python",
   "nbconvert_exporter": "python",
   "pygments_lexer": "ipython3",
   "version": "3.9.15"
  }
 },
 "nbformat": 4,
 "nbformat_minor": 4
}
