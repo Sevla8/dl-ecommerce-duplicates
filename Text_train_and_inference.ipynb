{
 "cells": [
  {
   "cell_type": "code",
   "execution_count": 1,
   "metadata": {
    "tags": []
   },
   "outputs": [
    {
     "name": "stdout",
     "output_type": "stream",
     "text": [
      "Looking in indexes: https://pypi.org/simple, https://pip.repos.neuron.amazonaws.com\n",
      "Requirement already satisfied: albumentations in /home/ec2-user/anaconda3/envs/pytorch_p39/lib/python3.9/site-packages (1.3.0)\n",
      "Requirement already satisfied: numpy>=1.11.1 in /home/ec2-user/anaconda3/envs/pytorch_p39/lib/python3.9/site-packages (from albumentations) (1.23.5)\n",
      "Requirement already satisfied: PyYAML in /home/ec2-user/anaconda3/envs/pytorch_p39/lib/python3.9/site-packages (from albumentations) (5.4.1)\n",
      "Requirement already satisfied: opencv-python-headless>=4.1.1 in /home/ec2-user/anaconda3/envs/pytorch_p39/lib/python3.9/site-packages (from albumentations) (4.7.0.72)\n",
      "Requirement already satisfied: scikit-image>=0.16.1 in /home/ec2-user/anaconda3/envs/pytorch_p39/lib/python3.9/site-packages (from albumentations) (0.19.3)\n",
      "Requirement already satisfied: scipy in /home/ec2-user/anaconda3/envs/pytorch_p39/lib/python3.9/site-packages (from albumentations) (1.8.1)\n",
      "Requirement already satisfied: qudida>=0.0.4 in /home/ec2-user/anaconda3/envs/pytorch_p39/lib/python3.9/site-packages (from albumentations) (0.0.4)\n",
      "Requirement already satisfied: typing-extensions in /home/ec2-user/anaconda3/envs/pytorch_p39/lib/python3.9/site-packages (from qudida>=0.0.4->albumentations) (4.4.0)\n",
      "Requirement already satisfied: scikit-learn>=0.19.1 in /home/ec2-user/anaconda3/envs/pytorch_p39/lib/python3.9/site-packages (from qudida>=0.0.4->albumentations) (1.0)\n",
      "Requirement already satisfied: imageio>=2.4.1 in /home/ec2-user/anaconda3/envs/pytorch_p39/lib/python3.9/site-packages (from scikit-image>=0.16.1->albumentations) (2.16.2)\n",
      "Requirement already satisfied: tifffile>=2019.7.26 in /home/ec2-user/anaconda3/envs/pytorch_p39/lib/python3.9/site-packages (from scikit-image>=0.16.1->albumentations) (2022.10.10)\n",
      "Requirement already satisfied: PyWavelets>=1.1.1 in /home/ec2-user/anaconda3/envs/pytorch_p39/lib/python3.9/site-packages (from scikit-image>=0.16.1->albumentations) (1.4.1)\n",
      "Requirement already satisfied: networkx>=2.2 in /home/ec2-user/anaconda3/envs/pytorch_p39/lib/python3.9/site-packages (from scikit-image>=0.16.1->albumentations) (3.0)\n",
      "Requirement already satisfied: packaging>=20.0 in /home/ec2-user/anaconda3/envs/pytorch_p39/lib/python3.9/site-packages (from scikit-image>=0.16.1->albumentations) (21.3)\n",
      "Requirement already satisfied: pillow!=7.1.0,!=7.1.1,!=8.3.0,>=6.1.0 in /home/ec2-user/anaconda3/envs/pytorch_p39/lib/python3.9/site-packages (from scikit-image>=0.16.1->albumentations) (9.2.0)\n",
      "Requirement already satisfied: pyparsing!=3.0.5,>=2.0.2 in /home/ec2-user/anaconda3/envs/pytorch_p39/lib/python3.9/site-packages (from packaging>=20.0->scikit-image>=0.16.1->albumentations) (3.0.9)\n",
      "Requirement already satisfied: threadpoolctl>=2.0.0 in /home/ec2-user/anaconda3/envs/pytorch_p39/lib/python3.9/site-packages (from scikit-learn>=0.19.1->qudida>=0.0.4->albumentations) (3.1.0)\n",
      "Requirement already satisfied: joblib>=0.11 in /home/ec2-user/anaconda3/envs/pytorch_p39/lib/python3.9/site-packages (from scikit-learn>=0.19.1->qudida>=0.0.4->albumentations) (1.2.0)\n",
      "Looking in indexes: https://pypi.org/simple, https://pip.repos.neuron.amazonaws.com\n",
      "Requirement already satisfied: transformers in /home/ec2-user/anaconda3/envs/pytorch_p39/lib/python3.9/site-packages (4.28.1)\n",
      "Requirement already satisfied: pyyaml>=5.1 in /home/ec2-user/anaconda3/envs/pytorch_p39/lib/python3.9/site-packages (from transformers) (5.4.1)\n",
      "Requirement already satisfied: packaging>=20.0 in /home/ec2-user/anaconda3/envs/pytorch_p39/lib/python3.9/site-packages (from transformers) (21.3)\n",
      "Requirement already satisfied: regex!=2019.12.17 in /home/ec2-user/anaconda3/envs/pytorch_p39/lib/python3.9/site-packages (from transformers) (2022.10.31)\n",
      "Requirement already satisfied: filelock in /home/ec2-user/anaconda3/envs/pytorch_p39/lib/python3.9/site-packages (from transformers) (3.6.0)\n",
      "Requirement already satisfied: tqdm>=4.27 in /home/ec2-user/anaconda3/envs/pytorch_p39/lib/python3.9/site-packages (from transformers) (4.63.2)\n",
      "Requirement already satisfied: numpy>=1.17 in /home/ec2-user/anaconda3/envs/pytorch_p39/lib/python3.9/site-packages (from transformers) (1.23.5)\n",
      "Requirement already satisfied: tokenizers!=0.11.3,<0.14,>=0.11.1 in /home/ec2-user/anaconda3/envs/pytorch_p39/lib/python3.9/site-packages (from transformers) (0.13.3)\n",
      "Requirement already satisfied: requests in /home/ec2-user/anaconda3/envs/pytorch_p39/lib/python3.9/site-packages (from transformers) (2.28.1)\n",
      "Requirement already satisfied: huggingface-hub<1.0,>=0.11.0 in /home/ec2-user/anaconda3/envs/pytorch_p39/lib/python3.9/site-packages (from transformers) (0.14.1)\n",
      "Requirement already satisfied: fsspec in /home/ec2-user/anaconda3/envs/pytorch_p39/lib/python3.9/site-packages (from huggingface-hub<1.0,>=0.11.0->transformers) (2022.11.0)\n",
      "Requirement already satisfied: typing-extensions>=3.7.4.3 in /home/ec2-user/anaconda3/envs/pytorch_p39/lib/python3.9/site-packages (from huggingface-hub<1.0,>=0.11.0->transformers) (4.4.0)\n",
      "Requirement already satisfied: pyparsing!=3.0.5,>=2.0.2 in /home/ec2-user/anaconda3/envs/pytorch_p39/lib/python3.9/site-packages (from packaging>=20.0->transformers) (3.0.9)\n",
      "Requirement already satisfied: certifi>=2017.4.17 in /home/ec2-user/anaconda3/envs/pytorch_p39/lib/python3.9/site-packages (from requests->transformers) (2022.12.7)\n",
      "Requirement already satisfied: urllib3<1.27,>=1.21.1 in /home/ec2-user/anaconda3/envs/pytorch_p39/lib/python3.9/site-packages (from requests->transformers) (1.26.8)\n",
      "Requirement already satisfied: idna<4,>=2.5 in /home/ec2-user/anaconda3/envs/pytorch_p39/lib/python3.9/site-packages (from requests->transformers) (3.4)\n",
      "Requirement already satisfied: charset-normalizer<3,>=2 in /home/ec2-user/anaconda3/envs/pytorch_p39/lib/python3.9/site-packages (from requests->transformers) (2.1.1)\n",
      "/bin/sh: apt: command not found\n",
      "Looking in indexes: https://pypi.org/simple, https://pip.repos.neuron.amazonaws.com\n",
      "Requirement already satisfied: faiss-gpu==1.7.2 in /home/ec2-user/anaconda3/envs/pytorch_p39/lib/python3.9/site-packages (1.7.2)\n"
     ]
    }
   ],
   "source": [
    "!pip install albumentations\n",
    "!pip install transformers\n",
    "!apt install libomp-dev\n",
    "!python -m pip install --upgrade faiss-gpu==1.7.2\n"
   ]
  },
  {
   "cell_type": "code",
   "execution_count": 2,
   "metadata": {
    "tags": []
   },
   "outputs": [
    {
     "name": "stdout",
     "output_type": "stream",
     "text": [
      "/home/ec2-user/SageMaker/dl-ecommerce-duplicates\n"
     ]
    }
   ],
   "source": [
    "import math\n",
    "from tqdm import tqdm\n",
    "import os\n",
    "import pandas as pd\n",
    "import numpy as np\n",
    "from sklearn.preprocessing import LabelEncoder\n",
    "\n",
    "# Visuals and CV2\n",
    "import cv2\n",
    "\n",
    "# albumentations for augs\n",
    "import albumentations\n",
    "from albumentations.pytorch.transforms import ToTensorV2\n",
    "\n",
    "from sklearn.model_selection import KFold, train_test_split\n",
    "\n",
    "#torch\n",
    "import torch\n",
    "import torch.nn as nn\n",
    "from torch.nn import Parameter\n",
    "from torch.nn import functional as F\n",
    "from torch.utils.data import Dataset,DataLoader\n",
    "from torch.optim import Adam\n",
    "from torch.optim.lr_scheduler import _LRScheduler\n",
    "from torch.optim import Adam, lr_scheduler\n",
    "\n",
    "import transformers\n",
    "from transformers import AdamW\n",
    "from transformers import get_linear_schedule_with_warmup,get_cosine_schedule_with_warmup\n",
    "from transformers import get_cosine_with_hard_restarts_schedule_with_warmup\n",
    "from sklearn.model_selection import GroupKFold\n",
    "%cd '/home/ec2-user/SageMaker/dl-ecommerce-duplicates/'\n",
    "from modules.datasets.TextArcFaceLossShopeeDataset import TextArcFaceLossShopeeDataset\n",
    "from modules.models.BertWithArcFace import BertWithArcFace\n",
    "from modules.utils.training_utils import train_fn\n",
    "import faiss\n",
    "import gc\n",
    "from modules.utils.EmbeddingsProducer import EmbeddingsProducer\n",
    "from modules.utils.F1ScoreEvaluator import F1ScoreEvaluator\n",
    "from modules.utils.CommonVIsualizer import CommonVisualizer\n",
    "import os"
   ]
  },
  {
   "cell_type": "markdown",
   "metadata": {
    "tags": []
   },
   "source": [
    "# Configuration"
   ]
  },
  {
   "cell_type": "code",
   "execution_count": 3,
   "metadata": {
    "tags": []
   },
   "outputs": [],
   "source": [
    "NUM_WORKERS = 4\n",
    "TRAIN_BATCH_SIZE = 32\n",
    "EPOCHS = 10\n",
    "SEED = 2020\n",
    "LR = 5e-5\n",
    "thresholds = np.arange(0.7, 0.99, 0.01)\n",
    "device = torch.device('cuda')\n",
    "\n",
    "################################################# MODEL ####################################################################\n",
    "\n",
    "transformer_model = 'sentence-transformers/paraphrase-xlm-r-multilingual-v1'\n",
    "TOKENIZER = transformers.AutoTokenizer.from_pretrained(transformer_model)\n",
    "\n",
    "################################################ Metric Loss and its params #######################################################\n",
    "loss_module = 'arcface'#'softmax'\n",
    "s = 30.0\n",
    "m = 0.5 \n",
    "ls_eps = 0.0\n",
    "easy_margin = False\n",
    "\n",
    "############################################################################################################################\n",
    "model_params = {\n",
    "    'n_classes':11014,\n",
    "    'model_name':transformer_model,\n",
    "    'pooling':'clf',\n",
    "    'use_fc':False,\n",
    "    'fc_dim':512,\n",
    "    'dropout':0.0,\n",
    "    'loss_module':loss_module,\n",
    "    's':30.0,\n",
    "    'margin':0.50,\n",
    "    'ls_eps':0.0,\n",
    "    'theta_zero':0.785,\n",
    "    'mode_train':True\n",
    "}\n"
   ]
  },
  {
   "cell_type": "markdown",
   "metadata": {},
   "source": [
    "# Some Helper Functions"
   ]
  },
  {
   "cell_type": "code",
   "execution_count": 4,
   "metadata": {
    "tags": []
   },
   "outputs": [],
   "source": [
    "def run(data):\n",
    "    # Defining DataSet\n",
    "    train_dataset = TextArcFaceLossShopeeDataset(tokenizer,data)\n",
    "    #Batch train loder\n",
    "    train_loader = torch.utils.data.DataLoader(\n",
    "        train_dataset,\n",
    "        batch_size=TRAIN_BATCH_SIZE,\n",
    "        pin_memory=True,\n",
    "        drop_last=True,\n",
    "        num_workers=NUM_WORKERS\n",
    "    )\n",
    "\n",
    "    # Defining Model for specific fold\n",
    "    model = BertWithArcFace(**model_params).to(device)\n",
    "\n",
    "    ## Common Setups\n",
    "    #DEfining criterion\n",
    "    criterion = nn.CrossEntropyLoss().to(device)\n",
    "\n",
    "    # Defining Optimizer with weight decay to params other than bias and layer norms\n",
    "    param_optimizer = list(model.named_parameters())\n",
    "    no_decay = [\"bias\", \"LayerNorm.bias\", \"LayerNorm.weight\"]\n",
    "    optimizer_parameters = [\n",
    "        {'params': [p for n, p in param_optimizer if not any(nd in n for nd in no_decay)], 'weight_decay': 0.0001},\n",
    "        {'params': [p for n, p in param_optimizer if any(nd in n for nd in no_decay)], 'weight_decay': 0.0},\n",
    "            ]  \n",
    "\n",
    "    optimizer = AdamW(optimizer_parameters, lr=LR)\n",
    "\n",
    "    #Defining LR SCheduler\n",
    "    scheduler = get_linear_schedule_with_warmup(\n",
    "        optimizer, \n",
    "        num_warmup_steps=len(train_loader)*2, \n",
    "        num_training_steps=len(train_loader)*EPOCHS\n",
    "    )\n",
    "\n",
    "    # Create an empty DataFrame with the desired column names\n",
    "    loss_df = pd.DataFrame(columns=['Epoch', 'Train_Loss'])\n",
    "    \n",
    "    # THE ENGINE LOOP\n",
    "    # best_loss = 10000\n",
    "    for epoch in range(EPOCHS):\n",
    "        train_loss = train_fn(train_loader, model,criterion, optimizer, device,scheduler=scheduler,epoch=epoch)\n",
    "        # Append a row to the DataFrame with the epoch number and loss\n",
    "        loss_df = loss_df.append({'Epoch': epoch, 'Train_Loss': train_loss.val}, ignore_index=True)\n",
    "        # torch.save(model.state_dict(),f'sentence_transfomer_xlm_best_loss_num_epochs_{EPOCHS}_{loss_module}.bin')\n",
    "        \n",
    "    return model, loss_df\n",
    "        # if train_loss.avg < best_loss:\n",
    "        #     best_loss = train_loss.avg\n",
    "        #     torch.save(model.state_dict(),f'sentence_transfomer_xlm_best_loss_num_epochs_{EPOCHS}_{loss_module}.bin')"
   ]
  },
  {
   "cell_type": "code",
   "execution_count": 5,
   "metadata": {
    "tags": []
   },
   "outputs": [],
   "source": [
    "def get_text_embeddings(df,TEXT_MODEL_PATH):\n",
    "    embeds = []\n",
    "    \n",
    "    model = BertWithArcFace(**model_params)\n",
    "    model.eval()\n",
    "    \n",
    "    model.load_state_dict(dict(list(torch.load(TEXT_MODEL_PATH).items())[:-1]),strict=False)\n",
    "    model = model.to(device)\n",
    "\n",
    "    text_dataset = TextArcFaceLossShopeeDataset(tokenizer,df)\n",
    "    text_loader = torch.utils.data.DataLoader(\n",
    "        text_dataset,\n",
    "        batch_size=BATCH_SIZE,\n",
    "        pin_memory=True,\n",
    "        drop_last=False,\n",
    "        num_workers=NUM_WORKERS\n",
    "    )\n",
    "    \n",
    "    \n",
    "    with torch.no_grad():\n",
    "        for input_ids, attention_mask,_ in tqdm(text_loader): \n",
    "            input_ids = input_ids.cuda()\n",
    "            attention_mask = attention_mask.cuda()\n",
    "            feat = model(input_ids, attention_mask,None)\n",
    "            text_embeddings = feat.detach().cpu().numpy()\n",
    "            embeds.append(text_embeddings)\n",
    "    \n",
    "    \n",
    "    del model\n",
    "    text_embeddings = np.concatenate(embeds)\n",
    "    print(f'Our text embeddings shape is {text_embeddings.shape}')\n",
    "    del embeds\n",
    "    gc.collect()\n",
    "    return text_embeddings"
   ]
  },
  {
   "cell_type": "code",
   "execution_count": 57,
   "metadata": {
    "tags": []
   },
   "outputs": [],
   "source": [
    "def get_text_embeddings(df,TEXT_MODEL_PATH):\n",
    "    os.environ['CUDA_LAUNCH_BLOCKING'] = \"1\"\n",
    "    embeds = []\n",
    "    losses = []\n",
    "    \n",
    "    model = BertWithArcFace(**model_params)\n",
    "    model.eval()\n",
    "    \n",
    "    model.load_state_dict(dict(list(torch.load(TEXT_MODEL_PATH).items())[:-1]),strict=False)\n",
    "    model = model.to(device)\n",
    "\n",
    "    text_dataset = TextArcFaceLossShopeeDataset(tokenizer,df)\n",
    "    text_loader = torch.utils.data.DataLoader(\n",
    "        text_dataset,\n",
    "        batch_size=TEST_BATCH_SIZE,\n",
    "        pin_memory=True,\n",
    "        drop_last=False,\n",
    "        num_workers=NUM_WORKERS\n",
    "    )\n",
    "    \n",
    "    criterion = nn.CrossEntropyLoss().to(device)\n",
    "    \n",
    "    with torch.no_grad():\n",
    "        for input_ids, attention_mask,labels in tqdm(text_loader): \n",
    "            input_ids = input_ids.cuda()\n",
    "            attention_mask = attention_mask.cuda()\n",
    "            labels = labels.cuda()\n",
    "            feat,outputs = model(input_ids, attention_mask,labels)\n",
    "            text_embeddings = feat.detach().cpu().numpy()\n",
    "            embeds.append(text_embeddings)\n",
    "            \n",
    "            # Compute the validation loss\n",
    "            loss = criterion(outputs, labels)\n",
    "            losses.append(loss.item())\n",
    "\n",
    "    \n",
    "    loss_valid = np.mean(losses)\n",
    "    \n",
    "    del model\n",
    "    text_embeddings = np.concatenate(embeds)\n",
    "    print(f'Our text embeddings shape is {text_embeddings.shape}')\n",
    "    del embeds\n",
    "    gc.collect()\n",
    "    return text_embeddings,loss_valid\n",
    "    # return text_embeddings"
   ]
  },
  {
   "cell_type": "code",
   "execution_count": 58,
   "metadata": {
    "tags": []
   },
   "outputs": [],
   "source": [
    "def read_dataset():\n",
    "    df_cu = pd.DataFrame()\n",
    "    if GET_CV:\n",
    "        df = pd.read_csv('../shopee-product-matching/train80.csv')\n",
    "        tmp = df.groupby(['label_group'])['posting_id'].unique().to_dict()\n",
    "        df['target'] = df['label_group'].map(tmp)\n",
    "        df['target'] = df['target'].apply(lambda x: ' '.join(x))\n",
    "        grouped = df.groupby('label_group')['posting_id'].apply(list)\n",
    "        df['target'] = df['label_group'].map(grouped)\n",
    "    else:\n",
    "        df = pd.read_csv('../shopee-product-matching/valid20.csv')\n",
    "        tmp = df.groupby(['label_group'])['posting_id'].unique().to_dict()\n",
    "        df['target'] = df['label_group'].map(tmp)\n",
    "        df['target'] = df['target'].apply(lambda x: ' '.join(x))\n",
    "        grouped = df.groupby('label_group')['posting_id'].apply(list)\n",
    "        df['target'] = df['label_group'].map(grouped)\n",
    "        \n",
    "    return df"
   ]
  },
  {
   "cell_type": "markdown",
   "metadata": {
    "tags": []
   },
   "source": [
    "# TRAIN"
   ]
  },
  {
   "cell_type": "code",
   "execution_count": 10,
   "metadata": {
    "tags": []
   },
   "outputs": [],
   "source": [
    "df = pd.read_csv('../shopee-product-matching/train80.csv')\n",
    "encoder = LabelEncoder()\n",
    "df['label_group'] = encoder.fit_transform(df['label_group'])"
   ]
  },
  {
   "cell_type": "markdown",
   "metadata": {},
   "source": [
    "### XLM Roberta Baseline, No FC, 10 Epochs, No Loss"
   ]
  },
  {
   "cell_type": "code",
   "execution_count": 11,
   "metadata": {
    "tags": []
   },
   "outputs": [
    {
     "name": "stderr",
     "output_type": "stream",
     "text": [
      "/home/ec2-user/anaconda3/envs/pytorch_p39/lib/python3.9/site-packages/transformers/optimization.py:391: FutureWarning: This implementation of AdamW is deprecated and will be removed in a future version. Use the PyTorch implementation torch.optim.AdamW instead, or set `no_deprecation_warning=True` to disable this warning\n",
      "  warnings.warn(\n",
      "100%|██████████| 856/856 [05:51<00:00,  2.44it/s, Epoch=0, LR=2.5e-5, Train_Loss=9.23] \n",
      "/tmp/ipykernel_15864/2219122214.py:45: FutureWarning: The frame.append method is deprecated and will be removed from pandas in a future version. Use pandas.concat instead.\n",
      "  loss_df = loss_df.append({'Epoch': epoch, 'Train_Loss': train_loss.val}, ignore_index=True)\n"
     ]
    }
   ],
   "source": [
    "#XLM Roberta Baseline, No FC, 10 Epochs, No Loss\n",
    "transformer_model = 'sentence-transformers/paraphrase-xlm-r-multilingual-v1'\n",
    "tokenizer = transformers.AutoTokenizer.from_pretrained(transformer_model)\n",
    "\n",
    "\n",
    "EPOCHS = 10\n",
    "model_params['loss_module'] = 'noloss'\n",
    "model_params['mode_train'] = True\n",
    "model,loss_df = run(df)\n",
    "\n",
    "\n",
    "model_name = 'xlm_no_loss_10_epochs'\n",
    "train_loss_file = os.path.join('results/', model_name + '_train_loss.csv')\n",
    "model_file = os.path.join('results/', model_name + '.bin')\n",
    "\n",
    "\n",
    "torch.save(model.state_dict(), model_file)\n",
    "loss_df.to_csv(train_loss_file)"
   ]
  },
  {
   "cell_type": "markdown",
   "metadata": {},
   "source": [
    "# INFERENCE"
   ]
  },
  {
   "cell_type": "code",
   "execution_count": 52,
   "metadata": {
    "tags": []
   },
   "outputs": [
    {
     "data": {
      "text/plain": [
       "27399"
      ]
     },
     "execution_count": 52,
     "metadata": {},
     "output_type": "execute_result"
    }
   ],
   "source": [
    "GET_CV = True\n",
    "df = read_dataset()\n",
    "encoder = LabelEncoder()\n",
    "df['label_group'] = encoder.fit_transform(df['label_group'])\n",
    "len(df)"
   ]
  },
  {
   "cell_type": "markdown",
   "metadata": {
    "tags": []
   },
   "source": [
    "### XLM Roberta Baseline, No FC, 10 Epochs, No Loss"
   ]
  },
  {
   "cell_type": "code",
   "execution_count": 22,
   "metadata": {
    "tags": []
   },
   "outputs": [],
   "source": [
    "transformer_model = 'sentence-transformers/paraphrase-xlm-r-multilingual-v1'\n",
    "tokenizer = transformers.AutoTokenizer.from_pretrained(transformer_model)\n",
    "\n",
    "EPOCHS = 1\n",
    "TEST_BATCH_SIZE = 32\n",
    "model_params['loss_module'] = 'noloss'\n",
    "model_params['mode_train'] = False\n",
    "# model_params['n_classes'] = len(df)\n",
    "\n",
    "model_name = 'xlm_no_loss_10_epochs'\n",
    "test_loss_file = os.path.join('results/', model_name + '_test_loss.csv')\n",
    "model_file = os.path.join('results/', model_name + '.bin')\n",
    "text_embeddings,val = get_text_embeddings(df,model_name)"
   ]
  },
  {
   "cell_type": "code",
   "execution_count": 55,
   "metadata": {},
   "outputs": [
    {
     "name": "stderr",
     "output_type": "stream",
     "text": [
      "100%|██████████| 30/30 [03:54<00:00,  7.81s/it]\n",
      "No artists with labels found to put in legend.  Note that artists whose label start with an underscore are ignored when legend() is called with no argument.\n"
     ]
    },
    {
     "data": {
      "image/png": "[encoded data removed]",
      "text/plain": [
       "<Figure size 640x480 with 1 Axes>"
      ]
     },
     "metadata": {},
     "output_type": "display_data"
    }
   ],
   "source": [
    "text_embeddings = EmbeddingsProducer(torch.nn.Module,device).embeddings_normalizer(embeddings=text_embeddings)\n",
    "f1_avg_scores = F1ScoreEvaluator(df,text_embeddings,k=100).get_avg_f1_scores_for_thresholds(thresholds)\n",
    "CommonVisualizer().plt_f1_score_vs_threshold(thresholds = thresholds,f1_scores = f1_avg_scores,model_name_and_loss = \"XLM Base Line\",filename = \"xlm_final_nofc_softmax_10_epochs_chart\")"
   ]
  },
  {
   "cell_type": "code",
   "execution_count": 48,
   "metadata": {
    "tags": []
   },
   "outputs": [],
   "source": [
    "# train_losses = [9.23,8.43,7.34,6.24,5.32,4.56,3.96,3.52,3.21,3.04]\n",
    "# val_losses = [0]\n",
    "# loss_name = \"None - Just basleine\"\n",
    "# filename = \"xlm_final_nofc_softmax_10_epochs_loss\"\n",
    "# CommonVisualizer().plt_losses( train_losses, val_losses, model_name, loss_name, filename)"
   ]
  },
  {
   "cell_type": "code",
   "execution_count": null,
   "metadata": {},
   "outputs": [],
   "source": []
  }
 ],
 "metadata": {
  "kernelspec": {
   "display_name": "conda_pytorch_p39",
   "language": "python",
   "name": "conda_pytorch_p39"
  },
  "language_info": {
   "codemirror_mode": {
    "name": "ipython",
    "version": 3
   },
   "file_extension": ".py",
   "mimetype": "text/x-python",
   "name": "python",
   "nbconvert_exporter": "python",
   "pygments_lexer": "ipython3",
   "version": "3.9.15"
  }
 },
 "nbformat": 4,
 "nbformat_minor": 4
}
