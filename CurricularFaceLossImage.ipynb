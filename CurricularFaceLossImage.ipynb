{
 "cells": [
  {
   "cell_type": "markdown",
   "metadata": {
    "id": "VPuc9Z-Sp5Bo"
   },
   "source": [
    "# Curricular Face Loss Applied to Image Embeddings"
   ]
  },
  {
   "cell_type": "markdown",
   "metadata": {
    "id": "21YP2cK2z8W0"
   },
   "source": [
    "## Mount"
   ]
  },
  {
   "cell_type": "code",
   "execution_count": 1,
   "metadata": {
    "colab": {
     "base_uri": "https://localhost:8080/"
    },
    "executionInfo": {
     "elapsed": 18574,
     "status": "ok",
     "timestamp": 1682161714986,
     "user": {
      "displayName": "Brandon Alves",
      "userId": "02156452593524706920"
     },
     "user_tz": -120
    },
    "id": "K-tMLOl7SRrm",
    "outputId": "ed8a7803-5a98-4c66-9d3e-c2470d3e5016"
   },
   "outputs": [
    {
     "name": "stdout",
     "output_type": "stream",
     "text": [
      "Mounted at /content/drive\n",
      "/content/drive/MyDrive/Colab Notebooks/dl-ecommerce-duplicates\n"
     ]
    }
   ],
   "source": [
    "from google.colab import drive \n",
    "drive.mount(\"/content/drive\", force_remount=True)\n",
    "%cd /content/drive/MyDrive/Colab\\ Notebooks/dl-ecommerce-duplicates/"
   ]
  },
  {
   "cell_type": "markdown",
   "metadata": {
    "id": "g6uAM3Ywp5Bu"
   },
   "source": [
    "## Imports"
   ]
  },
  {
   "cell_type": "code",
   "execution_count": 2,
   "metadata": {
    "tags": []
   },
   "outputs": [
    {
     "name": "stdout",
     "output_type": "stream",
     "text": [
      "Requirement already satisfied: pip in /opt/conda/lib/python3.8/site-packages (23.0.1)\n",
      "Collecting pip\n",
      "  Using cached pip-23.1.2-py3-none-any.whl (2.1 MB)\n",
      "Installing collected packages: pip\n",
      "  Attempting uninstall: pip\n",
      "    Found existing installation: pip 23.0.1\n",
      "    Uninstalling pip-23.0.1:\n",
      "      Successfully uninstalled pip-23.0.1\n",
      "Successfully installed pip-23.1.2\n",
      "\u001b[33mWARNING: Running pip as the 'root' user can result in broken permissions and conflicting behaviour with the system package manager. It is recommended to use a virtual environment instead: https://pip.pypa.io/warnings/venv\u001b[0m\u001b[33m\n",
      "\u001b[0mCollecting torch==1.13.1\n",
      "  Using cached torch-1.13.1-cp38-cp38-manylinux1_x86_64.whl (887.4 MB)\n",
      "Requirement already satisfied: typing-extensions in /opt/conda/lib/python3.8/site-packages (from torch==1.13.1) (4.5.0)\n",
      "Collecting nvidia-cuda-runtime-cu11==11.7.99 (from torch==1.13.1)\n",
      "  Using cached nvidia_cuda_runtime_cu11-11.7.99-py3-none-manylinux1_x86_64.whl (849 kB)\n",
      "Collecting nvidia-cudnn-cu11==8.5.0.96 (from torch==1.13.1)\n",
      "  Using cached nvidia_cudnn_cu11-8.5.0.96-2-py3-none-manylinux1_x86_64.whl (557.1 MB)\n",
      "Collecting nvidia-cublas-cu11==11.10.3.66 (from torch==1.13.1)\n",
      "  Using cached nvidia_cublas_cu11-11.10.3.66-py3-none-manylinux1_x86_64.whl (317.1 MB)\n",
      "Collecting nvidia-cuda-nvrtc-cu11==11.7.99 (from torch==1.13.1)\n",
      "  Using cached nvidia_cuda_nvrtc_cu11-11.7.99-2-py3-none-manylinux1_x86_64.whl (21.0 MB)\n",
      "Requirement already satisfied: setuptools in /opt/conda/lib/python3.8/site-packages (from nvidia-cublas-cu11==11.10.3.66->torch==1.13.1) (67.6.1)\n",
      "Requirement already satisfied: wheel in /opt/conda/lib/python3.8/site-packages (from nvidia-cublas-cu11==11.10.3.66->torch==1.13.1) (0.40.0)\n",
      "Installing collected packages: nvidia-cuda-runtime-cu11, nvidia-cuda-nvrtc-cu11, nvidia-cublas-cu11, nvidia-cudnn-cu11, torch\n",
      "Successfully installed nvidia-cublas-cu11-11.10.3.66 nvidia-cuda-nvrtc-cu11-11.7.99 nvidia-cuda-runtime-cu11-11.7.99 nvidia-cudnn-cu11-8.5.0.96 torch-1.13.1\n"
     ]
    },
    {
     "name": "stderr",
     "output_type": "stream",
     "text": [
      "WARNING: Running pip as the 'root' user can result in broken permissions and conflicting behaviour with the system package manager. It is recommended to use a virtual environment instead: https://pip.pypa.io/warnings/venv\n",
      "WARNING: Running pip as the 'root' user can result in broken permissions and conflicting behaviour with the system package manager. It is recommended to use a virtual environment instead: https://pip.pypa.io/warnings/venv\n"
     ]
    },
    {
     "name": "stdout",
     "output_type": "stream",
     "text": [
      "Collecting torchtext==0.14.1\n",
      "  Using cached torchtext-0.14.1-cp38-cp38-manylinux1_x86_64.whl (2.0 MB)\n",
      "Requirement already satisfied: tqdm in /opt/conda/lib/python3.8/site-packages (from torchtext==0.14.1) (4.62.3)\n",
      "Requirement already satisfied: requests in /opt/conda/lib/python3.8/site-packages (from torchtext==0.14.1) (2.28.2)\n",
      "Collecting torch==1.13.1 (from torchtext==0.14.1)\n",
      "  Using cached torch-1.13.1-cp38-cp38-manylinux1_x86_64.whl (887.4 MB)\n",
      "Requirement already satisfied: numpy in /opt/conda/lib/python3.8/site-packages (from torchtext==0.14.1) (1.24.2)\n",
      "Requirement already satisfied: typing-extensions in /opt/conda/lib/python3.8/site-packages (from torch==1.13.1->torchtext==0.14.1) (4.5.0)\n",
      "Requirement already satisfied: nvidia-cuda-runtime-cu11==11.7.99 in /opt/conda/lib/python3.8/site-packages (from torch==1.13.1->torchtext==0.14.1) (11.7.99)\n",
      "Requirement already satisfied: nvidia-cudnn-cu11==8.5.0.96 in /opt/conda/lib/python3.8/site-packages (from torch==1.13.1->torchtext==0.14.1) (8.5.0.96)\n",
      "Requirement already satisfied: nvidia-cublas-cu11==11.10.3.66 in /opt/conda/lib/python3.8/site-packages (from torch==1.13.1->torchtext==0.14.1) (11.10.3.66)\n",
      "Requirement already satisfied: nvidia-cuda-nvrtc-cu11==11.7.99 in /opt/conda/lib/python3.8/site-packages (from torch==1.13.1->torchtext==0.14.1) (11.7.99)\n",
      "Requirement already satisfied: setuptools in /opt/conda/lib/python3.8/site-packages (from nvidia-cublas-cu11==11.10.3.66->torch==1.13.1->torchtext==0.14.1) (67.6.1)\n",
      "Requirement already satisfied: wheel in /opt/conda/lib/python3.8/site-packages (from nvidia-cublas-cu11==11.10.3.66->torch==1.13.1->torchtext==0.14.1) (0.40.0)\n",
      "Requirement already satisfied: charset-normalizer<4,>=2 in /opt/conda/lib/python3.8/site-packages (from requests->torchtext==0.14.1) (2.0.4)\n",
      "Requirement already satisfied: idna<4,>=2.5 in /opt/conda/lib/python3.8/site-packages (from requests->torchtext==0.14.1) (3.2)\n",
      "Requirement already satisfied: urllib3<1.27,>=1.21.1 in /opt/conda/lib/python3.8/site-packages (from requests->torchtext==0.14.1) (1.26.15)\n",
      "Requirement already satisfied: certifi>=2017.4.17 in /opt/conda/lib/python3.8/site-packages (from requests->torchtext==0.14.1) (2022.12.7)\n",
      "Installing collected packages: torch, torchtext\n",
      "  Attempting uninstall: torch\n",
      "    Found existing installation: torch 2.0.0\n",
      "    Uninstalling torch-2.0.0:\n",
      "      Successfully uninstalled torch-2.0.0\n"
     ]
    },
    {
     "name": "stderr",
     "output_type": "stream",
     "text": [
      "ERROR: pip's dependency resolver does not currently take into account all the packages that are installed. This behaviour is the source of the following dependency conflicts.\n",
      "torchvision 0.15.1 requires torch==2.0.0, but you have torch 1.13.1 which is incompatible.\n",
      "WARNING: Running pip as the 'root' user can result in broken permissions and conflicting behaviour with the system package manager. It is recommended to use a virtual environment instead: https://pip.pypa.io/warnings/venv\n"
     ]
    },
    {
     "name": "stdout",
     "output_type": "stream",
     "text": [
      "Successfully installed torch-1.13.1 torchtext-0.14.1\n",
      "Requirement already satisfied: notebook in /opt/conda/lib/python3.8/site-packages (6.5.4)\n",
      "Requirement already satisfied: jinja2 in /opt/conda/lib/python3.8/site-packages (from notebook) (3.1.2)\n",
      "Requirement already satisfied: tornado>=6.1 in /opt/conda/lib/python3.8/site-packages (from notebook) (6.2)\n",
      "Requirement already satisfied: pyzmq>=17 in /opt/conda/lib/python3.8/site-packages (from notebook) (25.0.2)\n",
      "Requirement already satisfied: argon2-cffi in /opt/conda/lib/python3.8/site-packages (from notebook) (20.1.0)\n",
      "Requirement already satisfied: traitlets>=4.2.1 in /opt/conda/lib/python3.8/site-packages (from notebook) (5.9.0)\n",
      "Requirement already satisfied: jupyter-core>=4.6.1 in /opt/conda/lib/python3.8/site-packages (from notebook) (5.3.0)\n",
      "Requirement already satisfied: jupyter-client>=5.3.4 in /opt/conda/lib/python3.8/site-packages (from notebook) (8.1.0)\n",
      "Requirement already satisfied: ipython-genutils in /opt/conda/lib/python3.8/site-packages (from notebook) (0.2.0)\n",
      "Requirement already satisfied: nbformat in /opt/conda/lib/python3.8/site-packages (from notebook) (5.8.0)\n",
      "Requirement already satisfied: nbconvert>=5 in /opt/conda/lib/python3.8/site-packages (from notebook) (7.3.1)\n",
      "Requirement already satisfied: nest-asyncio>=1.5 in /opt/conda/lib/python3.8/site-packages (from notebook) (1.5.5)\n",
      "Requirement already satisfied: ipykernel in /opt/conda/lib/python3.8/site-packages (from notebook) (6.20.2)\n",
      "Requirement already satisfied: Send2Trash>=1.8.0 in /opt/conda/lib/python3.8/site-packages (from notebook) (1.8.0)\n",
      "Requirement already satisfied: terminado>=0.8.3 in /opt/conda/lib/python3.8/site-packages (from notebook) (0.9.4)\n",
      "Requirement already satisfied: prometheus-client in /opt/conda/lib/python3.8/site-packages (from notebook) (0.11.0)\n",
      "Requirement already satisfied: nbclassic>=0.4.7 in /opt/conda/lib/python3.8/site-packages (from notebook) (0.5.5)\n",
      "Requirement already satisfied: importlib-metadata>=4.8.3 in /opt/conda/lib/python3.8/site-packages (from jupyter-client>=5.3.4->notebook) (6.3.0)\n",
      "Requirement already satisfied: python-dateutil>=2.8.2 in /opt/conda/lib/python3.8/site-packages (from jupyter-client>=5.3.4->notebook) (2.8.2)\n",
      "Requirement already satisfied: platformdirs>=2.5 in /opt/conda/lib/python3.8/site-packages (from jupyter-core>=4.6.1->notebook) (3.2.0)\n",
      "Requirement already satisfied: jupyter-server>=1.8 in /opt/conda/lib/python3.8/site-packages (from nbclassic>=0.4.7->notebook) (2.5.0)\n",
      "Requirement already satisfied: notebook-shim>=0.1.0 in /opt/conda/lib/python3.8/site-packages (from nbclassic>=0.4.7->notebook) (0.2.2)\n",
      "Requirement already satisfied: beautifulsoup4 in /opt/conda/lib/python3.8/site-packages (from nbconvert>=5->notebook) (4.10.0)\n",
      "Requirement already satisfied: bleach in /opt/conda/lib/python3.8/site-packages (from nbconvert>=5->notebook) (4.0.0)\n",
      "Requirement already satisfied: defusedxml in /opt/conda/lib/python3.8/site-packages (from nbconvert>=5->notebook) (0.7.1)\n",
      "Requirement already satisfied: jupyterlab-pygments in /opt/conda/lib/python3.8/site-packages (from nbconvert>=5->notebook) (0.1.2)\n",
      "Requirement already satisfied: markupsafe>=2.0 in /opt/conda/lib/python3.8/site-packages (from nbconvert>=5->notebook) (2.1.2)\n",
      "Requirement already satisfied: mistune<3,>=2.0.3 in /opt/conda/lib/python3.8/site-packages (from nbconvert>=5->notebook) (2.0.5)\n",
      "Requirement already satisfied: nbclient>=0.5.0 in /opt/conda/lib/python3.8/site-packages (from nbconvert>=5->notebook) (0.5.3)\n",
      "Requirement already satisfied: packaging in /opt/conda/lib/python3.8/site-packages (from nbconvert>=5->notebook) (21.0)\n",
      "Requirement already satisfied: pandocfilters>=1.4.1 in /opt/conda/lib/python3.8/site-packages (from nbconvert>=5->notebook) (1.4.3)\n",
      "Requirement already satisfied: pygments>=2.4.1 in /opt/conda/lib/python3.8/site-packages (from nbconvert>=5->notebook) (2.10.0)\n",
      "Requirement already satisfied: tinycss2 in /opt/conda/lib/python3.8/site-packages (from nbconvert>=5->notebook) (1.2.1)\n",
      "Requirement already satisfied: fastjsonschema in /opt/conda/lib/python3.8/site-packages (from nbformat->notebook) (2.16.3)\n",
      "Requirement already satisfied: jsonschema>=2.6 in /opt/conda/lib/python3.8/site-packages (from nbformat->notebook) (3.2.0)\n",
      "Requirement already satisfied: ptyprocess in /opt/conda/lib/python3.8/site-packages (from terminado>=0.8.3->notebook) (0.7.0)\n",
      "Requirement already satisfied: cffi>=1.0.0 in /opt/conda/lib/python3.8/site-packages (from argon2-cffi->notebook) (1.14.6)\n",
      "Requirement already satisfied: six in /opt/conda/lib/python3.8/site-packages (from argon2-cffi->notebook) (1.16.0)\n",
      "Requirement already satisfied: comm>=0.1.1 in /opt/conda/lib/python3.8/site-packages (from ipykernel->notebook) (0.1.1)\n",
      "Requirement already satisfied: debugpy>=1.0 in /opt/conda/lib/python3.8/site-packages (from ipykernel->notebook) (1.4.1)\n",
      "Requirement already satisfied: ipython>=7.23.1 in /opt/conda/lib/python3.8/site-packages (from ipykernel->notebook) (8.12.0)\n",
      "Requirement already satisfied: matplotlib-inline>=0.1 in /opt/conda/lib/python3.8/site-packages (from ipykernel->notebook) (0.1.2)\n",
      "Requirement already satisfied: psutil in /opt/conda/lib/python3.8/site-packages (from ipykernel->notebook) (5.8.0)\n",
      "Requirement already satisfied: pycparser in /opt/conda/lib/python3.8/site-packages (from cffi>=1.0.0->argon2-cffi->notebook) (2.20)\n",
      "Requirement already satisfied: zipp>=0.5 in /opt/conda/lib/python3.8/site-packages (from importlib-metadata>=4.8.3->jupyter-client>=5.3.4->notebook) (3.6.0)\n",
      "Requirement already satisfied: backcall in /opt/conda/lib/python3.8/site-packages (from ipython>=7.23.1->ipykernel->notebook) (0.2.0)\n",
      "Requirement already satisfied: decorator in /opt/conda/lib/python3.8/site-packages (from ipython>=7.23.1->ipykernel->notebook) (5.1.0)\n",
      "Requirement already satisfied: jedi>=0.16 in /opt/conda/lib/python3.8/site-packages (from ipython>=7.23.1->ipykernel->notebook) (0.18.0)\n",
      "Requirement already satisfied: pickleshare in /opt/conda/lib/python3.8/site-packages (from ipython>=7.23.1->ipykernel->notebook) (0.7.5)\n",
      "Requirement already satisfied: prompt-toolkit!=3.0.37,<3.1.0,>=3.0.30 in /opt/conda/lib/python3.8/site-packages (from ipython>=7.23.1->ipykernel->notebook) (3.0.38)\n",
      "Requirement already satisfied: stack-data in /opt/conda/lib/python3.8/site-packages (from ipython>=7.23.1->ipykernel->notebook) (0.6.2)\n",
      "Requirement already satisfied: typing-extensions in /opt/conda/lib/python3.8/site-packages (from ipython>=7.23.1->ipykernel->notebook) (4.5.0)\n",
      "Requirement already satisfied: pexpect>4.3 in /opt/conda/lib/python3.8/site-packages (from ipython>=7.23.1->ipykernel->notebook) (4.8.0)\n",
      "Requirement already satisfied: attrs>=17.4.0 in /opt/conda/lib/python3.8/site-packages (from jsonschema>=2.6->nbformat->notebook) (21.2.0)\n",
      "Requirement already satisfied: pyrsistent>=0.14.0 in /opt/conda/lib/python3.8/site-packages (from jsonschema>=2.6->nbformat->notebook) (0.18.0)\n",
      "Requirement already satisfied: setuptools in /opt/conda/lib/python3.8/site-packages (from jsonschema>=2.6->nbformat->notebook) (67.6.1)\n",
      "Requirement already satisfied: anyio>=3.1.0 in /opt/conda/lib/python3.8/site-packages (from jupyter-server>=1.8->nbclassic>=0.4.7->notebook) (3.6.2)\n",
      "Requirement already satisfied: jupyter-events>=0.4.0 in /opt/conda/lib/python3.8/site-packages (from jupyter-server>=1.8->nbclassic>=0.4.7->notebook) (0.6.3)\n",
      "Requirement already satisfied: jupyter-server-terminals in /opt/conda/lib/python3.8/site-packages (from jupyter-server>=1.8->nbclassic>=0.4.7->notebook) (0.4.4)\n",
      "Requirement already satisfied: websocket-client in /opt/conda/lib/python3.8/site-packages (from jupyter-server>=1.8->nbclassic>=0.4.7->notebook) (0.59.0)\n",
      "Requirement already satisfied: async-generator in /opt/conda/lib/python3.8/site-packages (from nbclient>=0.5.0->nbconvert>=5->notebook) (1.10)\n",
      "Requirement already satisfied: soupsieve>1.2 in /opt/conda/lib/python3.8/site-packages (from beautifulsoup4->nbconvert>=5->notebook) (2.2.1)\n",
      "Requirement already satisfied: webencodings in /opt/conda/lib/python3.8/site-packages (from bleach->nbconvert>=5->notebook) (0.5.1)\n",
      "Requirement already satisfied: pyparsing>=2.0.2 in /opt/conda/lib/python3.8/site-packages (from packaging->nbconvert>=5->notebook) (3.0.4)\n",
      "Requirement already satisfied: idna>=2.8 in /opt/conda/lib/python3.8/site-packages (from anyio>=3.1.0->jupyter-server>=1.8->nbclassic>=0.4.7->notebook) (3.2)\n",
      "Requirement already satisfied: sniffio>=1.1 in /opt/conda/lib/python3.8/site-packages (from anyio>=3.1.0->jupyter-server>=1.8->nbclassic>=0.4.7->notebook) (1.2.0)\n",
      "Requirement already satisfied: parso<0.9.0,>=0.8.0 in /opt/conda/lib/python3.8/site-packages (from jedi>=0.16->ipython>=7.23.1->ipykernel->notebook) (0.8.2)\n",
      "Requirement already satisfied: python-json-logger>=2.0.4 in /opt/conda/lib/python3.8/site-packages (from jupyter-events>=0.4.0->jupyter-server>=1.8->nbclassic>=0.4.7->notebook) (2.0.7)\n",
      "Requirement already satisfied: pyyaml>=5.3 in /opt/conda/lib/python3.8/site-packages (from jupyter-events>=0.4.0->jupyter-server>=1.8->nbclassic>=0.4.7->notebook) (5.4.1)\n",
      "Requirement already satisfied: rfc3339-validator in /opt/conda/lib/python3.8/site-packages (from jupyter-events>=0.4.0->jupyter-server>=1.8->nbclassic>=0.4.7->notebook) (0.1.4)\n",
      "Requirement already satisfied: rfc3986-validator>=0.1.1 in /opt/conda/lib/python3.8/site-packages (from jupyter-events>=0.4.0->jupyter-server>=1.8->nbclassic>=0.4.7->notebook) (0.1.1)\n",
      "Requirement already satisfied: wcwidth in /opt/conda/lib/python3.8/site-packages (from prompt-toolkit!=3.0.37,<3.1.0,>=3.0.30->ipython>=7.23.1->ipykernel->notebook) (0.2.5)\n",
      "Requirement already satisfied: executing>=1.2.0 in /opt/conda/lib/python3.8/site-packages (from stack-data->ipython>=7.23.1->ipykernel->notebook) (1.2.0)\n",
      "Requirement already satisfied: asttokens>=2.1.0 in /opt/conda/lib/python3.8/site-packages (from stack-data->ipython>=7.23.1->ipykernel->notebook) (2.2.1)\n",
      "Requirement already satisfied: pure-eval in /opt/conda/lib/python3.8/site-packages (from stack-data->ipython>=7.23.1->ipykernel->notebook) (0.2.2)\n"
     ]
    },
    {
     "name": "stderr",
     "output_type": "stream",
     "text": [
      "WARNING: jsonschema 3.2.0 does not provide the extra 'format-nongpl'\n",
      "WARNING: Running pip as the 'root' user can result in broken permissions and conflicting behaviour with the system package manager. It is recommended to use a virtual environment instead: https://pip.pypa.io/warnings/venv\n"
     ]
    },
    {
     "name": "stdout",
     "output_type": "stream",
     "text": [
      "Requirement already satisfied: numpy in /opt/conda/lib/python3.8/site-packages (1.24.2)\n"
     ]
    },
    {
     "name": "stderr",
     "output_type": "stream",
     "text": [
      "WARNING: Running pip as the 'root' user can result in broken permissions and conflicting behaviour with the system package manager. It is recommended to use a virtual environment instead: https://pip.pypa.io/warnings/venv\n"
     ]
    },
    {
     "name": "stdout",
     "output_type": "stream",
     "text": [
      "Requirement already satisfied: pandas in /opt/conda/lib/python3.8/site-packages (1.3.4)\n",
      "Requirement already satisfied: python-dateutil>=2.7.3 in /opt/conda/lib/python3.8/site-packages (from pandas) (2.8.2)\n",
      "Requirement already satisfied: pytz>=2017.3 in /opt/conda/lib/python3.8/site-packages (from pandas) (2021.3)\n",
      "Requirement already satisfied: numpy>=1.17.3 in /opt/conda/lib/python3.8/site-packages (from pandas) (1.24.2)\n",
      "Requirement already satisfied: six>=1.5 in /opt/conda/lib/python3.8/site-packages (from python-dateutil>=2.7.3->pandas) (1.16.0)\n"
     ]
    },
    {
     "name": "stderr",
     "output_type": "stream",
     "text": [
      "WARNING: Running pip as the 'root' user can result in broken permissions and conflicting behaviour with the system package manager. It is recommended to use a virtual environment instead: https://pip.pypa.io/warnings/venv\n"
     ]
    },
    {
     "name": "stdout",
     "output_type": "stream",
     "text": [
      "Collecting transformers\n",
      "  Using cached transformers-4.28.1-py3-none-any.whl (7.0 MB)\n",
      "Requirement already satisfied: filelock in /opt/conda/lib/python3.8/site-packages (from transformers) (3.3.1)\n",
      "Collecting huggingface-hub<1.0,>=0.11.0 (from transformers)\n",
      "  Using cached huggingface_hub-0.14.1-py3-none-any.whl (224 kB)\n",
      "Requirement already satisfied: numpy>=1.17 in /opt/conda/lib/python3.8/site-packages (from transformers) (1.24.2)\n",
      "Requirement already satisfied: packaging>=20.0 in /opt/conda/lib/python3.8/site-packages (from transformers) (21.0)\n",
      "Requirement already satisfied: pyyaml>=5.1 in /opt/conda/lib/python3.8/site-packages (from transformers) (5.4.1)\n",
      "Requirement already satisfied: regex!=2019.12.17 in /opt/conda/lib/python3.8/site-packages (from transformers) (2021.8.3)\n",
      "Requirement already satisfied: requests in /opt/conda/lib/python3.8/site-packages (from transformers) (2.28.2)\n",
      "Collecting tokenizers!=0.11.3,<0.14,>=0.11.1 (from transformers)\n",
      "  Using cached tokenizers-0.13.3-cp38-cp38-manylinux_2_17_x86_64.manylinux2014_x86_64.whl (7.8 MB)\n",
      "Requirement already satisfied: tqdm>=4.27 in /opt/conda/lib/python3.8/site-packages (from transformers) (4.62.3)\n",
      "Requirement already satisfied: fsspec in /opt/conda/lib/python3.8/site-packages (from huggingface-hub<1.0,>=0.11.0->transformers) (2021.8.1)\n",
      "Requirement already satisfied: typing-extensions>=3.7.4.3 in /opt/conda/lib/python3.8/site-packages (from huggingface-hub<1.0,>=0.11.0->transformers) (4.5.0)\n",
      "Requirement already satisfied: pyparsing>=2.0.2 in /opt/conda/lib/python3.8/site-packages (from packaging>=20.0->transformers) (3.0.4)\n",
      "Requirement already satisfied: charset-normalizer<4,>=2 in /opt/conda/lib/python3.8/site-packages (from requests->transformers) (2.0.4)\n",
      "Requirement already satisfied: idna<4,>=2.5 in /opt/conda/lib/python3.8/site-packages (from requests->transformers) (3.2)\n",
      "Requirement already satisfied: urllib3<1.27,>=1.21.1 in /opt/conda/lib/python3.8/site-packages (from requests->transformers) (1.26.15)\n",
      "Requirement already satisfied: certifi>=2017.4.17 in /opt/conda/lib/python3.8/site-packages (from requests->transformers) (2022.12.7)\n",
      "Installing collected packages: tokenizers, huggingface-hub, transformers\n",
      "Successfully installed huggingface-hub-0.14.1 tokenizers-0.13.3 transformers-4.28.1\n"
     ]
    },
    {
     "name": "stderr",
     "output_type": "stream",
     "text": [
      "WARNING: Running pip as the 'root' user can result in broken permissions and conflicting behaviour with the system package manager. It is recommended to use a virtual environment instead: https://pip.pypa.io/warnings/venv\n"
     ]
    },
    {
     "name": "stdout",
     "output_type": "stream",
     "text": [
      "Collecting kaggle\n",
      "  Using cached kaggle-1.5.13-py3-none-any.whl\n",
      "Requirement already satisfied: six>=1.10 in /opt/conda/lib/python3.8/site-packages (from kaggle) (1.16.0)\n",
      "Requirement already satisfied: certifi in /opt/conda/lib/python3.8/site-packages (from kaggle) (2022.12.7)\n",
      "Requirement already satisfied: python-dateutil in /opt/conda/lib/python3.8/site-packages (from kaggle) (2.8.2)\n",
      "Requirement already satisfied: requests in /opt/conda/lib/python3.8/site-packages (from kaggle) (2.28.2)\n",
      "Requirement already satisfied: tqdm in /opt/conda/lib/python3.8/site-packages (from kaggle) (4.62.3)\n",
      "Requirement already satisfied: python-slugify in /opt/conda/lib/python3.8/site-packages (from kaggle) (5.0.2)\n",
      "Requirement already satisfied: urllib3 in /opt/conda/lib/python3.8/site-packages (from kaggle) (1.26.15)\n",
      "Requirement already satisfied: text-unidecode>=1.3 in /opt/conda/lib/python3.8/site-packages (from python-slugify->kaggle) (1.3)\n",
      "Requirement already satisfied: charset-normalizer<4,>=2 in /opt/conda/lib/python3.8/site-packages (from requests->kaggle) (2.0.4)\n",
      "Requirement already satisfied: idna<4,>=2.5 in /opt/conda/lib/python3.8/site-packages (from requests->kaggle) (3.2)\n",
      "Installing collected packages: kaggle\n",
      "Successfully installed kaggle-1.5.13\n"
     ]
    },
    {
     "name": "stderr",
     "output_type": "stream",
     "text": [
      "WARNING: Running pip as the 'root' user can result in broken permissions and conflicting behaviour with the system package manager. It is recommended to use a virtual environment instead: https://pip.pypa.io/warnings/venv\n"
     ]
    },
    {
     "name": "stdout",
     "output_type": "stream",
     "text": [
      "Collecting spacy==3.4.4\n",
      "  Using cached spacy-3.4.4-cp38-cp38-manylinux_2_17_x86_64.manylinux2014_x86_64.whl (6.6 MB)\n",
      "Collecting spacy-legacy<3.1.0,>=3.0.10 (from spacy==3.4.4)\n",
      "  Using cached spacy_legacy-3.0.12-py2.py3-none-any.whl (29 kB)\n",
      "Collecting spacy-loggers<2.0.0,>=1.0.0 (from spacy==3.4.4)\n",
      "  Using cached spacy_loggers-1.0.4-py3-none-any.whl (11 kB)\n",
      "Collecting murmurhash<1.1.0,>=0.28.0 (from spacy==3.4.4)\n",
      "  Using cached murmurhash-1.0.9-cp38-cp38-manylinux_2_5_x86_64.manylinux1_x86_64.manylinux_2_17_x86_64.manylinux2014_x86_64.whl (21 kB)\n",
      "Collecting cymem<2.1.0,>=2.0.2 (from spacy==3.4.4)\n",
      "  Using cached cymem-2.0.7-cp38-cp38-manylinux_2_17_x86_64.manylinux2014_x86_64.whl (36 kB)\n",
      "Collecting preshed<3.1.0,>=3.0.2 (from spacy==3.4.4)\n",
      "  Using cached preshed-3.0.8-cp38-cp38-manylinux_2_5_x86_64.manylinux1_x86_64.manylinux_2_17_x86_64.manylinux2014_x86_64.whl (130 kB)\n",
      "Collecting thinc<8.2.0,>=8.1.0 (from spacy==3.4.4)\n",
      "  Using cached thinc-8.1.9-cp38-cp38-manylinux_2_17_x86_64.manylinux2014_x86_64.whl (925 kB)\n",
      "Collecting wasabi<1.1.0,>=0.9.1 (from spacy==3.4.4)\n",
      "  Using cached wasabi-0.10.1-py3-none-any.whl (26 kB)\n",
      "Collecting srsly<3.0.0,>=2.4.3 (from spacy==3.4.4)\n",
      "  Using cached srsly-2.4.6-cp38-cp38-manylinux_2_17_x86_64.manylinux2014_x86_64.whl (493 kB)\n",
      "Collecting catalogue<2.1.0,>=2.0.6 (from spacy==3.4.4)\n",
      "  Using cached catalogue-2.0.8-py3-none-any.whl (17 kB)\n",
      "Collecting typer<0.8.0,>=0.3.0 (from spacy==3.4.4)\n",
      "  Using cached typer-0.7.0-py3-none-any.whl (38 kB)\n",
      "Collecting pathy>=0.3.5 (from spacy==3.4.4)\n",
      "  Using cached pathy-0.10.1-py3-none-any.whl (48 kB)\n",
      "Collecting smart-open<7.0.0,>=5.2.1 (from spacy==3.4.4)\n",
      "  Using cached smart_open-6.3.0-py3-none-any.whl (56 kB)\n",
      "Requirement already satisfied: tqdm<5.0.0,>=4.38.0 in /opt/conda/lib/python3.8/site-packages (from spacy==3.4.4) (4.62.3)\n",
      "Requirement already satisfied: numpy>=1.15.0 in /opt/conda/lib/python3.8/site-packages (from spacy==3.4.4) (1.24.2)\n",
      "Requirement already satisfied: requests<3.0.0,>=2.13.0 in /opt/conda/lib/python3.8/site-packages (from spacy==3.4.4) (2.28.2)\n",
      "Collecting pydantic!=1.8,!=1.8.1,<1.11.0,>=1.7.4 (from spacy==3.4.4)\n",
      "  Using cached pydantic-1.10.7-cp38-cp38-manylinux_2_17_x86_64.manylinux2014_x86_64.whl (3.2 MB)\n",
      "Requirement already satisfied: jinja2 in /opt/conda/lib/python3.8/site-packages (from spacy==3.4.4) (3.1.2)\n",
      "Requirement already satisfied: setuptools in /opt/conda/lib/python3.8/site-packages (from spacy==3.4.4) (67.6.1)\n",
      "Requirement already satisfied: packaging>=20.0 in /opt/conda/lib/python3.8/site-packages (from spacy==3.4.4) (21.0)\n",
      "Collecting langcodes<4.0.0,>=3.2.0 (from spacy==3.4.4)\n",
      "  Using cached langcodes-3.3.0-py3-none-any.whl (181 kB)\n",
      "Requirement already satisfied: pyparsing>=2.0.2 in /opt/conda/lib/python3.8/site-packages (from packaging>=20.0->spacy==3.4.4) (3.0.4)\n",
      "Requirement already satisfied: typing-extensions>=4.2.0 in /opt/conda/lib/python3.8/site-packages (from pydantic!=1.8,!=1.8.1,<1.11.0,>=1.7.4->spacy==3.4.4) (4.5.0)\n",
      "Requirement already satisfied: charset-normalizer<4,>=2 in /opt/conda/lib/python3.8/site-packages (from requests<3.0.0,>=2.13.0->spacy==3.4.4) (2.0.4)\n",
      "Requirement already satisfied: idna<4,>=2.5 in /opt/conda/lib/python3.8/site-packages (from requests<3.0.0,>=2.13.0->spacy==3.4.4) (3.2)\n",
      "Requirement already satisfied: urllib3<1.27,>=1.21.1 in /opt/conda/lib/python3.8/site-packages (from requests<3.0.0,>=2.13.0->spacy==3.4.4) (1.26.15)\n",
      "Requirement already satisfied: certifi>=2017.4.17 in /opt/conda/lib/python3.8/site-packages (from requests<3.0.0,>=2.13.0->spacy==3.4.4) (2022.12.7)\n",
      "Collecting blis<0.8.0,>=0.7.8 (from thinc<8.2.0,>=8.1.0->spacy==3.4.4)\n",
      "  Using cached blis-0.7.9-cp38-cp38-manylinux_2_17_x86_64.manylinux2014_x86_64.whl (10.2 MB)\n",
      "Collecting confection<1.0.0,>=0.0.1 (from thinc<8.2.0,>=8.1.0->spacy==3.4.4)\n",
      "  Using cached confection-0.0.4-py3-none-any.whl (32 kB)\n",
      "Requirement already satisfied: click<9.0.0,>=7.1.1 in /opt/conda/lib/python3.8/site-packages (from typer<0.8.0,>=0.3.0->spacy==3.4.4) (8.0.3)\n",
      "Requirement already satisfied: MarkupSafe>=2.0 in /opt/conda/lib/python3.8/site-packages (from jinja2->spacy==3.4.4) (2.1.2)\n",
      "Installing collected packages: wasabi, cymem, typer, spacy-loggers, spacy-legacy, smart-open, pydantic, murmurhash, langcodes, catalogue, blis, srsly, preshed, pathy, confection, thinc, spacy\n",
      "Successfully installed blis-0.7.9 catalogue-2.0.8 confection-0.0.4 cymem-2.0.7 langcodes-3.3.0 murmurhash-1.0.9 pathy-0.10.1 preshed-3.0.8 pydantic-1.10.7 smart-open-6.3.0 spacy-3.4.4 spacy-legacy-3.0.12 spacy-loggers-1.0.4 srsly-2.4.6 thinc-8.1.9 typer-0.7.0 wasabi-0.10.1\n"
     ]
    },
    {
     "name": "stderr",
     "output_type": "stream",
     "text": [
      "WARNING: Running pip as the 'root' user can result in broken permissions and conflicting behaviour with the system package manager. It is recommended to use a virtual environment instead: https://pip.pypa.io/warnings/venv\n"
     ]
    },
    {
     "name": "stdout",
     "output_type": "stream",
     "text": [
      "Requirement already satisfied: matplotlib in /opt/conda/lib/python3.8/site-packages (3.4.3)\n",
      "Requirement already satisfied: cycler>=0.10 in /opt/conda/lib/python3.8/site-packages (from matplotlib) (0.10.0)\n",
      "Requirement already satisfied: kiwisolver>=1.0.1 in /opt/conda/lib/python3.8/site-packages (from matplotlib) (1.3.1)\n",
      "Requirement already satisfied: numpy>=1.16 in /opt/conda/lib/python3.8/site-packages (from matplotlib) (1.24.2)\n",
      "Requirement already satisfied: pillow>=6.2.0 in /opt/conda/lib/python3.8/site-packages (from matplotlib) (9.5.0)\n",
      "Requirement already satisfied: pyparsing>=2.2.1 in /opt/conda/lib/python3.8/site-packages (from matplotlib) (3.0.4)\n",
      "Requirement already satisfied: python-dateutil>=2.7 in /opt/conda/lib/python3.8/site-packages (from matplotlib) (2.8.2)\n",
      "Requirement already satisfied: six in /opt/conda/lib/python3.8/site-packages (from cycler>=0.10->matplotlib) (1.16.0)\n"
     ]
    },
    {
     "name": "stderr",
     "output_type": "stream",
     "text": [
      "WARNING: Running pip as the 'root' user can result in broken permissions and conflicting behaviour with the system package manager. It is recommended to use a virtual environment instead: https://pip.pypa.io/warnings/venv\n"
     ]
    },
    {
     "name": "stdout",
     "output_type": "stream",
     "text": [
      "Requirement already satisfied: psutil in /opt/conda/lib/python3.8/site-packages (5.8.0)\n"
     ]
    },
    {
     "name": "stderr",
     "output_type": "stream",
     "text": [
      "WARNING: Running pip as the 'root' user can result in broken permissions and conflicting behaviour with the system package manager. It is recommended to use a virtual environment instead: https://pip.pypa.io/warnings/venv\n"
     ]
    },
    {
     "name": "stdout",
     "output_type": "stream",
     "text": [
      "Collecting opencv-python\n",
      "  Using cached opencv_python-4.7.0.72-cp37-abi3-manylinux_2_17_x86_64.manylinux2014_x86_64.whl (61.8 MB)\n",
      "Requirement already satisfied: numpy>=1.17.0 in /opt/conda/lib/python3.8/site-packages (from opencv-python) (1.24.2)\n",
      "Installing collected packages: opencv-python\n",
      "Successfully installed opencv-python-4.7.0.72\n"
     ]
    },
    {
     "name": "stderr",
     "output_type": "stream",
     "text": [
      "WARNING: Running pip as the 'root' user can result in broken permissions and conflicting behaviour with the system package manager. It is recommended to use a virtual environment instead: https://pip.pypa.io/warnings/venv\n"
     ]
    },
    {
     "name": "stdout",
     "output_type": "stream",
     "text": [
      "Requirement already satisfied: scikit-learn in /opt/conda/lib/python3.8/site-packages (0.24.2)\n",
      "Requirement already satisfied: numpy>=1.13.3 in /opt/conda/lib/python3.8/site-packages (from scikit-learn) (1.24.2)\n",
      "Requirement already satisfied: scipy>=0.19.1 in /opt/conda/lib/python3.8/site-packages (from scikit-learn) (1.7.1)\n",
      "Requirement already satisfied: joblib>=0.11 in /opt/conda/lib/python3.8/site-packages (from scikit-learn) (1.2.0)\n",
      "Requirement already satisfied: threadpoolctl>=2.0.0 in /opt/conda/lib/python3.8/site-packages (from scikit-learn) (2.2.0)\n",
      "Collecting numpy>=1.13.3 (from scikit-learn)\n",
      "  Downloading numpy-1.22.4-cp38-cp38-manylinux_2_17_x86_64.manylinux2014_x86_64.whl (16.9 MB)\n",
      "\u001b[2K     ━━━━━━━━━━━━━━━━━━━━━━━━━━━━━━━━━━━━━━━━ 16.9/16.9 MB 42.2 MB/s eta 0:00:00\n",
      "\u001b[?25hInstalling collected packages: numpy\n",
      "  Attempting uninstall: numpy\n",
      "    Found existing installation: numpy 1.24.2\n",
      "    Uninstalling numpy-1.24.2:\n",
      "      Successfully uninstalled numpy-1.24.2\n"
     ]
    },
    {
     "name": "stderr",
     "output_type": "stream",
     "text": [
      "ERROR: pip's dependency resolver does not currently take into account all the packages that are installed. This behaviour is the source of the following dependency conflicts.\n",
      "daal4py 2021.3.0 requires daal==2021.2.3, which is not installed.\n",
      "numba 0.54.1 requires numpy<1.21,>=1.17, but you have numpy 1.22.4 which is incompatible.\n",
      "sagemaker 2.145.0 requires importlib-metadata<5.0,>=1.4.0, but you have importlib-metadata 6.3.0 which is incompatible.\n",
      "torchvision 0.15.1 requires torch==2.0.0, but you have torch 1.13.1 which is incompatible.\n",
      "WARNING: Running pip as the 'root' user can result in broken permissions and conflicting behaviour with the system package manager. It is recommended to use a virtual environment instead: https://pip.pypa.io/warnings/venv\n"
     ]
    },
    {
     "name": "stdout",
     "output_type": "stream",
     "text": [
      "Successfully installed numpy-1.22.4\n",
      "Collecting albumentations\n",
      "  Using cached albumentations-1.3.0-py3-none-any.whl (123 kB)\n",
      "Requirement already satisfied: numpy>=1.11.1 in /opt/conda/lib/python3.8/site-packages (from albumentations) (1.22.4)\n",
      "Requirement already satisfied: scipy in /opt/conda/lib/python3.8/site-packages (from albumentations) (1.7.1)\n",
      "Requirement already satisfied: scikit-image>=0.16.1 in /opt/conda/lib/python3.8/site-packages (from albumentations) (0.18.3)\n",
      "Requirement already satisfied: PyYAML in /opt/conda/lib/python3.8/site-packages (from albumentations) (5.4.1)\n",
      "Collecting qudida>=0.0.4 (from albumentations)\n",
      "  Using cached qudida-0.0.4-py3-none-any.whl (3.5 kB)\n",
      "Collecting opencv-python-headless>=4.1.1 (from albumentations)\n",
      "  Using cached opencv_python_headless-4.7.0.72-cp37-abi3-manylinux_2_17_x86_64.manylinux2014_x86_64.whl (49.2 MB)\n",
      "Requirement already satisfied: scikit-learn>=0.19.1 in /opt/conda/lib/python3.8/site-packages (from qudida>=0.0.4->albumentations) (0.24.2)\n",
      "Requirement already satisfied: typing-extensions in /opt/conda/lib/python3.8/site-packages (from qudida>=0.0.4->albumentations) (4.5.0)\n",
      "Requirement already satisfied: matplotlib!=3.0.0,>=2.0.0 in /opt/conda/lib/python3.8/site-packages (from scikit-image>=0.16.1->albumentations) (3.4.3)\n",
      "Requirement already satisfied: networkx>=2.0 in /opt/conda/lib/python3.8/site-packages (from scikit-image>=0.16.1->albumentations) (2.6.3)\n",
      "Requirement already satisfied: pillow!=7.1.0,!=7.1.1,>=4.3.0 in /opt/conda/lib/python3.8/site-packages (from scikit-image>=0.16.1->albumentations) (9.5.0)\n",
      "Requirement already satisfied: imageio>=2.3.0 in /opt/conda/lib/python3.8/site-packages (from scikit-image>=0.16.1->albumentations) (2.9.0)\n",
      "Requirement already satisfied: tifffile>=2019.7.26 in /opt/conda/lib/python3.8/site-packages (from scikit-image>=0.16.1->albumentations) (2021.7.2)\n",
      "Requirement already satisfied: PyWavelets>=1.1.1 in /opt/conda/lib/python3.8/site-packages (from scikit-image>=0.16.1->albumentations) (1.1.1)\n",
      "Requirement already satisfied: cycler>=0.10 in /opt/conda/lib/python3.8/site-packages (from matplotlib!=3.0.0,>=2.0.0->scikit-image>=0.16.1->albumentations) (0.10.0)\n",
      "Requirement already satisfied: kiwisolver>=1.0.1 in /opt/conda/lib/python3.8/site-packages (from matplotlib!=3.0.0,>=2.0.0->scikit-image>=0.16.1->albumentations) (1.3.1)\n",
      "Requirement already satisfied: pyparsing>=2.2.1 in /opt/conda/lib/python3.8/site-packages (from matplotlib!=3.0.0,>=2.0.0->scikit-image>=0.16.1->albumentations) (3.0.4)\n",
      "Requirement already satisfied: python-dateutil>=2.7 in /opt/conda/lib/python3.8/site-packages (from matplotlib!=3.0.0,>=2.0.0->scikit-image>=0.16.1->albumentations) (2.8.2)\n",
      "Requirement already satisfied: joblib>=0.11 in /opt/conda/lib/python3.8/site-packages (from scikit-learn>=0.19.1->qudida>=0.0.4->albumentations) (1.2.0)\n",
      "Requirement already satisfied: threadpoolctl>=2.0.0 in /opt/conda/lib/python3.8/site-packages (from scikit-learn>=0.19.1->qudida>=0.0.4->albumentations) (2.2.0)\n",
      "Requirement already satisfied: six in /opt/conda/lib/python3.8/site-packages (from cycler>=0.10->matplotlib!=3.0.0,>=2.0.0->scikit-image>=0.16.1->albumentations) (1.16.0)\n",
      "Installing collected packages: opencv-python-headless, qudida, albumentations\n",
      "Successfully installed albumentations-1.3.0 opencv-python-headless-4.7.0.72 qudida-0.0.4\n"
     ]
    },
    {
     "name": "stderr",
     "output_type": "stream",
     "text": [
      "WARNING: Running pip as the 'root' user can result in broken permissions and conflicting behaviour with the system package manager. It is recommended to use a virtual environment instead: https://pip.pypa.io/warnings/venv\n"
     ]
    },
    {
     "name": "stdout",
     "output_type": "stream",
     "text": [
      "Collecting timm\n",
      "  Using cached timm-0.6.13-py3-none-any.whl (549 kB)\n",
      "Requirement already satisfied: torch>=1.7 in /opt/conda/lib/python3.8/site-packages (from timm) (1.13.1)\n",
      "Requirement already satisfied: torchvision in /opt/conda/lib/python3.8/site-packages (from timm) (0.15.1)\n",
      "Requirement already satisfied: pyyaml in /opt/conda/lib/python3.8/site-packages (from timm) (5.4.1)\n",
      "Requirement already satisfied: huggingface-hub in /opt/conda/lib/python3.8/site-packages (from timm) (0.14.1)\n",
      "Requirement already satisfied: typing-extensions in /opt/conda/lib/python3.8/site-packages (from torch>=1.7->timm) (4.5.0)\n",
      "Requirement already satisfied: nvidia-cuda-runtime-cu11==11.7.99 in /opt/conda/lib/python3.8/site-packages (from torch>=1.7->timm) (11.7.99)\n",
      "Requirement already satisfied: nvidia-cudnn-cu11==8.5.0.96 in /opt/conda/lib/python3.8/site-packages (from torch>=1.7->timm) (8.5.0.96)\n",
      "Requirement already satisfied: nvidia-cublas-cu11==11.10.3.66 in /opt/conda/lib/python3.8/site-packages (from torch>=1.7->timm) (11.10.3.66)\n",
      "Requirement already satisfied: nvidia-cuda-nvrtc-cu11==11.7.99 in /opt/conda/lib/python3.8/site-packages (from torch>=1.7->timm) (11.7.99)\n",
      "Requirement already satisfied: setuptools in /opt/conda/lib/python3.8/site-packages (from nvidia-cublas-cu11==11.10.3.66->torch>=1.7->timm) (67.6.1)\n",
      "Requirement already satisfied: wheel in /opt/conda/lib/python3.8/site-packages (from nvidia-cublas-cu11==11.10.3.66->torch>=1.7->timm) (0.40.0)\n",
      "Requirement already satisfied: filelock in /opt/conda/lib/python3.8/site-packages (from huggingface-hub->timm) (3.3.1)\n",
      "Requirement already satisfied: fsspec in /opt/conda/lib/python3.8/site-packages (from huggingface-hub->timm) (2021.8.1)\n",
      "Requirement already satisfied: requests in /opt/conda/lib/python3.8/site-packages (from huggingface-hub->timm) (2.28.2)\n",
      "Requirement already satisfied: tqdm>=4.42.1 in /opt/conda/lib/python3.8/site-packages (from huggingface-hub->timm) (4.62.3)\n",
      "Requirement already satisfied: packaging>=20.9 in /opt/conda/lib/python3.8/site-packages (from huggingface-hub->timm) (21.0)\n",
      "Requirement already satisfied: numpy in /opt/conda/lib/python3.8/site-packages (from torchvision->timm) (1.22.4)\n",
      "Collecting torch>=1.7 (from timm)\n",
      "  Using cached torch-2.0.0-cp38-cp38-manylinux1_x86_64.whl (619.9 MB)\n",
      "Requirement already satisfied: pillow!=8.3.*,>=5.3.0 in /opt/conda/lib/python3.8/site-packages (from torchvision->timm) (9.5.0)\n",
      "Requirement already satisfied: sympy in /opt/conda/lib/python3.8/site-packages (from torch>=1.7->timm) (1.9)\n",
      "Requirement already satisfied: networkx in /opt/conda/lib/python3.8/site-packages (from torch>=1.7->timm) (2.6.3)\n",
      "Requirement already satisfied: jinja2 in /opt/conda/lib/python3.8/site-packages (from torch>=1.7->timm) (3.1.2)\n",
      "Requirement already satisfied: nvidia-cuda-cupti-cu11==11.7.101 in /opt/conda/lib/python3.8/site-packages (from torch>=1.7->timm) (11.7.101)\n",
      "Requirement already satisfied: nvidia-cufft-cu11==10.9.0.58 in /opt/conda/lib/python3.8/site-packages (from torch>=1.7->timm) (10.9.0.58)\n",
      "Requirement already satisfied: nvidia-curand-cu11==10.2.10.91 in /opt/conda/lib/python3.8/site-packages (from torch>=1.7->timm) (10.2.10.91)\n",
      "Requirement already satisfied: nvidia-cusolver-cu11==11.4.0.1 in /opt/conda/lib/python3.8/site-packages (from torch>=1.7->timm) (11.4.0.1)\n",
      "Requirement already satisfied: nvidia-cusparse-cu11==11.7.4.91 in /opt/conda/lib/python3.8/site-packages (from torch>=1.7->timm) (11.7.4.91)\n",
      "Requirement already satisfied: nvidia-nccl-cu11==2.14.3 in /opt/conda/lib/python3.8/site-packages (from torch>=1.7->timm) (2.14.3)\n",
      "Requirement already satisfied: nvidia-nvtx-cu11==11.7.91 in /opt/conda/lib/python3.8/site-packages (from torch>=1.7->timm) (11.7.91)\n",
      "Requirement already satisfied: triton==2.0.0 in /opt/conda/lib/python3.8/site-packages (from torch>=1.7->timm) (2.0.0)\n",
      "Requirement already satisfied: cmake in /opt/conda/lib/python3.8/site-packages (from triton==2.0.0->torch>=1.7->timm) (3.26.3)\n",
      "Requirement already satisfied: lit in /opt/conda/lib/python3.8/site-packages (from triton==2.0.0->torch>=1.7->timm) (16.0.2)\n",
      "Requirement already satisfied: pyparsing>=2.0.2 in /opt/conda/lib/python3.8/site-packages (from packaging>=20.9->huggingface-hub->timm) (3.0.4)\n",
      "Requirement already satisfied: MarkupSafe>=2.0 in /opt/conda/lib/python3.8/site-packages (from jinja2->torch>=1.7->timm) (2.1.2)\n",
      "Requirement already satisfied: charset-normalizer<4,>=2 in /opt/conda/lib/python3.8/site-packages (from requests->huggingface-hub->timm) (2.0.4)\n",
      "Requirement already satisfied: idna<4,>=2.5 in /opt/conda/lib/python3.8/site-packages (from requests->huggingface-hub->timm) (3.2)\n",
      "Requirement already satisfied: urllib3<1.27,>=1.21.1 in /opt/conda/lib/python3.8/site-packages (from requests->huggingface-hub->timm) (1.26.15)\n",
      "Requirement already satisfied: certifi>=2017.4.17 in /opt/conda/lib/python3.8/site-packages (from requests->huggingface-hub->timm) (2022.12.7)\n",
      "Requirement already satisfied: mpmath>=0.19 in /opt/conda/lib/python3.8/site-packages (from sympy->torch>=1.7->timm) (1.3.0)\n",
      "Installing collected packages: torch, timm\n",
      "  Attempting uninstall: torch\n",
      "    Found existing installation: torch 1.13.1\n",
      "    Uninstalling torch-1.13.1:\n",
      "      Successfully uninstalled torch-1.13.1\n",
      "Successfully installed timm-0.6.13 torch-2.0.0\n"
     ]
    },
    {
     "name": "stderr",
     "output_type": "stream",
     "text": [
      "ERROR: pip's dependency resolver does not currently take into account all the packages that are installed. This behaviour is the source of the following dependency conflicts.\n",
      "torchtext 0.14.1 requires torch==1.13.1, but you have torch 2.0.0 which is incompatible.\n",
      "WARNING: Running pip as the 'root' user can result in broken permissions and conflicting behaviour with the system package manager. It is recommended to use a virtual environment instead: https://pip.pypa.io/warnings/venv\n"
     ]
    }
   ],
   "source": [
    "!pip install --upgrade pip\n",
    "\n",
    "import os\n",
    "import yaml\n",
    "\n",
    "with open(\"environment.yml\") as file_handle:\n",
    "    environment_data = yaml.safe_load(file_handle)\n",
    "\n",
    "for dependency in environment_data[\"dependencies\"]:\n",
    "    if isinstance(dependency, dict):\n",
    "      for lib in dependency['pip']:\n",
    "        os.system(f\"pip install {lib}\")"
   ]
  },
  {
   "cell_type": "code",
   "execution_count": 51,
   "metadata": {
    "colab": {
     "base_uri": "https://localhost:8080/"
    },
    "executionInfo": {
     "elapsed": 6990,
     "status": "ok",
     "timestamp": 1682161724121,
     "user": {
      "displayName": "Brandon Alves",
      "userId": "02156452593524706920"
     },
     "user_tz": -120
    },
    "id": "eUNtGpJkqUvZ",
    "outputId": "b4a9e6b0-cf61-4b3e-e350-9b2d02818c94",
    "tags": []
   },
   "outputs": [
    {
     "name": "stdout",
     "output_type": "stream",
     "text": [
      "Requirement already satisfied: albumentations in /opt/conda/lib/python3.8/site-packages (1.3.0)\n",
      "Requirement already satisfied: numpy>=1.11.1 in /opt/conda/lib/python3.8/site-packages (from albumentations) (1.22.4)\n",
      "Requirement already satisfied: scipy in /opt/conda/lib/python3.8/site-packages (from albumentations) (1.7.1)\n",
      "Requirement already satisfied: scikit-image>=0.16.1 in /opt/conda/lib/python3.8/site-packages (from albumentations) (0.18.3)\n",
      "Requirement already satisfied: PyYAML in /opt/conda/lib/python3.8/site-packages (from albumentations) (5.4.1)\n",
      "Requirement already satisfied: qudida>=0.0.4 in /opt/conda/lib/python3.8/site-packages (from albumentations) (0.0.4)\n",
      "Requirement already satisfied: opencv-python-headless>=4.1.1 in /opt/conda/lib/python3.8/site-packages (from albumentations) (4.7.0.72)\n",
      "Requirement already satisfied: scikit-learn>=0.19.1 in /opt/conda/lib/python3.8/site-packages (from qudida>=0.0.4->albumentations) (0.24.2)\n",
      "Requirement already satisfied: typing-extensions in /opt/conda/lib/python3.8/site-packages (from qudida>=0.0.4->albumentations) (4.5.0)\n",
      "Requirement already satisfied: matplotlib!=3.0.0,>=2.0.0 in /opt/conda/lib/python3.8/site-packages (from scikit-image>=0.16.1->albumentations) (3.4.3)\n",
      "Requirement already satisfied: networkx>=2.0 in /opt/conda/lib/python3.8/site-packages (from scikit-image>=0.16.1->albumentations) (2.6.3)\n",
      "Requirement already satisfied: pillow!=7.1.0,!=7.1.1,>=4.3.0 in /opt/conda/lib/python3.8/site-packages (from scikit-image>=0.16.1->albumentations) (9.5.0)\n",
      "Requirement already satisfied: imageio>=2.3.0 in /opt/conda/lib/python3.8/site-packages (from scikit-image>=0.16.1->albumentations) (2.9.0)\n",
      "Requirement already satisfied: tifffile>=2019.7.26 in /opt/conda/lib/python3.8/site-packages (from scikit-image>=0.16.1->albumentations) (2021.7.2)\n",
      "Requirement already satisfied: PyWavelets>=1.1.1 in /opt/conda/lib/python3.8/site-packages (from scikit-image>=0.16.1->albumentations) (1.1.1)\n",
      "Requirement already satisfied: cycler>=0.10 in /opt/conda/lib/python3.8/site-packages (from matplotlib!=3.0.0,>=2.0.0->scikit-image>=0.16.1->albumentations) (0.10.0)\n",
      "Requirement already satisfied: kiwisolver>=1.0.1 in /opt/conda/lib/python3.8/site-packages (from matplotlib!=3.0.0,>=2.0.0->scikit-image>=0.16.1->albumentations) (1.3.1)\n",
      "Requirement already satisfied: pyparsing>=2.2.1 in /opt/conda/lib/python3.8/site-packages (from matplotlib!=3.0.0,>=2.0.0->scikit-image>=0.16.1->albumentations) (3.0.4)\n",
      "Requirement already satisfied: python-dateutil>=2.7 in /opt/conda/lib/python3.8/site-packages (from matplotlib!=3.0.0,>=2.0.0->scikit-image>=0.16.1->albumentations) (2.8.2)\n",
      "Requirement already satisfied: joblib>=0.11 in /opt/conda/lib/python3.8/site-packages (from scikit-learn>=0.19.1->qudida>=0.0.4->albumentations) (1.2.0)\n",
      "Requirement already satisfied: threadpoolctl>=2.0.0 in /opt/conda/lib/python3.8/site-packages (from scikit-learn>=0.19.1->qudida>=0.0.4->albumentations) (2.2.0)\n",
      "Requirement already satisfied: six in /opt/conda/lib/python3.8/site-packages (from cycler>=0.10->matplotlib!=3.0.0,>=2.0.0->scikit-image>=0.16.1->albumentations) (1.16.0)\n",
      "\u001b[33mWARNING: Running pip as the 'root' user can result in broken permissions and conflicting behaviour with the system package manager. It is recommended to use a virtual environment instead: https://pip.pypa.io/warnings/venv\u001b[0m\u001b[33m\n",
      "\u001b[0mRequirement already satisfied: timm in /opt/conda/lib/python3.8/site-packages (0.6.13)\n",
      "Requirement already satisfied: torch>=1.7 in /opt/conda/lib/python3.8/site-packages (from timm) (2.0.0)\n",
      "Requirement already satisfied: torchvision in /opt/conda/lib/python3.8/site-packages (from timm) (0.15.1)\n",
      "Requirement already satisfied: pyyaml in /opt/conda/lib/python3.8/site-packages (from timm) (5.4.1)\n",
      "Requirement already satisfied: huggingface-hub in /opt/conda/lib/python3.8/site-packages (from timm) (0.14.1)\n",
      "Requirement already satisfied: filelock in /opt/conda/lib/python3.8/site-packages (from torch>=1.7->timm) (3.3.1)\n",
      "Requirement already satisfied: typing-extensions in /opt/conda/lib/python3.8/site-packages (from torch>=1.7->timm) (4.5.0)\n",
      "Requirement already satisfied: sympy in /opt/conda/lib/python3.8/site-packages (from torch>=1.7->timm) (1.9)\n",
      "Requirement already satisfied: networkx in /opt/conda/lib/python3.8/site-packages (from torch>=1.7->timm) (2.6.3)\n",
      "Requirement already satisfied: jinja2 in /opt/conda/lib/python3.8/site-packages (from torch>=1.7->timm) (3.1.2)\n",
      "Requirement already satisfied: nvidia-cuda-nvrtc-cu11==11.7.99 in /opt/conda/lib/python3.8/site-packages (from torch>=1.7->timm) (11.7.99)\n",
      "Requirement already satisfied: nvidia-cuda-runtime-cu11==11.7.99 in /opt/conda/lib/python3.8/site-packages (from torch>=1.7->timm) (11.7.99)\n",
      "Requirement already satisfied: nvidia-cuda-cupti-cu11==11.7.101 in /opt/conda/lib/python3.8/site-packages (from torch>=1.7->timm) (11.7.101)\n",
      "Requirement already satisfied: nvidia-cudnn-cu11==8.5.0.96 in /opt/conda/lib/python3.8/site-packages (from torch>=1.7->timm) (8.5.0.96)\n",
      "Requirement already satisfied: nvidia-cublas-cu11==11.10.3.66 in /opt/conda/lib/python3.8/site-packages (from torch>=1.7->timm) (11.10.3.66)\n",
      "Requirement already satisfied: nvidia-cufft-cu11==10.9.0.58 in /opt/conda/lib/python3.8/site-packages (from torch>=1.7->timm) (10.9.0.58)\n",
      "Requirement already satisfied: nvidia-curand-cu11==10.2.10.91 in /opt/conda/lib/python3.8/site-packages (from torch>=1.7->timm) (10.2.10.91)\n",
      "Requirement already satisfied: nvidia-cusolver-cu11==11.4.0.1 in /opt/conda/lib/python3.8/site-packages (from torch>=1.7->timm) (11.4.0.1)\n",
      "Requirement already satisfied: nvidia-cusparse-cu11==11.7.4.91 in /opt/conda/lib/python3.8/site-packages (from torch>=1.7->timm) (11.7.4.91)\n",
      "Requirement already satisfied: nvidia-nccl-cu11==2.14.3 in /opt/conda/lib/python3.8/site-packages (from torch>=1.7->timm) (2.14.3)\n",
      "Requirement already satisfied: nvidia-nvtx-cu11==11.7.91 in /opt/conda/lib/python3.8/site-packages (from torch>=1.7->timm) (11.7.91)\n",
      "Requirement already satisfied: triton==2.0.0 in /opt/conda/lib/python3.8/site-packages (from torch>=1.7->timm) (2.0.0)\n",
      "Requirement already satisfied: setuptools in /opt/conda/lib/python3.8/site-packages (from nvidia-cublas-cu11==11.10.3.66->torch>=1.7->timm) (67.6.1)\n",
      "Requirement already satisfied: wheel in /opt/conda/lib/python3.8/site-packages (from nvidia-cublas-cu11==11.10.3.66->torch>=1.7->timm) (0.40.0)\n",
      "Requirement already satisfied: cmake in /opt/conda/lib/python3.8/site-packages (from triton==2.0.0->torch>=1.7->timm) (3.26.3)\n",
      "Requirement already satisfied: lit in /opt/conda/lib/python3.8/site-packages (from triton==2.0.0->torch>=1.7->timm) (16.0.2)\n",
      "Requirement already satisfied: fsspec in /opt/conda/lib/python3.8/site-packages (from huggingface-hub->timm) (2021.8.1)\n",
      "Requirement already satisfied: requests in /opt/conda/lib/python3.8/site-packages (from huggingface-hub->timm) (2.28.2)\n",
      "Requirement already satisfied: tqdm>=4.42.1 in /opt/conda/lib/python3.8/site-packages (from huggingface-hub->timm) (4.62.3)\n",
      "Requirement already satisfied: packaging>=20.9 in /opt/conda/lib/python3.8/site-packages (from huggingface-hub->timm) (21.0)\n",
      "Requirement already satisfied: numpy in /opt/conda/lib/python3.8/site-packages (from torchvision->timm) (1.22.4)\n",
      "Requirement already satisfied: pillow!=8.3.*,>=5.3.0 in /opt/conda/lib/python3.8/site-packages (from torchvision->timm) (9.5.0)\n",
      "Requirement already satisfied: pyparsing>=2.0.2 in /opt/conda/lib/python3.8/site-packages (from packaging>=20.9->huggingface-hub->timm) (3.0.4)\n",
      "Requirement already satisfied: MarkupSafe>=2.0 in /opt/conda/lib/python3.8/site-packages (from jinja2->torch>=1.7->timm) (2.1.2)\n",
      "Requirement already satisfied: charset-normalizer<4,>=2 in /opt/conda/lib/python3.8/site-packages (from requests->huggingface-hub->timm) (2.0.4)\n",
      "Requirement already satisfied: idna<4,>=2.5 in /opt/conda/lib/python3.8/site-packages (from requests->huggingface-hub->timm) (3.2)\n",
      "Requirement already satisfied: urllib3<1.27,>=1.21.1 in /opt/conda/lib/python3.8/site-packages (from requests->huggingface-hub->timm) (1.26.15)\n",
      "Requirement already satisfied: certifi>=2017.4.17 in /opt/conda/lib/python3.8/site-packages (from requests->huggingface-hub->timm) (2022.12.7)\n",
      "Requirement already satisfied: mpmath>=0.19 in /opt/conda/lib/python3.8/site-packages (from sympy->torch>=1.7->timm) (1.3.0)\n",
      "\u001b[33mWARNING: Running pip as the 'root' user can result in broken permissions and conflicting behaviour with the system package manager. It is recommended to use a virtual environment instead: https://pip.pypa.io/warnings/venv\u001b[0m\u001b[33m\n",
      "\u001b[0mCollecting faiss-gpu==1.7.2\n",
      "  Using cached faiss_gpu-1.7.2-cp38-cp38-manylinux_2_17_x86_64.manylinux2014_x86_64.whl (85.5 MB)\n",
      "Installing collected packages: faiss-gpu\n",
      "Successfully installed faiss-gpu-1.7.2\n",
      "\u001b[33mWARNING: Running pip as the 'root' user can result in broken permissions and conflicting behaviour with the system package manager. It is recommended to use a virtual environment instead: https://pip.pypa.io/warnings/venv\u001b[0m\u001b[33m\n",
      "\u001b[0m"
     ]
    }
   ],
   "source": [
    "!pip install albumentations\n",
    "!pip install timm\n",
    "!python -m pip install --upgrade faiss-gpu==1.7.2"
   ]
  },
  {
   "cell_type": "code",
   "execution_count": 4,
   "metadata": {
    "tags": []
   },
   "outputs": [
    {
     "name": "stdout",
     "output_type": "stream",
     "text": [
      "Requirement already satisfied: opencv-python-headless in /opt/conda/lib/python3.8/site-packages (4.7.0.72)\n",
      "Requirement already satisfied: numpy>=1.17.0 in /opt/conda/lib/python3.8/site-packages (from opencv-python-headless) (1.22.4)\n",
      "\u001b[33mWARNING: Running pip as the 'root' user can result in broken permissions and conflicting behaviour with the system package manager. It is recommended to use a virtual environment instead: https://pip.pypa.io/warnings/venv\u001b[0m\u001b[33m\n",
      "\u001b[0mNote: you may need to restart the kernel to use updated packages.\n"
     ]
    }
   ],
   "source": [
    "pip install opencv-python-headless"
   ]
  },
  {
   "cell_type": "code",
   "execution_count": 52,
   "metadata": {
    "colab": {
     "base_uri": "https://localhost:8080/"
    },
    "executionInfo": {
     "elapsed": 16700,
     "status": "ok",
     "timestamp": 1682161740814,
     "user": {
      "displayName": "Brandon Alves",
      "userId": "02156452593524706920"
     },
     "user_tz": -120
    },
    "id": "eqS_nrUJSrEk",
    "outputId": "7bfbc460-ddfe-4be7-9994-cc5a9a36754a",
    "tags": []
   },
   "outputs": [
    {
     "name": "stdout",
     "output_type": "stream",
     "text": [
      "You are using device: cuda\n",
      "Setting all seeds to be 42 to reproduce...\n"
     ]
    }
   ],
   "source": [
    "import torch\n",
    "import torch.nn as nn\n",
    "import torch.optim as optim\n",
    "from torch.utils.data import DataLoader\n",
    "import albumentations\n",
    "from warnings import filterwarnings\n",
    "filterwarnings(\"ignore\")\n",
    "\n",
    "from modules.utils.seed_utils import seed_everything\n",
    "from modules.utils.dataset_utils import get_arcface_loss_dataset\n",
    "from modules.datasets.ImageArcFaceLossShopeeDataset import ImageArcFaceLossShopeeDataset\n",
    "from modules.models.DenseNet import DenseNet\n",
    "from modules.models.DenseNetCurricularLoss import DenseNetCurricularLoss\n",
    "from modules.models.ResNet18CurricularLoss import ResNet18CurricularLoss\n",
    "from modules.utils.CommonVIsualizer import CommonVisualizer\n",
    "from modules.utils.F1ScoreEvaluator import F1ScoreEvaluator\n",
    "from modules.utils.training_utils import *\n",
    "# from modules.utils.CommonVisualizer import *\n",
    "\n",
    "device = torch.device('cuda' if torch.cuda.is_available() else 'cpu')\n",
    "print(\"You are using device: %s\" % device)\n",
    "\n",
    "seed_everything(42)"
   ]
  },
  {
   "cell_type": "code",
   "execution_count": 2,
   "metadata": {
    "tags": []
   },
   "outputs": [],
   "source": [
    "class CommonVisualizer(object):\n",
    "\n",
    "    def __init__(self):\n",
    "        pass\n",
    "\n",
    "    def plt_f1_score_vs_threshold(self, thresholds, f1_scores, model_name_and_loss, filename):\n",
    "        plt.plot(thresholds, f1_scores)\n",
    "        self._default_plt_setting(\n",
    "            title=f'F1-score vs cosine similarity threshold ({model_name_and_loss})',\n",
    "            x_label='Cosine similarity threshold',\n",
    "            y_label='Average F1-score',\n",
    "            filename=filename\n",
    "        )\n",
    "\n",
    "    def plt_losses(self, train_losses, val_losses, model_name, loss_name, filename):\n",
    "        plt.close()\n",
    "        t_l = len(train_losses)\n",
    "        v_l = len(val_losses)\n",
    "        plt.plot(np.arange(1, t_l + 1), train_losses, label='Training loss')\n",
    "        plt.plot(np.arange(1, v_l + 1), val_losses, label='Validation loss')\n",
    "\n",
    "        self._default_plt_setting(\n",
    "            title=f'Loss vs epochs ({model_name})',\n",
    "            x_label='Epochs',\n",
    "            y_label=loss_name,\n",
    "            filename=filename\n",
    "        )\n",
    "\n",
    "    def _default_plt_setting(self, title, x_label, y_label, filename):\n",
    "        plt.legend(loc='best')\n",
    "        plt.xlabel(x_label)\n",
    "        plt.ylabel(y_label)\n",
    "        plt.title(title)\n",
    "        plt.grid(True)\n",
    "        plt.savefig(filename, dpi=500)\n",
    "\n"
   ]
  },
  {
   "cell_type": "code",
   "execution_count": 21,
   "metadata": {
    "tags": []
   },
   "outputs": [],
   "source": [
    "DATA_FOLDER = '/root/DL_Group_Project/dl-ecommerce-duplicates/'\n",
    "\n",
    "class CFG:\n",
    "\timage_size = 512\n",
    "\tbatch_size= 8\n",
    "\tn_worker = 1\n",
    "\tinit_lr = 0.01\n",
    "\tdropout = 0.5\n",
    "\tn_epochs = 10\n",
    "\tn_splits = 5\n",
    "\tn_samples = None\n",
    "\tfold_id = 0\n",
    "\tvalid_every = 1\n",
    "\tsave_after = 0\n",
    "\tscale = 10\n",
    "\tmargin = 0.2\n",
    "\teasy_margin = False\n",
    "\tsearch_space = np.arange(40, 100, 10)\n",
    "\tdebug = False\n",
    "\tkernel_type = 'baseline'\n",
    "\tmodel_dir = DATA_FOLDER + '/weights/'\n",
    "\tdata_dir = DATA_FOLDER + '/shopee-product-matching/train_images'\n",
    "\tcsv = DATA_FOLDER + '/shopee-product-matching/train.csv'"
   ]
  },
  {
   "cell_type": "markdown",
   "metadata": {
    "id": "-O10OKb9p5Bw"
   },
   "source": [
    "## Data"
   ]
  },
  {
   "cell_type": "code",
   "execution_count": 22,
   "metadata": {
    "colab": {
     "base_uri": "https://localhost:8080/",
     "height": 0
    },
    "executionInfo": {
     "elapsed": 2429,
     "status": "ok",
     "timestamp": 1682161743216,
     "user": {
      "displayName": "Brandon Alves",
      "userId": "02156452593524706920"
     },
     "user_tz": -120
    },
    "id": "ppIIA7GNp5Bw",
    "outputId": "58a5cb3b-8fce-4a75-e3e9-ac7df3642347",
    "tags": []
   },
   "outputs": [],
   "source": [
    "df_train = get_arcface_loss_dataset(csv=CFG.csv, data_dir=CFG.data_dir, n_splits=CFG.n_splits, n_samples=CFG.n_samples)"
   ]
  },
  {
   "cell_type": "code",
   "execution_count": 23,
   "metadata": {
    "tags": []
   },
   "outputs": [
    {
     "data": {
      "text/plain": [
       "239750"
      ]
     },
     "execution_count": 23,
     "metadata": {},
     "output_type": "execute_result"
    }
   ],
   "source": [
    "df_train.size"
   ]
  },
  {
   "cell_type": "markdown",
   "metadata": {
    "id": "qvKS58ZKp5Bx"
   },
   "source": [
    "## Augmentations"
   ]
  },
  {
   "cell_type": "code",
   "execution_count": 24,
   "metadata": {
    "executionInfo": {
     "elapsed": 17,
     "status": "ok",
     "timestamp": 1682161743217,
     "user": {
      "displayName": "Brandon Alves",
      "userId": "02156452593524706920"
     },
     "user_tz": -120
    },
    "id": "Id8kV1Oip5Bx",
    "tags": []
   },
   "outputs": [],
   "source": [
    "transforms_train = albumentations.Compose([\n",
    "\talbumentations.Resize(CFG.image_size, CFG.image_size),\n",
    "\talbumentations.HorizontalFlip(p=0.5),\n",
    "\talbumentations.RandomBrightnessContrast(p=0.5, brightness_limit=(-0.2, 0.2), contrast_limit=(-0.2, 0.2)),\n",
    "\talbumentations.HueSaturationValue(p=0.5, hue_shift_limit=0.2, sat_shift_limit=0.2, val_shift_limit=0.2),\n",
    "\talbumentations.ShiftScaleRotate(p=0.5, shift_limit=0.0625, scale_limit=0.2, rotate_limit=20),\n",
    "\talbumentations.CoarseDropout(p=0.5),\n",
    "\talbumentations.Normalize()\n",
    "])\n",
    "\n",
    "transforms_valid = albumentations.Compose([\n",
    "\talbumentations.Resize(CFG.image_size, CFG.image_size),\n",
    "\talbumentations.Normalize()\n",
    "])"
   ]
  },
  {
   "cell_type": "markdown",
   "metadata": {
    "id": "-QvRUifgp5Bz"
   },
   "source": [
    "## Training"
   ]
  },
  {
   "cell_type": "code",
   "execution_count": 25,
   "metadata": {
    "executionInfo": {
     "elapsed": 15,
     "status": "ok",
     "timestamp": 1682161743217,
     "user": {
      "displayName": "Brandon Alves",
      "userId": "02156452593524706920"
     },
     "user_tz": -120
    },
    "id": "TjfyHOR-p5Bz",
    "tags": []
   },
   "outputs": [],
   "source": [
    "train = df_train[df_train['fold'] != CFG.fold_id]\n",
    "valid = df_train[df_train['fold'] == CFG.fold_id]\n",
    "\n",
    "valid['count'] = valid.label_group.map(valid.label_group.value_counts().to_dict())\n",
    "\n",
    "dataset_train = ImageArcFaceLossShopeeDataset(train, 'train', transform=transforms_train)\n",
    "# dataset_train = ImageArcFaceLossShopeeDataset(train, 'train')\n",
    "dataset_valid = ImageArcFaceLossShopeeDataset(valid, 'train', transform=transforms_valid)\n",
    "# dataset_valid = ImageArcFaceLossShopeeDataset(valid, 'train')"
   ]
  },
  {
   "cell_type": "markdown",
   "metadata": {
    "id": "zmO7zyWh_NZG"
   },
   "source": [
    "### Grid Search"
   ]
  },
  {
   "cell_type": "code",
   "execution_count": 17,
   "metadata": {
    "tags": []
   },
   "outputs": [
    {
     "data": {
      "text/plain": [
       "1024"
      ]
     },
     "execution_count": 17,
     "metadata": {},
     "output_type": "execute_result"
    }
   ],
   "source": [
    "import timm\n",
    "backbone='densenet121'\n",
    "self_backbone = timm.create_model(backbone, pretrained=True)\n",
    "\n",
    "self_in_features = self_backbone.classifier.in_features\n",
    "self_in_features"
   ]
  },
  {
   "cell_type": "code",
   "execution_count": 18,
   "metadata": {
    "tags": []
   },
   "outputs": [
    {
     "data": {
      "text/plain": [
       "512"
      ]
     },
     "execution_count": 18,
     "metadata": {},
     "output_type": "execute_result"
    }
   ],
   "source": [
    "import torchvision.models as models\n",
    "\t\n",
    "backbone = models.resnet18(weights=models.ResNet18_Weights.IMAGENET1K_V1)\n",
    "backbone.fc.in_features"
   ]
  },
  {
   "cell_type": "code",
   "execution_count": 19,
   "metadata": {
    "colab": {
     "base_uri": "https://localhost:8080/",
     "height": 1000
    },
    "executionInfo": {
     "elapsed": 12142746,
     "status": "error",
     "timestamp": 1681911485786,
     "user": {
      "displayName": "Brandon Alves",
      "userId": "02156452593524706920"
     },
     "user_tz": -120
    },
    "id": "cNIVxEHp_NZH",
    "outputId": "798828e4-3855-424a-b8ce-29812bc8159b",
    "tags": []
   },
   "outputs": [
    {
     "name": "stderr",
     "output_type": "stream",
     "text": [
      "loss: 9.57419, smth: 9.26102: 100%|██████████| 750/750 [01:53<00:00,  6.62it/s] \n",
      "loss: 9.85463: 100%|██████████| 188/188 [00:24<00:00,  7.54it/s] \n",
      "loss: 9.00048, smth: 9.07841: 100%|██████████| 750/750 [01:46<00:00,  7.04it/s] \n",
      "loss: 13.37208: 100%|██████████| 188/188 [00:21<00:00,  8.77it/s]\n",
      "loss: 9.05443, smth: 8.74678: 100%|██████████| 750/750 [01:40<00:00,  7.43it/s] \n",
      "loss: 15.96357: 100%|██████████| 188/188 [00:21<00:00,  8.68it/s]\n",
      "loss: 8.84443, smth: 8.44163: 100%|██████████| 750/750 [01:40<00:00,  7.49it/s]\n",
      "loss: 15.07912: 100%|██████████| 188/188 [00:21<00:00,  8.79it/s]\n",
      "loss: 8.60596, smth: 8.24515: 100%|██████████| 750/750 [01:40<00:00,  7.49it/s]\n",
      "loss: 17.43074: 100%|██████████| 188/188 [00:21<00:00,  8.70it/s]\n",
      "loss: 7.91192, smth: 8.05669: 100%|██████████| 750/750 [01:40<00:00,  7.49it/s]\n",
      "loss: 18.59079: 100%|██████████| 188/188 [00:21<00:00,  8.84it/s]\n",
      "loss: 7.43704, smth: 7.94059: 100%|██████████| 750/750 [01:42<00:00,  7.33it/s]\n",
      "loss: 18.07763: 100%|██████████| 188/188 [00:21<00:00,  8.73it/s]\n",
      "loss: 8.22720, smth: 7.83440: 100%|██████████| 750/750 [01:45<00:00,  7.09it/s]\n",
      "loss: 20.79340: 100%|██████████| 188/188 [00:21<00:00,  8.59it/s]\n",
      "loss: 8.57340, smth: 7.76064: 100%|██████████| 750/750 [01:46<00:00,  7.06it/s]\n",
      "loss: 18.38300: 100%|██████████| 188/188 [00:21<00:00,  8.71it/s]\n",
      "loss: 7.51424, smth: 7.66026: 100%|██████████| 750/750 [01:46<00:00,  7.07it/s]\n",
      "loss: 18.28527: 100%|██████████| 188/188 [00:21<00:00,  8.60it/s]\n"
     ]
    },
    {
     "name": "stdout",
     "output_type": "stream",
     "text": [
      "Final Training Loss: 7.585371309280395 Valid Loss: (16.157089649362767, 0.0)  LR:0.1 Scale:10 Margin:0.1\n"
     ]
    },
    {
     "name": "stderr",
     "output_type": "stream",
     "text": [
      "loss: 9.01194, smth: 9.33618: 100%|██████████| 750/750 [01:46<00:00,  7.05it/s] \n",
      "loss: 9.75158: 100%|██████████| 188/188 [00:21<00:00,  8.64it/s] \n",
      "loss: 9.68227, smth: 9.01383: 100%|██████████| 750/750 [01:45<00:00,  7.09it/s] \n",
      "loss: 13.46725: 100%|██████████| 188/188 [00:21<00:00,  8.82it/s]\n",
      "loss: 8.52631, smth: 8.47461: 100%|██████████| 750/750 [01:39<00:00,  7.50it/s]\n",
      "loss: 15.54290: 100%|██████████| 188/188 [00:21<00:00,  8.72it/s]\n",
      "loss: 8.43410, smth: 8.42600: 100%|██████████| 750/750 [01:40<00:00,  7.45it/s]\n",
      "loss: 15.54622: 100%|██████████| 188/188 [00:21<00:00,  8.77it/s]\n",
      "loss: 7.82004, smth: 8.16536: 100%|██████████| 750/750 [01:43<00:00,  7.23it/s] \n",
      "loss: 15.78661: 100%|██████████| 188/188 [00:21<00:00,  8.75it/s]\n",
      "loss: 7.79339, smth: 8.02697: 100%|██████████| 750/750 [01:43<00:00,  7.28it/s]\n",
      "loss: 17.11674: 100%|██████████| 188/188 [00:21<00:00,  8.75it/s]\n",
      "loss: 7.93005, smth: 7.89403: 100%|██████████| 750/750 [01:39<00:00,  7.50it/s]\n",
      "loss: 15.93580: 100%|██████████| 188/188 [00:21<00:00,  8.80it/s]\n",
      "loss: 7.58357, smth: 7.59760:  29%|██▉       | 217/750 [00:29<01:11,  7.41it/s]\n"
     ]
    },
    {
     "ename": "KeyboardInterrupt",
     "evalue": "",
     "output_type": "error",
     "traceback": [
      "\u001b[0;31m---------------------------------------------------------------------------\u001b[0m",
      "\u001b[0;31mKeyboardInterrupt\u001b[0m                         Traceback (most recent call last)",
      "Cell \u001b[0;32mIn[19], line 38\u001b[0m\n\u001b[1;32m     35\u001b[0m \u001b[38;5;28;01mfor\u001b[39;00m epoch \u001b[38;5;129;01min\u001b[39;00m \u001b[38;5;28mrange\u001b[39m(CFG\u001b[38;5;241m.\u001b[39mn_epochs):\n\u001b[1;32m     37\u001b[0m     scheduler\u001b[38;5;241m.\u001b[39mstep()\n\u001b[0;32m---> 38\u001b[0m     loss_train \u001b[38;5;241m=\u001b[39m \u001b[43mtrain_func\u001b[49m\u001b[43m(\u001b[49m\u001b[43mtrain_loader\u001b[49m\u001b[43m,\u001b[49m\u001b[43m \u001b[49m\u001b[43mmodel\u001b[49m\u001b[43m,\u001b[49m\u001b[43m \u001b[49m\u001b[43mcriterion\u001b[49m\u001b[43m,\u001b[49m\u001b[43m \u001b[49m\u001b[43moptimizer\u001b[49m\u001b[43m,\u001b[49m\u001b[43m \u001b[49m\u001b[43mdevice\u001b[49m\u001b[43m,\u001b[49m\u001b[43m \u001b[49m\u001b[43mdebug\u001b[49m\u001b[38;5;241;43m=\u001b[39;49m\u001b[43mCFG\u001b[49m\u001b[38;5;241;43m.\u001b[39;49m\u001b[43mdebug\u001b[49m\u001b[43m)\u001b[49m\n\u001b[1;32m     39\u001b[0m     loss_valid \u001b[38;5;241m=\u001b[39m valid_func(valid_loader, model, criterion, device)\n\u001b[1;32m     40\u001b[0m     train_losses\u001b[38;5;241m.\u001b[39mappend(loss_train)\n",
      "File \u001b[0;32m~/DL_Group_Project/dl-ecommerce-duplicates/modules/utils/training_utils.py:25\u001b[0m, in \u001b[0;36mtrain_func\u001b[0;34m(train_loader, model, criterion, optimizer, device, debug)\u001b[0m\n\u001b[1;32m     22\u001b[0m optimizer\u001b[38;5;241m.\u001b[39mstep()\n\u001b[1;32m     23\u001b[0m optimizer\u001b[38;5;241m.\u001b[39mzero_grad()\n\u001b[0;32m---> 25\u001b[0m losses\u001b[38;5;241m.\u001b[39mappend(\u001b[43mloss\u001b[49m\u001b[38;5;241;43m.\u001b[39;49m\u001b[43mitem\u001b[49m\u001b[43m(\u001b[49m\u001b[43m)\u001b[49m)\n\u001b[1;32m     26\u001b[0m smooth_loss \u001b[38;5;241m=\u001b[39m np\u001b[38;5;241m.\u001b[39mmean(losses[\u001b[38;5;241m-\u001b[39m\u001b[38;5;241m30\u001b[39m:])\n\u001b[1;32m     28\u001b[0m bar\u001b[38;5;241m.\u001b[39mset_description(\u001b[38;5;124mf\u001b[39m\u001b[38;5;124m'\u001b[39m\u001b[38;5;124mloss: \u001b[39m\u001b[38;5;132;01m{\u001b[39;00mloss\u001b[38;5;241m.\u001b[39mitem()\u001b[38;5;132;01m:\u001b[39;00m\u001b[38;5;124m.5f\u001b[39m\u001b[38;5;132;01m}\u001b[39;00m\u001b[38;5;124m, smth: \u001b[39m\u001b[38;5;132;01m{\u001b[39;00msmooth_loss\u001b[38;5;132;01m:\u001b[39;00m\u001b[38;5;124m.5f\u001b[39m\u001b[38;5;132;01m}\u001b[39;00m\u001b[38;5;124m'\u001b[39m)\n",
      "\u001b[0;31mKeyboardInterrupt\u001b[0m: "
     ]
    },
    {
     "data": {
      "image/png": "[encoded data removed]",
      "text/plain": [
       "<Figure size 432x288 with 1 Axes>"
      ]
     },
     "metadata": {
      "needs_background": "light"
     },
     "output_type": "display_data"
    }
   ],
   "source": [
    "batch_size = [8]\n",
    "init_lr = [0.1, 0.01, 0.0001]\n",
    "dropout = [0.5]\n",
    "scale = [10, 50, 90]\n",
    "margin = [0.1, 0.2]\n",
    "\n",
    "vis = CommonVisualizer()\n",
    "\n",
    "for bs in batch_size:\n",
    "    for dp in dropout:\n",
    "        for sc in scale:\n",
    "            for mg in margin:\n",
    "                for lr in init_lr:\n",
    "                    CFG.batch_size = bs\n",
    "                    CFG.init_lr = lr\n",
    "                    CFG.dropout = dp\n",
    "                    CFG.scale = sc\n",
    "                    CFG.margin = mg\n",
    "\n",
    "                    # model = DenseNet(CFG.image_size, df_train.label_group.nunique(), CFG.dropout, s=CFG.scale, m=CFG.margin, easy_margin=CFG.easy_margin)\n",
    "                    model = ResNet18CurricularLoss(CFG.image_size, df_train.label_group.nunique(), CFG.dropout, s=CFG.scale, m=CFG.margin)\n",
    "                    # model = DenseNetCurricularLoss(CFG.image_size, df_train.label_group.nunique(), CFG.dropout, s=CFG.scale, m=CFG.margin)\n",
    "                    model.to(device);\n",
    "\n",
    "                    optimizer = optim.Adam(model.parameters(), lr=CFG.init_lr)\n",
    "                    scheduler = optim.lr_scheduler.CosineAnnealingLR(optimizer, T_max=CFG.n_epochs, eta_min=1e-6)\n",
    "                    criterion = nn.CrossEntropyLoss()\n",
    "\n",
    "                    train_loader = DataLoader(dataset_train, batch_size=CFG.batch_size, shuffle=True, num_workers=CFG.n_worker)\n",
    "                    valid_loader = DataLoader(dataset_valid, batch_size=CFG.batch_size, shuffle=False, num_workers=CFG.n_worker)\n",
    "\n",
    "                    train_losses = []\n",
    "                    valid_losses = []\n",
    "\n",
    "                    for epoch in range(CFG.n_epochs):\n",
    "\n",
    "                        scheduler.step()\n",
    "                        loss_train = train_func(train_loader, model, criterion, optimizer, device, debug=CFG.debug)\n",
    "                        loss_valid = valid_func(valid_loader, model, criterion, device)\n",
    "                        train_losses.append(loss_train)\n",
    "                        valid_losses.append(loss_valid)\n",
    "\n",
    "                        if epoch >= CFG.save_after:\n",
    "                            torch.save(model.state_dict(), f'{CFG.model_dir}{CFG.kernel_type}_fold{CFG.fold_id}_curricularloss_{CFG.image_size}_epoch{epoch}.pth')\n",
    "                    \n",
    "                    model_name = f'CurricularLoss_ResNet_lr{lr}_scale{sc}_margin{mg}'\n",
    "                    model_name = model_name.replace(\".\", \"_\")\n",
    "                    print(f'Final Training Loss: {train_losses[-1]} Valid Loss: {valid_losses[-1]}  LR:{lr} Scale:{sc} Margin:{mg}')\n",
    "                    file_name = DATA_FOLDER + '/tempcharts/' + model_name\n",
    "                    vis.plt_losses(train_losses, valid_losses, model_name, 'CurricularLoss_ResNet', file_name)"
   ]
  },
  {
   "cell_type": "code",
   "execution_count": 57,
   "metadata": {
    "tags": []
   },
   "outputs": [
    {
     "data": {
      "image/png": "[encoded data removed]",
      "text/plain": [
       "<Figure size 432x288 with 1 Axes>"
      ]
     },
     "metadata": {
      "needs_background": "light"
     },
     "output_type": "display_data"
    }
   ],
   "source": [
    "vis = CommonVisualizer()\n",
    "file_name = DATA_FOLDER + '/tempcharts/' + model_name\n",
    "model_name_nice = 'CurricularFace + ResNet'\n",
    "vis.plt_losses(train_losses, valid_losses, model_name_nice, 'CurricularFace', file_name)"
   ]
  },
  {
   "cell_type": "code",
   "execution_count": null,
   "metadata": {
    "tags": []
   },
   "outputs": [],
   "source": [
    "\n",
    "from modules.utils.CommonVisualizer import CommonVisualizer as vis\n",
    "\n",
    "CommonVisualizer.plt_losses(train_losses, valid_losses, model_name, model_name)"
   ]
  },
  {
   "cell_type": "markdown",
   "metadata": {
    "id": "rUWBapgU_NZI"
   },
   "source": [
    "### Best Model"
   ]
  },
  {
   "cell_type": "code",
   "execution_count": 27,
   "metadata": {
    "colab": {
     "base_uri": "https://localhost:8080/",
     "height": 1000
    },
    "executionInfo": {
     "elapsed": 13778740,
     "status": "ok",
     "timestamp": 1682175723199,
     "user": {
      "displayName": "Brandon Alves",
      "userId": "02156452593524706920"
     },
     "user_tz": -120
    },
    "id": "lz5mYRHyp5Bz",
    "outputId": "fea880dd-cb4d-4518-92d9-be2956f1a4fc",
    "tags": []
   },
   "outputs": [
    {
     "name": "stderr",
     "output_type": "stream",
     "text": [
      "loss: 9.94711, smth: 10.25176: 100%|██████████| 3425/3425 [08:22<00:00,  6.81it/s] \n",
      "loss: 13.29069: 100%|██████████| 857/857 [01:53<00:00,  7.57it/s]\n",
      "loss: 9.83888, smth: 10.24184: 100%|██████████| 3425/3425 [08:08<00:00,  7.01it/s] \n",
      "loss: 14.98456: 100%|██████████| 857/857 [01:35<00:00,  8.95it/s]\n",
      "loss: 9.72388, smth: 9.80986: 100%|██████████| 3425/3425 [08:04<00:00,  7.07it/s]  \n",
      "loss: 16.04129: 100%|██████████| 857/857 [01:34<00:00,  9.04it/s]\n",
      "loss: 9.31848, smth: 9.72448: 100%|██████████| 3425/3425 [07:42<00:00,  7.41it/s]  \n",
      "loss: 14.37005: 100%|██████████| 857/857 [01:38<00:00,  8.74it/s]\n",
      "loss: 9.43152, smth: 9.54498: 100%|██████████| 3425/3425 [08:03<00:00,  7.09it/s] \n",
      "loss: 14.49508: 100%|██████████| 857/857 [01:36<00:00,  8.85it/s]\n",
      "loss: 9.34693, smth: 9.33196: 100%|██████████| 3425/3425 [08:01<00:00,  7.11it/s] \n",
      "loss: 14.34875: 100%|██████████| 857/857 [01:36<00:00,  8.85it/s]\n",
      "loss: 9.34064, smth: 9.29178: 100%|██████████| 3425/3425 [08:01<00:00,  7.12it/s] \n",
      "loss: 13.76508: 100%|██████████| 857/857 [01:39<00:00,  8.59it/s]\n",
      "loss: 9.72784, smth: 9.22075: 100%|██████████| 3425/3425 [07:57<00:00,  7.17it/s] \n",
      "loss: 13.53587: 100%|██████████| 857/857 [01:39<00:00,  8.64it/s]\n",
      "loss: 9.62257, smth: 9.10399: 100%|██████████| 3425/3425 [07:48<00:00,  7.31it/s] \n",
      "loss: 13.31980: 100%|██████████| 857/857 [01:35<00:00,  8.93it/s]\n",
      "loss: 9.48868, smth: 8.98891: 100%|██████████| 3425/3425 [07:53<00:00,  7.23it/s] \n",
      "loss: 13.50416: 100%|██████████| 857/857 [01:37<00:00,  8.80it/s]\n"
     ]
    },
    {
     "name": "stdout",
     "output_type": "stream",
     "text": [
      "Final Training Loss: 8.930913026767925 Valid Loss: (14.938649067383524, 0.0)  LR:0.05 Scale:10 Margin:0.1\n"
     ]
    },
    {
     "data": {
      "image/png": "[encoded data removed]",
      "text/plain": [
       "<Figure size 432x288 with 1 Axes>"
      ]
     },
     "metadata": {
      "needs_background": "light"
     },
     "output_type": "display_data"
    }
   ],
   "source": [
    "train_loader = DataLoader(dataset_train, batch_size=CFG.batch_size, shuffle=True, num_workers=CFG.n_worker)\n",
    "valid_loader = DataLoader(dataset_valid, batch_size=CFG.batch_size, shuffle=False, num_workers=CFG.n_worker)\n",
    "\n",
    "model = DenseNet(CFG.image_size, df_train.label_group.nunique(), CFG.dropout, s=CFG.scale, m=CFG.margin, easy_margin=CFG.easy_margin)\n",
    "model.to(device)\n",
    "\n",
    "criterion = nn.CrossEntropyLoss()\n",
    "optimizer = optim.Adam(model.parameters(), lr=CFG.init_lr)\n",
    "scheduler = torch.optim.lr_scheduler.CosineAnnealingLR(optimizer, CFG.n_epochs)\n",
    "\n",
    "# model = DenseNet(CFG.image_size, df_train.label_group.nunique(), CFG.dropout, s=CFG.scale, m=CFG.margin, easy_margin=CFG.easy_margin)\n",
    "model = ResNet18CurricularLoss(CFG.image_size, df_train.label_group.nunique(), CFG.dropout, s=CFG.scale, m=CFG.margin)\n",
    "# model = DenseNetCurricularLoss(CFG.image_size, df_train.label_group.nunique(), CFG.dropout, s=CFG.scale, m=CFG.margin)\n",
    "model.to(device);\n",
    "\n",
    "optimizer = optim.Adam(model.parameters(), lr=CFG.init_lr)\n",
    "scheduler = optim.lr_scheduler.CosineAnnealingLR(optimizer, T_max=CFG.n_epochs, eta_min=1e-6)\n",
    "criterion = nn.CrossEntropyLoss()\n",
    "\n",
    "train_loader = DataLoader(dataset_train, batch_size=CFG.batch_size, shuffle=True, num_workers=CFG.n_worker)\n",
    "valid_loader = DataLoader(dataset_valid, batch_size=CFG.batch_size, shuffle=False, num_workers=CFG.n_worker)\n",
    "\n",
    "train_losses = []\n",
    "valid_losses = []\n",
    "\n",
    "for epoch in range(CFG.n_epochs):\n",
    "\n",
    "    scheduler.step()\n",
    "    loss_train = train_func(train_loader, model, criterion, optimizer, device, debug=CFG.debug)\n",
    "    loss_valid, _ = valid_func(valid_loader, model, criterion, device)\n",
    "    train_losses.append(loss_train)\n",
    "    valid_losses.append(loss_valid)\n",
    "\n",
    "    if epoch >= CFG.save_after:\n",
    "        torch.save(model.state_dict(), f'{CFG.model_dir}{CFG.kernel_type}_fold{CFG.fold_id}_curricularloss_dense_{CFG.image_size}_epoch{epoch}.pth')\n",
    "\n",
    "model_name = f'FINAL_CurricularLoss_ResNet_lr{lr}_scale{sc}_margin{mg}'\n",
    "model_name = model_name.replace(\".\", \"_\")\n",
    "print(f'Final Training Loss: {train_losses[-1]} Valid Loss: {valid_losses[-1]}  LR:{lr} Scale:{sc} Margin:{mg}')\n",
    "file_name = DATA_FOLDER + '/tempcharts/' + model_name\n",
    "vis.plt_losses(train_losses, valid_losses, model_name, 'FINAL_CurricularLoss_ResNet', file_name)"
   ]
  },
  {
   "cell_type": "code",
   "execution_count": 40,
   "metadata": {
    "tags": []
   },
   "outputs": [],
   "source": [
    "valid_losses\n",
    "valid_losses = [x[0] for x in valid_losses]"
   ]
  },
  {
   "cell_type": "code",
   "execution_count": 38,
   "metadata": {
    "tags": []
   },
   "outputs": [
    {
     "ename": "SyntaxError",
     "evalue": "unexpected EOF while parsing (947049509.py, line 1)",
     "output_type": "error",
     "traceback": [
      "\u001b[0;36m  Cell \u001b[0;32mIn[38], line 1\u001b[0;36m\u001b[0m\n\u001b[0;31m    def split_tuple(list_of_tuples):\u001b[0m\n\u001b[0m                                    ^\u001b[0m\n\u001b[0;31mSyntaxError\u001b[0m\u001b[0;31m:\u001b[0m unexpected EOF while parsing\n"
     ]
    }
   ],
   "source": [
    "def split_tuple(list_of_tuples):\n",
    "    '''\n",
    "    Takes a list of tuples [(0,1), (2,3), (4,5)]\n",
    "    And splits them into two lists one with the first element of the tuples and one with the second element of the tuples\n",
    "    '''\n",
    "    \n",
    "    first = [x[0] for x in list_of_tuples] "
   ]
  },
  {
   "cell_type": "code",
   "execution_count": 42,
   "metadata": {},
   "outputs": [
    {
     "data": {
      "image/png": "[encoded data removed]",
      "text/plain": [
       "<Figure size 432x288 with 1 Axes>"
      ]
     },
     "metadata": {
      "needs_background": "light"
     },
     "output_type": "display_data"
    }
   ],
   "source": [
    "plt.close()\n",
    "t_l = len(train_losses)\n",
    "v_l = len(valid_losses)\n",
    "plt.plot(np.arange(1, t_l + 1), train_losses, label='Training loss')\n",
    "plt.plot(np.arange(1, v_l + 1), valid_losses, label='Validation loss')\n",
    "\n",
    "title=f'Loss vs epochs ({model_name})'\n",
    "x_label='Epochs'\n",
    "y_label='CurricularLoss'\n",
    "filename=file_name\n",
    "\n",
    "plt.legend(loc='best')\n",
    "plt.xlabel(x_label)\n",
    "plt.ylabel(y_label)\n",
    "plt.title(title)\n",
    "plt.grid(True)\n",
    "plt.savefig(filename, dpi=500)"
   ]
  },
  {
   "cell_type": "code",
   "execution_count": null,
   "metadata": {
    "tags": []
   },
   "outputs": [
    {
     "name": "stderr",
     "output_type": "stream",
     "text": [
      "100%|██████████| 3425/3425 [07:30<00:00,  7.60it/s]\n",
      "100%|██████████| 857/857 [01:39<00:00,  8.65it/s]\n"
     ]
    },
    {
     "name": "stdout",
     "output_type": "stream",
     "text": [
      "(34250, 512)\n"
     ]
    }
   ],
   "source": [
    "from modules.utils.EmbeddingsProducer import EmbeddingsProducer\n",
    "from modules.utils.CommonVIsualizer import CommonVisualizer\n",
    "from modules.utils.F1ScoreEvaluator import F1ScoreEvaluator\n",
    "\n",
    "best_model = model \n",
    "dataset_train = ImageArcFaceLossShopeeDataset(train, 'test', transform=transforms_train)\n",
    "dataset_valid = ImageArcFaceLossShopeeDataset(valid, 'test', transform=transforms_valid)\n",
    "\n",
    "train_loader = DataLoader(dataset_train, batch_size=CFG.batch_size, shuffle=True, num_workers=CFG.n_worker)\n",
    "valid_loader = DataLoader(dataset_valid, batch_size=CFG.batch_size, shuffle=False, num_workers=CFG.n_worker)\n",
    "\n",
    "producer = EmbeddingsProducer(best_model, 'cuda')\n",
    "train_embeddings = producer.get_embeddings(train_loader, normalize=True)\n",
    "valid_embeddings = producer.get_embeddings(valid_loader, normalize=True)\n",
    "all_embeddings = np.concatenate((train_embeddings, valid_embeddings))\n",
    "print(all_embeddings.shape)"
   ]
  },
  {
   "cell_type": "code",
   "execution_count": 53,
   "metadata": {
    "tags": []
   },
   "outputs": [
    {
     "name": "stderr",
     "output_type": "stream",
     "text": [
      "100%|██████████| 19/19 [04:18<00:00, 13.62s/it]\n",
      "100%|██████████| 19/19 [00:59<00:00,  3.11s/it]\n",
      "100%|██████████| 19/19 [05:47<00:00, 18.30s/it]\n"
     ]
    }
   ],
   "source": [
    "import pandas as pd\n",
    "import modules.utils.dataset_utils as dataset_utils\n",
    "\n",
    "train_df = train\n",
    "valid_df = valid\n",
    "train_df = dataset_utils.add_target(train_df)\n",
    "valid_df = dataset_utils.add_target(valid_df)\n",
    "\n",
    "all_df = pd.concat((train_df, valid_df), ignore_index=True)\n",
    "thresholds = np.arange(0.8, 0.99, 0.01)\n",
    "\n",
    "def evaluate_model(train_embeddings, valid_embeddings, all_embeddings):\n",
    "    f1_score_eval_conter_text_train = F1ScoreEvaluator(train_df, train_embeddings, k=100)\n",
    "    f1_score_eval_conter_text_valid = F1ScoreEvaluator(valid_df, valid_embeddings, k=100)\n",
    "    f1_score_eval_conter_text_all = F1ScoreEvaluator(all_df, all_embeddings, k=100)\n",
    "\n",
    "    f1_avg_scores_conter_text_train = f1_score_eval_conter_text_train.get_avg_f1_scores_for_thresholds(thresholds)\n",
    "    f1_avg_scores_conter_text_valid = f1_score_eval_conter_text_valid.get_avg_f1_scores_for_thresholds(thresholds)\n",
    "    f1_avg_scores_conter_text_all = f1_score_eval_conter_text_all.get_avg_f1_scores_for_thresholds(thresholds)\n",
    "    return f1_avg_scores_conter_text_train, f1_avg_scores_conter_text_valid, f1_avg_scores_conter_text_all\n",
    "\n",
    "f1s_train_1, f1s_valid_1, f1s_all_1 = evaluate_model(train_embeddings, valid_embeddings, all_embeddings)\n",
    "\n",
    "\n",
    "visualizer = CommonVisualizer()"
   ]
  },
  {
   "cell_type": "code",
   "execution_count": 55,
   "metadata": {
    "tags": []
   },
   "outputs": [
    {
     "name": "stderr",
     "output_type": "stream",
     "text": [
      "No handles with labels found to put in legend.\n",
      "No handles with labels found to put in legend.\n",
      "No handles with labels found to put in legend.\n"
     ]
    },
    {
     "name": "stdout",
     "output_type": "stream",
     "text": [
      "CurricularFaceResNet, Train | Max f1-score: 0.019203553239588472, max threshold: 0.8\n",
      "CurricularFaceResNet, Valid | Max f1-score: 0.044618384365530644, max threshold: 0.8\n",
      "CurricularFaceResNet, All   | Max f1-score: 0.022942697933579375, max threshold: 0.8\n"
     ]
    },
    {
     "data": {
      "text/plain": [
       "<Figure size 432x288 with 0 Axes>"
      ]
     },
     "metadata": {},
     "output_type": "display_data"
    }
   ],
   "source": [
    "import matplotlib.pyplot as plt \n",
    "\n",
    "def visualize_all(model_name, f1_avg_scores_conter_text_train, f1_avg_scores_conter_text_valid, f1_avg_scores_conter_text_all, num):\n",
    "    visualizer.plt_f1_score_vs_threshold(thresholds, f1_avg_scores_conter_text_train, f'{model_name}, train', f'./final-charts/image-contrastive-{num}-{model_name}-thresholds-train.png')\n",
    "    max_f1_text_train = max(f1_avg_scores_conter_text_train)\n",
    "    max_threshold_text_train = thresholds[np.argmax(f1_avg_scores_conter_text_train)]\n",
    "    plt.clf()\n",
    "\n",
    "    visualizer.plt_f1_score_vs_threshold(thresholds, f1_avg_scores_conter_text_valid, f'{model_name} valid', f'./final-charts/image-contrastive-{num}-{model_name}-thresholds-valid.png')\n",
    "    max_f1_text_valid = max(f1_avg_scores_conter_text_valid)\n",
    "    max_threshold_text_valid = thresholds[np.argmax(f1_avg_scores_conter_text_valid)]\n",
    "    plt.clf()\n",
    "\n",
    "    visualizer.plt_f1_score_vs_threshold(thresholds, f1_avg_scores_conter_text_all, f'{model_name}', f'./final-charts/image-contrastive-{num}-{model_name}-thresholds-all.png')\n",
    "    max_f1_text_all = max(f1_avg_scores_conter_text_all)\n",
    "    max_threshold_text_all = thresholds[np.argmax(f1_avg_scores_conter_text_all)]\n",
    "    plt.clf()\n",
    "\n",
    "    print(f\"{model_name}, Train | Max f1-score: {max_f1_text_train}, max threshold: {max_threshold_text_train}\")\n",
    "    print(f\"{model_name}, Valid | Max f1-score: {max_f1_text_valid}, max threshold: {max_threshold_text_valid}\")\n",
    "    print(f\"{model_name}, All   | Max f1-score: {max_f1_text_all}, max threshold: {max_threshold_text_all}\")\n",
    "\n",
    "visualize_all('CurricularFaceResNet', f1s_train_1, f1s_valid_1, f1s_all_1, 1)"
   ]
  },
  {
   "cell_type": "code",
   "execution_count": null,
   "metadata": {},
   "outputs": [],
   "source": []
  }
 ],
 "metadata": {
  "accelerator": "GPU",
  "colab": {
   "collapsed_sections": [
    "21YP2cK2z8W0",
    "g6uAM3Ywp5Bu",
    "-O10OKb9p5Bw",
    "qvKS58ZKp5Bx",
    "zmO7zyWh_NZG"
   ],
   "machine_shape": "hm",
   "provenance": []
  },
  "gpuClass": "premium",
  "instance_type": "ml.g4dn.2xlarge",
  "kernelspec": {
   "display_name": "Python 3 (Data Science 2.0)",
   "language": "python",
   "name": "python3__SAGEMAKER_INTERNAL__arn:aws:sagemaker:us-east-1:081325390199:image/sagemaker-data-science-38"
  },
  "language_info": {
   "codemirror_mode": {
    "name": "ipython",
    "version": 3
   },
   "file_extension": ".py",
   "mimetype": "text/x-python",
   "name": "python",
   "nbconvert_exporter": "python",
   "pygments_lexer": "ipython3",
   "version": "3.8.13"
  }
 },
 "nbformat": 4,
 "nbformat_minor": 4
}
