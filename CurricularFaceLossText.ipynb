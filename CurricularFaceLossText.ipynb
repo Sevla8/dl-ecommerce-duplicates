{
 "cells": [
  {
   "cell_type": "code",
   "execution_count": null,
   "metadata": {
    "colab": {
     "base_uri": "https://localhost:8080/"
    },
    "executionInfo": {
     "elapsed": 78585,
     "status": "ok",
     "timestamp": 1682359058376,
     "user": {
      "displayName": "Pavel Ponomarev",
      "userId": "18279523820110450535"
     },
     "user_tz": -60
    },
    "id": "0exIVa5esRO1",
    "outputId": "f8bba156-9d39-464a-93a6-5089e22be614"
   },
   "outputs": [],
   "source": [
    "from google.colab import drive \n",
    "drive.mount(\"/content/drive\", force_remount=True)\n",
    "# Change directory to the package folder \n",
    "%cd '/content/drive/MyDrive/dl-project'\n"
   ]
  },
  {
   "cell_type": "code",
   "execution_count": null,
   "metadata": {
    "tags": []
   },
   "outputs": [],
   "source": [
    "!pip install --upgrade pip\n",
    "\n",
    "import os\n",
    "import yaml\n",
    "\n",
    "with open(\"environment.yml\") as file_handle:\n",
    "    environment_data = yaml.safe_load(file_handle)\n",
    "\n",
    "for dependency in environment_data[\"dependencies\"]:\n",
    "    if isinstance(dependency, dict):\n",
    "      for lib in dependency['pip']:\n",
    "        os.system(f\"pip install {lib}\")"
   ]
  },
  {
   "cell_type": "code",
   "execution_count": null,
   "metadata": {
    "colab": {
     "base_uri": "https://localhost:8080/"
    },
    "executionInfo": {
     "elapsed": 31132,
     "status": "ok",
     "timestamp": 1682359314248,
     "user": {
      "displayName": "Pavel Ponomarev",
      "userId": "18279523820110450535"
     },
     "user_tz": -60
    },
    "id": "IMfswqGTK7N9",
    "outputId": "da8b598d-49e1-4794-eb90-59ad32c4cceb",
    "tags": []
   },
   "outputs": [],
   "source": [
    "!pip install ray[tune]\n",
    "!apt install libomp-dev\n",
    "!python -m pip install --upgrade faiss-gpu==1.7.2"
   ]
  },
  {
   "cell_type": "code",
   "execution_count": 4,
   "metadata": {
    "tags": []
   },
   "outputs": [
    {
     "name": "stdout",
     "output_type": "stream",
     "text": [
      "Collecting torch==1.13.1\n",
      "  Using cached torch-1.13.1-cp38-cp38-manylinux1_x86_64.whl (887.4 MB)\n",
      "Requirement already satisfied: typing-extensions in /usr/local/lib/python3.8/site-packages (from torch==1.13.1) (4.5.0)\n",
      "Requirement already satisfied: nvidia-cuda-runtime-cu11==11.7.99 in /usr/local/lib/python3.8/site-packages (from torch==1.13.1) (11.7.99)\n",
      "Requirement already satisfied: nvidia-cudnn-cu11==8.5.0.96 in /usr/local/lib/python3.8/site-packages (from torch==1.13.1) (8.5.0.96)\n",
      "Requirement already satisfied: nvidia-cublas-cu11==11.10.3.66 in /usr/local/lib/python3.8/site-packages (from torch==1.13.1) (11.10.3.66)\n",
      "Requirement already satisfied: nvidia-cuda-nvrtc-cu11==11.7.99 in /usr/local/lib/python3.8/site-packages (from torch==1.13.1) (11.7.99)\n",
      "Requirement already satisfied: setuptools in /usr/local/lib/python3.8/site-packages (from nvidia-cublas-cu11==11.10.3.66->torch==1.13.1) (67.6.1)\n",
      "Requirement already satisfied: wheel in /usr/local/lib/python3.8/site-packages (from nvidia-cublas-cu11==11.10.3.66->torch==1.13.1) (0.40.0)\n",
      "Installing collected packages: torch\n",
      "  Attempting uninstall: torch\n",
      "    Found existing installation: torch 2.0.0\n",
      "    Uninstalling torch-2.0.0:\n",
      "      Successfully uninstalled torch-2.0.0\n",
      "\u001b[31mERROR: pip's dependency resolver does not currently take into account all the packages that are installed. This behaviour is the source of the following dependency conflicts.\n",
      "torchvision 0.15.1 requires torch==2.0.0, but you have torch 1.13.1 which is incompatible.\u001b[0m\u001b[31m\n",
      "\u001b[0mSuccessfully installed torch-1.13.1\n",
      "\u001b[33mWARNING: Running pip as the 'root' user can result in broken permissions and conflicting behaviour with the system package manager. It is recommended to use a virtual environment instead: https://pip.pypa.io/warnings/venv\u001b[0m\u001b[33m\n",
      "\u001b[0m"
     ]
    }
   ],
   "source": [
    "!pip install torch==1.13.1"
   ]
  },
  {
   "cell_type": "code",
   "execution_count": null,
   "metadata": {
    "executionInfo": {
     "elapsed": 37823,
     "status": "ok",
     "timestamp": 1682359373771,
     "user": {
      "displayName": "Pavel Ponomarev",
      "userId": "18279523820110450535"
     },
     "user_tz": -60
    },
    "id": "-V0zL34s_Kq_",
    "tags": []
   },
   "outputs": [],
   "source": [
    "# copy dataset from google drive to the actual machine\n",
    "# !rm -rf /content/data/\n",
    "\n",
    "import os \n",
    "DATA_FOLDER = '/content/data/shopee-product-matching/'\n",
    "if not os.path.isdir(DATA_FOLDER):    \n",
    "    !mkdir /content/data/\n",
    "    !cp /content/drive/MyDrive/dl-project/shopee-product-matching.zip /content/data/shopee-product-matching.zip\n",
    "    !unzip -q /content/data/shopee-product-matching.zip -d /content/data/shopee-product-matching"
   ]
  },
  {
   "cell_type": "code",
   "execution_count": 16,
   "metadata": {
    "executionInfo": {
     "elapsed": 515,
     "status": "ok",
     "timestamp": 1682367654787,
     "user": {
      "displayName": "Pavel Ponomarev",
      "userId": "18279523820110450535"
     },
     "user_tz": -60
    },
    "id": "UAx_Ap0hsMUW",
    "pycharm": {
     "name": "#%%\n"
    },
    "tags": []
   },
   "outputs": [],
   "source": [
    "import numpy as np\n",
    "import pandas as pd\n",
    "\n",
    "import torch\n",
    "import torch.nn as nn\n",
    "import os\n",
    "\n",
    "import torch.optim as optim\n",
    "import torchvision.transforms as transforms\n",
    "from torch.utils.data.dataset import Dataset\n",
    "from tqdm import tqdm\n",
    "from modules.datasets.TextSimpleLossShopeeDataset import TextSimpleLossShopeeDataset\n",
    "from modules.distances.CosineDistance import CosineDistance\n",
    "from modules.losses.SuperLoss import SuperLoss\n",
    "from modules.models.BertWithCurricularFace import BertWithCurricularFace\n",
    "from modules.models.BertWithArcFace import BertWithArcFace\n",
    "from transformers import AutoTokenizer\n",
    "import modules.utils.dataset_utils as dataset_utils\n",
    "from ray import tune\n",
    "from ray.tune import CLIReporter\n",
    "from ray.tune.schedulers import ASHAScheduler\n",
    "from functools import partial\n",
    "import faiss"
   ]
  },
  {
   "cell_type": "code",
   "execution_count": 17,
   "metadata": {
    "colab": {
     "base_uri": "https://localhost:8080/"
    },
    "executionInfo": {
     "elapsed": 1215,
     "status": "ok",
     "timestamp": 1682367658424,
     "user": {
      "displayName": "Pavel Ponomarev",
      "userId": "18279523820110450535"
     },
     "user_tz": -60
    },
    "id": "UG-FfRH8sMUX",
    "outputId": "aba94b4d-20e2-4dd9-a220-400a50605267",
    "pycharm": {
     "name": "#%%\n"
    },
    "tags": []
   },
   "outputs": [
    {
     "data": {
      "text/plain": [
       "(34250, 6)"
      ]
     },
     "execution_count": 17,
     "metadata": {},
     "output_type": "execute_result"
    }
   ],
   "source": [
    "DATA_FOLDER = '/root/DL_Group_Project/dl-ecommerce-duplicates/shopee-product-matching/'\n",
    "\n",
    "IS_TEST = False\n",
    "\n",
    "df = dataset_utils.get_dataset(root=DATA_FOLDER, is_test=IS_TEST)\n",
    "df = dataset_utils.add_target(df)\n",
    "train = df.copy()\n",
    "num_classes = train['label_group'].nunique()\n",
    "\n",
    "train.shape"
   ]
  },
  {
   "cell_type": "code",
   "execution_count": 18,
   "metadata": {
    "tags": []
   },
   "outputs": [
    {
     "data": {
      "text/plain": [
       "11014"
      ]
     },
     "execution_count": 18,
     "metadata": {},
     "output_type": "execute_result"
    }
   ],
   "source": [
    "from sklearn.preprocessing import LabelEncoder\n",
    "from sklearn.model_selection import train_test_split\n",
    "lbl_encoder = LabelEncoder()\n",
    "train['label_code'] = lbl_encoder.fit_transform(train['label_group'])\n",
    "num_classes = train['label_code'].nunique()\n",
    "\n",
    "train_df, valid_df = train_test_split(train, test_size=0.2)\n",
    "\n",
    "train_dataset = TextSimpleLossShopeeDataset(\n",
    "    train_df['title'].values,\n",
    "    train_df['label_code'].values)\n",
    "\n",
    "valid_dataset = TextSimpleLossShopeeDataset(\n",
    "    valid_df['title'].values,\n",
    "    valid_df['label_code'].values)\n",
    "\n",
    "num_classes"
   ]
  },
  {
   "cell_type": "code",
   "execution_count": 19,
   "metadata": {
    "executionInfo": {
     "elapsed": 2,
     "status": "ok",
     "timestamp": 1682367660476,
     "user": {
      "displayName": "Pavel Ponomarev",
      "userId": "18279523820110450535"
     },
     "user_tz": -60
    },
    "id": "NF1vRXiubQg-",
    "tags": []
   },
   "outputs": [],
   "source": [
    "class CFG:\n",
    "    IMG_SZ = 256\n",
    "    TRAIN_RATIO = 0.8\n",
    "    EPOCHS = 10\n",
    "    MARGIN = 0.5\n",
    "    DISTANCE = CosineDistance()"
   ]
  },
  {
   "cell_type": "code",
   "execution_count": 20,
   "metadata": {
    "executionInfo": {
     "elapsed": 813,
     "status": "ok",
     "timestamp": 1682367680595,
     "user": {
      "displayName": "Pavel Ponomarev",
      "userId": "18279523820110450535"
     },
     "user_tz": -60
    },
    "id": "yDc82LAuhdXV",
    "tags": []
   },
   "outputs": [],
   "source": [
    "from ray.air import session\n",
    "\n",
    "def train_model(config, use_tune=True):\n",
    "\n",
    "    tokenizer = AutoTokenizer.from_pretrained(\"bert-base-uncased\")\n",
    "\n",
    "    def collate_fn(batch):\n",
    "        xs_1, ys = zip(*batch)\n",
    "\n",
    "        xs_1 = tokenizer(list(xs_1), padding=True, truncation=True, return_tensors=\"pt\")\n",
    "\n",
    "        return xs_1, torch.stack(ys)\n",
    "    \n",
    "    # model = BertWithCurricularFace(n_classes=num_classes)\n",
    "    model = BertWithCurricularFace(n_classes=num_classes, model_name = 'sentence-transformers/paraphrase-xlm-r-multilingual-v1')\n",
    "    # model = BertWithArcFace(num_classes=num_classes) \n",
    "    \n",
    "    \n",
    "    loaded_checkpoint = session.get_checkpoint()\n",
    "    if loaded_checkpoint:\n",
    "        with loaded_checkpoint.as_directory() as loaded_checkpoint_dir:\n",
    "           model_state, _ = torch.load(os.path.join(loaded_checkpoint_dir, \"checkpoint.pt\"))\n",
    "        model.load_state_dict(model_state)\n",
    "    \n",
    "    device = torch.device('cuda' if torch.cuda.is_available() else 'cpu')\n",
    "    model.to(device)\n",
    "    criterion = nn.CrossEntropyLoss()\n",
    "    optimizer = optim.Adam(model.parameters(), lr=config['lr'])\n",
    "    scheduler = optim.lr_scheduler.ReduceLROnPlateau(optimizer, 'min', factor=config['factor'])\n",
    "    \n",
    "    loaded_checkpoint = session.get_checkpoint()\n",
    "    if loaded_checkpoint:\n",
    "        with loaded_checkpoint.as_directory() as loaded_checkpoint_dir:\n",
    "           _, optimizer_state = torch.load(os.path.join(loaded_checkpoint_dir, \"checkpoint.pt\"))\n",
    "        optimizer.load_state_dict(optimizer_state)\n",
    "    # Datasets and data loaders\n",
    "    train_loader = torch.utils.data.DataLoader(\n",
    "        train_dataset,\n",
    "        batch_size=int(config[\"batch_size\"]),\n",
    "        shuffle=True,\n",
    "        num_workers=0,\n",
    "        collate_fn=collate_fn,\n",
    "    )\n",
    "    valid_loader = torch.utils.data.DataLoader(\n",
    "        valid_dataset,\n",
    "        batch_size=int(config[\"batch_size\"]),\n",
    "        shuffle=True,\n",
    "        num_workers=0,\n",
    "        collate_fn=collate_fn,\n",
    "    )\n",
    "\n",
    "    train_losses = []\n",
    "    valid_losses = []\n",
    "    ## Training loop: training + validation\n",
    "    for epoch in range(CFG.EPOCHS):\n",
    "        ## Training\n",
    "        train_loss = 0.0\n",
    "        epoch_steps = 0\n",
    "        model.train()\n",
    "        train_enumerator = enumerate(train_loader, 0)\n",
    "        if not use_tune:\n",
    "            train_enumerator = tqdm(train_enumerator)\n",
    "        for i, data in train_enumerator:\n",
    "            inputs, target = data\n",
    "            inputs, target = inputs.to(device), target.to(device)\n",
    "            optimizer.zero_grad()\n",
    "            outputs = model(inputs)\n",
    "            loss = criterion(outputs, target)\n",
    "            loss.backward()\n",
    "            optimizer.step()\n",
    "\n",
    "            train_loss += loss.item()\n",
    "            epoch_steps += 1\n",
    "            if i % 50 == 0:\n",
    "                print(\"[%d, %5d / %d batches] loss: %.3f\" % (epoch + 1, i + 1, len(train_loader),\n",
    "                                                train_loss / epoch_steps))\n",
    "        \n",
    "\n",
    "        ## Validation\n",
    "        val_loss = 0.0\n",
    "        model.eval()\n",
    "        valid_enumerator = enumerate(valid_loader, 0)\n",
    "        if not use_tune:\n",
    "            valid_enumerator = tqdm(valid_enumerator)\n",
    "        for i, data in valid_enumerator:\n",
    "            with torch.no_grad():\n",
    "                inputs, target = data\n",
    "                inputs, target = inputs.to(device), target.to(device)\n",
    "                outputs = model(inputs)\n",
    "                loss = criterion(outputs, target)\n",
    "                val_loss += loss.cpu().numpy()\n",
    "        if use_tune:\n",
    "            with tune.checkpoint_dir(epoch) as checkpoint_dir:\n",
    "                path = os.path.join(checkpoint_dir, \"checkpoint\")\n",
    "                torch.save((model.state_dict(), optimizer.state_dict()), path)\n",
    "            \n",
    "            tune.report(\n",
    "                val_loss=(val_loss / len(valid_loader)),\n",
    "                train_loss=(train_loss / len(train_loader))\n",
    "                )\n",
    "        train_losses.append(train_loss)\n",
    "        valid_losses.append(val_loss)\n",
    "    if not use_tune:\n",
    "        return model, train_dataset, valid_dataset, train_losses, valid_losses"
   ]
  },
  {
   "cell_type": "code",
   "execution_count": 21,
   "metadata": {
    "executionInfo": {
     "elapsed": 935,
     "status": "ok",
     "timestamp": 1682367684584,
     "user": {
      "displayName": "Pavel Ponomarev",
      "userId": "18279523820110450535"
     },
     "user_tz": -60
    },
    "id": "1PYlueQ_taSS",
    "tags": []
   },
   "outputs": [],
   "source": [
    "config = {\n",
    "    \"lr\": tune.loguniform(1e-4, 1e-3),\n",
    "    \"batch_size\": tune.choice([8]),\n",
    "    \"factor\": tune.uniform(0.30,0.31),\n",
    "}"
   ]
  },
  {
   "cell_type": "code",
   "execution_count": 22,
   "metadata": {
    "executionInfo": {
     "elapsed": 1,
     "status": "ok",
     "timestamp": 1682367685913,
     "user": {
      "displayName": "Pavel Ponomarev",
      "userId": "18279523820110450535"
     },
     "user_tz": -60
    },
    "id": "Ch2L4Ija2YaH",
    "tags": []
   },
   "outputs": [],
   "source": [
    "def run_hyperparameter_search(num_samples, max_epochs, cpus_per_trial, gpus_per_trial):\n",
    "    scheduler = ASHAScheduler(\n",
    "        metric=\"val_loss\",\n",
    "        mode=\"min\",\n",
    "        max_t=max_epochs,\n",
    "        grace_period=3,\n",
    "        reduction_factor=3)\n",
    "    reporter = CLIReporter(\n",
    "        metric_columns=[\"train_loss\", \"val_loss\", \"training_iteration\"]\n",
    "        )\n",
    "    result = tune.run(\n",
    "        train_model,\n",
    "        resources_per_trial={\"cpu\": cpus_per_trial, \"gpu\": gpus_per_trial},\n",
    "        config=config,\n",
    "        num_samples=num_samples,\n",
    "        # name=\"train_model_2023-04-23_16-29-56\",\n",
    "        scheduler=scheduler,\n",
    "        progress_reporter=reporter,\n",
    "        local_dir=\"/root/ray_results\",\n",
    "        # resume=\"LOCAL+ERRORED\",\n",
    "        raise_on_failed_trial=False,)\n",
    "    return result"
   ]
  },
  {
   "cell_type": "code",
   "execution_count": null,
   "metadata": {
    "colab": {
     "base_uri": "https://localhost:8080/",
     "height": 1000
    },
    "executionInfo": {
     "elapsed": 2891417,
     "status": "ok",
     "timestamp": 1682370593202,
     "user": {
      "displayName": "Pavel Ponomarev",
      "userId": "18279523820110450535"
     },
     "user_tz": -60
    },
    "id": "x2_Dfl8i5_vo",
    "outputId": "88605b62-b13b-4153-c976-1d5ed115d00e",
    "tags": []
   },
   "outputs": [],
   "source": [
    "result = run_hyperparameter_search(num_samples=1, max_epochs=10, cpus_per_trial=4, gpus_per_trial=1)"
   ]
  },
  {
   "cell_type": "code",
   "execution_count": 24,
   "metadata": {
    "id": "jal9Ug4npqiQ",
    "tags": []
   },
   "outputs": [],
   "source": [
    "# Keep it on google drive for the future \n",
    "# Takes a lot of memory\n",
    "# !mkdir ./analysis/\n",
    "# !mkdir ./analysis/cl-images/\n",
    "# !cp -r /root/ray_results/train_model_2023-04-23_16-29-56 ./analysis/cl-images/"
   ]
  },
  {
   "cell_type": "code",
   "execution_count": 25,
   "metadata": {
    "colab": {
     "base_uri": "https://localhost:8080/"
    },
    "executionInfo": {
     "elapsed": 514,
     "status": "ok",
     "timestamp": 1682373254815,
     "user": {
      "displayName": "Pavel Ponomarev",
      "userId": "18279523820110450535"
     },
     "user_tz": -60
    },
    "id": "2sUOb6URMR23",
    "outputId": "1dabdf4f-7979-4613-d5a7-8c6480e84727"
   },
   "outputs": [
    {
     "name": "stdout",
     "output_type": "stream",
     "text": [
      "Best trial config: {'lr': 0.00011063083244708989, 'batch_size': 8, 'factor': 0.3027242752349612}\n",
      "Best trial final training loss: 9.06999914475601\n",
      "Best trial final validation loss: 10.009407806841606\n",
      "['/root/ray_results/train_model_2023-05-03_16-45-00/train_model_d8250_00000_0_batch_size=8,factor=0.3027,lr=0.0001_2023-05-03_16-45-00']\n",
      "Train losses: [ 9.30542181  9.41428913  9.71032438  9.70016022  9.76425027  9.93652138\n",
      "  9.89867394  9.92781541 10.03343802 10.00940781]\n",
      "Validation losses: [ 9.30542181  9.41428913  9.71032438  9.70016022  9.76425027  9.93652138\n",
      "  9.89867394  9.92781541 10.03343802 10.00940781]\n"
     ]
    }
   ],
   "source": [
    "# best_trial = 'train_model_66040_00006'\n",
    "# print(best_trial)\n",
    "best_trial = result.get_best_trial(\"val_loss\", \"min\", \"last\")\n",
    "print(\"Best trial config: {}\".format(best_trial.config))\n",
    "print(\"Best trial final training loss: {}\".format(best_trial.last_result[\"train_loss\"]))\n",
    "print(\"Best trial final validation loss: {}\".format(best_trial.last_result[\"val_loss\"]))\n",
    "\n",
    "my_trials = [ trial for trial in list(result.trial_dataframes.keys()) if str(best_trial) in trial]\n",
    "print(my_trials)\n",
    "best_checkpoint = result.get_best_checkpoint(trial=my_trials[0], metric=\"val_loss\", mode=\"min\")\n",
    "train_losses = result.trial_dataframes[my_trials[0]][\"train_loss\"].values\n",
    "val_losses = result.trial_dataframes[my_trials[0]][\"val_loss\"].values\n",
    "print(f\"Train losses: {val_losses}\")\n",
    "print(f\"Validation losses: {val_losses}\")"
   ]
  },
  {
   "cell_type": "code",
   "execution_count": 26,
   "metadata": {
    "tags": []
   },
   "outputs": [
    {
     "data": {
      "text/plain": [
       "(10,)"
      ]
     },
     "execution_count": 26,
     "metadata": {},
     "output_type": "execute_result"
    }
   ],
   "source": [
    "val_losses.shape"
   ]
  },
  {
   "cell_type": "code",
   "execution_count": 31,
   "metadata": {
    "colab": {
     "base_uri": "https://localhost:8080/",
     "height": 472
    },
    "executionInfo": {
     "elapsed": 1473,
     "status": "ok",
     "timestamp": 1682374140061,
     "user": {
      "displayName": "Pavel Ponomarev",
      "userId": "18279523820110450535"
     },
     "user_tz": -60
    },
    "id": "IxRh9G_niWEa",
    "outputId": "9b3abbfe-df78-4533-fffc-9046b03e260e"
   },
   "outputs": [
    {
     "data": {
      "image/png": "[encoded data removed]",
      "text/plain": [
       "<Figure size 640x480 with 1 Axes>"
      ]
     },
     "metadata": {},
     "output_type": "display_data"
    }
   ],
   "source": [
    "import matplotlib.pyplot as plt\n",
    "\n",
    "plt.plot(np.arange(1, 11), train_losses, label='Training loss')\n",
    "plt.plot(np.arange(1, 11), val_losses, label='Validation loss')\n",
    "\n",
    "# Add labels and title\n",
    "plt.xlabel('Epochs')\n",
    "plt.ylabel('Curricular Loss')\n",
    "plt.title('Loss vs epochs Curricular Loss + XLM')\n",
    "plt.legend(loc='best')\n",
    "plt.grid(True)\n",
    "\n",
    "plt.savefig('text-curricular-loss-XLM-cosine-losses.png')"
   ]
  },
  {
   "cell_type": "code",
   "execution_count": 28,
   "metadata": {
    "colab": {
     "base_uri": "https://localhost:8080/"
    },
    "executionInfo": {
     "elapsed": 12018,
     "status": "ok",
     "timestamp": 1682374160873,
     "user": {
      "displayName": "Pavel Ponomarev",
      "userId": "18279523820110450535"
     },
     "user_tz": -60
    },
    "id": "nRF9Auhz4nFI",
    "outputId": "9aaaeb40-f658-40bb-c91b-10b1fa72ecdb"
   },
   "outputs": [
    {
     "ename": "NameError",
     "evalue": "name 'BertShopeeNet' is not defined",
     "output_type": "error",
     "traceback": [
      "\u001b[0;31m---------------------------------------------------------------------------\u001b[0m",
      "\u001b[0;31mNameError\u001b[0m                                 Traceback (most recent call last)",
      "Cell \u001b[0;32mIn[28], line 1\u001b[0m\n\u001b[0;32m----> 1\u001b[0m best_model \u001b[38;5;241m=\u001b[39m \u001b[43mBertShopeeNet\u001b[49m()\n\u001b[1;32m      2\u001b[0m best_checkpoint_dir \u001b[38;5;241m=\u001b[39m best_checkpoint\u001b[38;5;241m.\u001b[39mto_directory(path\u001b[38;5;241m=\u001b[39m\u001b[38;5;124m\"\u001b[39m\u001b[38;5;124mdirectory\u001b[39m\u001b[38;5;124m\"\u001b[39m)\n\u001b[1;32m      3\u001b[0m model_state, optimizer_state \u001b[38;5;241m=\u001b[39m torch\u001b[38;5;241m.\u001b[39mload(os\u001b[38;5;241m.\u001b[39mpath\u001b[38;5;241m.\u001b[39mjoin(best_checkpoint_dir, \u001b[38;5;124m\"\u001b[39m\u001b[38;5;124mcheckpoint\u001b[39m\u001b[38;5;124m\"\u001b[39m))\n",
      "\u001b[0;31mNameError\u001b[0m: name 'BertShopeeNet' is not defined"
     ]
    }
   ],
   "source": [
    "best_model = BertShopeeNet()\n",
    "best_checkpoint_dir = best_checkpoint.to_directory(path=\"directory\")\n",
    "model_state, optimizer_state = torch.load(os.path.join(best_checkpoint_dir, \"checkpoint\"))\n",
    "best_model.load_state_dict(model_state)\n",
    "torch.save(best_model.state_dict(), f\"./best_text_model_params_cosine_x1.pt\")"
   ]
  },
  {
   "cell_type": "code",
   "execution_count": 29,
   "metadata": {
    "colab": {
     "base_uri": "https://localhost:8080/"
    },
    "executionInfo": {
     "elapsed": 538,
     "status": "ok",
     "timestamp": 1682373310188,
     "user": {
      "displayName": "Pavel Ponomarev",
      "userId": "18279523820110450535"
     },
     "user_tz": -60
    },
    "id": "OmTh7JHAXFhc",
    "outputId": "901db383-789d-4a1a-a2ef-e9251d634709"
   },
   "outputs": [
    {
     "ename": "NameError",
     "evalue": "name 'best_model' is not defined",
     "output_type": "error",
     "traceback": [
      "\u001b[0;31m---------------------------------------------------------------------------\u001b[0m",
      "\u001b[0;31mNameError\u001b[0m                                 Traceback (most recent call last)",
      "Cell \u001b[0;32mIn[29], line 1\u001b[0m\n\u001b[0;32m----> 1\u001b[0m \u001b[43mbest_model\u001b[49m\u001b[38;5;241m.\u001b[39mload_state_dict(torch\u001b[38;5;241m.\u001b[39mload(\u001b[38;5;124m\"\u001b[39m\u001b[38;5;124m./best_text_model_params_cosine_x1.pt\u001b[39m\u001b[38;5;124m\"\u001b[39m))\n",
      "\u001b[0;31mNameError\u001b[0m: name 'best_model' is not defined"
     ]
    }
   ],
   "source": [
    "best_model.load_state_dict(torch.load(\"./best_text_model_params_cosine_x1.pt\"))"
   ]
  },
  {
   "cell_type": "code",
   "execution_count": 26,
   "metadata": {
    "colab": {
     "base_uri": "https://localhost:8080/"
    },
    "executionInfo": {
     "elapsed": 102357,
     "status": "ok",
     "timestamp": 1682374265411,
     "user": {
      "displayName": "Pavel Ponomarev",
      "userId": "18279523820110450535"
     },
     "user_tz": -60
    },
    "id": "fGAoewhr4AwB",
    "outputId": "800c47ba-91ca-4b46-b940-ccbfa68d0ae5"
   },
   "outputs": [
    {
     "ename": "NameError",
     "evalue": "name 'best_model' is not defined",
     "output_type": "error",
     "traceback": [
      "\u001b[0;31m---------------------------------------------------------------------------\u001b[0m",
      "\u001b[0;31mNameError\u001b[0m                                 Traceback (most recent call last)",
      "Cell \u001b[0;32mIn[26], line 2\u001b[0m\n\u001b[1;32m      1\u001b[0m DEVICE \u001b[38;5;241m=\u001b[39m torch\u001b[38;5;241m.\u001b[39mdevice(\u001b[38;5;124m'\u001b[39m\u001b[38;5;124mcuda\u001b[39m\u001b[38;5;124m'\u001b[39m \u001b[38;5;28;01mif\u001b[39;00m torch\u001b[38;5;241m.\u001b[39mcuda\u001b[38;5;241m.\u001b[39mis_available() \u001b[38;5;28;01melse\u001b[39;00m \u001b[38;5;124m'\u001b[39m\u001b[38;5;124mcpu\u001b[39m\u001b[38;5;124m'\u001b[39m)\n\u001b[0;32m----> 2\u001b[0m \u001b[43mbest_model\u001b[49m\u001b[38;5;241m.\u001b[39mto(DEVICE)\n\u001b[1;32m      4\u001b[0m \u001b[38;5;28;01mfrom\u001b[39;00m \u001b[38;5;21;01mmodules\u001b[39;00m\u001b[38;5;21;01m.\u001b[39;00m\u001b[38;5;21;01mdatasets\u001b[39;00m\u001b[38;5;21;01m.\u001b[39;00m\u001b[38;5;21;01mTextShopeeDataset\u001b[39;00m \u001b[38;5;28;01mimport\u001b[39;00m TextShopeeDataset\n\u001b[1;32m      5\u001b[0m tokenizer \u001b[38;5;241m=\u001b[39m AutoTokenizer\u001b[38;5;241m.\u001b[39mfrom_pretrained(\u001b[38;5;124m\"\u001b[39m\u001b[38;5;124mbert-base-uncased\u001b[39m\u001b[38;5;124m\"\u001b[39m) \n",
      "\u001b[0;31mNameError\u001b[0m: name 'best_model' is not defined"
     ]
    }
   ],
   "source": [
    "DEVICE = torch.device('cuda' if torch.cuda.is_available() else 'cpu')\n",
    "best_model.to(DEVICE)\n",
    "\n",
    "from modules.datasets.TextShopeeDataset import TextShopeeDataset\n",
    "tokenizer = AutoTokenizer.from_pretrained(\"bert-base-uncased\") \n",
    "def my_collate_fn(data):\n",
    "    \"\"\"\n",
    "    data: list of input text strings\n",
    "    return: dict with keys: input_ids, token_type_ids, attention_mask where each key is a tensor\n",
    "    \"\"\"\n",
    "    inputs = tokenizer(data, padding=True, return_tensors=\"pt\")\n",
    "    return inputs\n",
    "\n",
    "text_dataset = TextShopeeDataset(train_df['title'].values)\n",
    "\n",
    "text_loader = torch.utils.data.DataLoader(\n",
    "    text_dataset,\n",
    "    batch_size=64,\n",
    "    shuffle=False,\n",
    "    num_workers=0,\n",
    "    collate_fn=my_collate_fn,\n",
    ")\n",
    "\n",
    "\n",
    "text_embeddings = []\n",
    "i = 0\n",
    "best_model.eval()\n",
    "with torch.no_grad():\n",
    "    for data in tqdm(text_loader):\n",
    "        i += 1\n",
    "        data = data.to(DEVICE)\n",
    "        embeddings = best_model(data)\n",
    "        embeddings = embeddings.reshape(embeddings.shape[0], embeddings.shape[1])\n",
    "        embeddings = embeddings.detach().cpu().numpy()\n",
    "        text_embeddings.extend(embeddings)"
   ]
  },
  {
   "cell_type": "code",
   "execution_count": 27,
   "metadata": {
    "colab": {
     "base_uri": "https://localhost:8080/"
    },
    "executionInfo": {
     "elapsed": 969,
     "status": "ok",
     "timestamp": 1682373435682,
     "user": {
      "displayName": "Pavel Ponomarev",
      "userId": "18279523820110450535"
     },
     "user_tz": -60
    },
    "id": "UoFb8SqAHEgg",
    "outputId": "ecc3ce61-5ade-4517-f32e-fca1b8f0adf9"
   },
   "outputs": [
    {
     "ename": "NameError",
     "evalue": "name 'text_embeddings' is not defined",
     "output_type": "error",
     "traceback": [
      "\u001b[0;31m---------------------------------------------------------------------------\u001b[0m",
      "\u001b[0;31mNameError\u001b[0m                                 Traceback (most recent call last)",
      "Cell \u001b[0;32mIn[27], line 1\u001b[0m\n\u001b[0;32m----> 1\u001b[0m text_embeddings \u001b[38;5;241m=\u001b[39m np\u001b[38;5;241m.\u001b[39mstack(\u001b[43mtext_embeddings\u001b[49m)\n\u001b[1;32m      2\u001b[0m norms \u001b[38;5;241m=\u001b[39m np\u001b[38;5;241m.\u001b[39mlinalg\u001b[38;5;241m.\u001b[39mnorm(text_embeddings, axis\u001b[38;5;241m=\u001b[39m\u001b[38;5;241m1\u001b[39m)\n\u001b[1;32m      3\u001b[0m text_embeddings \u001b[38;5;241m=\u001b[39m text_embeddings \u001b[38;5;241m/\u001b[39m norms[:, np\u001b[38;5;241m.\u001b[39mnewaxis]\n",
      "\u001b[0;31mNameError\u001b[0m: name 'text_embeddings' is not defined"
     ]
    }
   ],
   "source": [
    "text_embeddings = np.stack(text_embeddings)\n",
    "norms = np.linalg.norm(text_embeddings, axis=1)\n",
    "text_embeddings = text_embeddings / norms[:, np.newaxis]\n",
    "text_embeddings.shape"
   ]
  },
  {
   "cell_type": "code",
   "execution_count": null,
   "metadata": {
    "executionInfo": {
     "elapsed": 13944,
     "status": "ok",
     "timestamp": 1682373451763,
     "user": {
      "displayName": "Pavel Ponomarev",
      "userId": "18279523820110450535"
     },
     "user_tz": -60
    },
    "id": "_cYEumbnHHxj"
   },
   "outputs": [],
   "source": [
    "k = 100\n",
    "res = faiss.StandardGpuResources()\n",
    "index_img = faiss.IndexFlatIP(768)\n",
    "# index_img = faiss.index_cpu_to_gpu(res, 0, index_img)\n",
    "index_img.add(text_embeddings)\n",
    "similarities_img, indexes_img = index_img.search(text_embeddings, k)"
   ]
  },
  {
   "cell_type": "code",
   "execution_count": null,
   "metadata": {
    "colab": {
     "base_uri": "https://localhost:8080/"
    },
    "executionInfo": {
     "elapsed": 243510,
     "status": "ok",
     "timestamp": 1682373695253,
     "user": {
      "displayName": "Pavel Ponomarev",
      "userId": "18279523820110450535"
     },
     "user_tz": -60
    },
    "id": "ND1MOdgsHJDo",
    "outputId": "9b7d646b-92a9-4401-a7ad-dc7a4ad0cd4e"
   },
   "outputs": [],
   "source": [
    "def calc_f1_score(targets, results):\n",
    "    intersect = len(np.intersect1d(targets, results))\n",
    "    return 2 * intersect / (len(targets) + len(results))\n",
    "\n",
    "\n",
    "def process_for_threshold(similarities, indexes, threshold):\n",
    "    f1_score_accumulated = 0\n",
    "    for i in range(len(text_embeddings)):\n",
    "        cur_sims = similarities[i]\n",
    "        cur_indexes = indexes[i]\n",
    "        duplicate_indexes = cur_indexes[cur_sims >= threshold]\n",
    "        results = train_df.iloc[duplicate_indexes]['posting_id'].values\n",
    "        targets = train_df.iloc[i]['target']\n",
    "        f1_score = calc_f1_score(targets, results)\n",
    "        f1_score_accumulated += f1_score\n",
    "    return f1_score_accumulated / len(text_embeddings)\n",
    "\n",
    "\n",
    "thresholds = np.arange(0.83, 0.99, 0.01)\n",
    "f1_avg_scores = []\n",
    "for threshold in tqdm(thresholds):\n",
    "    f1_avg = process_for_threshold(similarities_img, indexes_img, threshold)\n",
    "    f1_avg_scores.append(f1_avg)"
   ]
  },
  {
   "cell_type": "code",
   "execution_count": null,
   "metadata": {
    "colab": {
     "base_uri": "https://localhost:8080/",
     "height": 472
    },
    "executionInfo": {
     "elapsed": 523,
     "status": "ok",
     "timestamp": 1682374504953,
     "user": {
      "displayName": "Pavel Ponomarev",
      "userId": "18279523820110450535"
     },
     "user_tz": -60
    },
    "id": "MxvzIqXhHJuI",
    "outputId": "bee9dc1d-f705-46fd-b6b6-6c77df165892"
   },
   "outputs": [],
   "source": [
    "import matplotlib.pyplot as plt\n",
    "\n",
    "plt.plot(thresholds, f1_avg_scores)\n",
    "\n",
    "# Add labels and title\n",
    "plt.xlabel('Threshold for cosine similarity')\n",
    "plt.ylabel('Average F1-score')\n",
    "plt.title('F1-score vs threshold for cosine text similarity')\n",
    "plt.grid(True)\n",
    "\n",
    "max_f1 = max(f1_avg_scores)\n",
    "max_threshold = thresholds[np.argmax(f1_avg_scores)]\n",
    "\n",
    "# Save the plot to a file\n",
    "plt.savefig('bert-contrastive-loss-cosine-thresholds-all.png')"
   ]
  },
  {
   "cell_type": "code",
   "execution_count": null,
   "metadata": {
    "colab": {
     "base_uri": "https://localhost:8080/"
    },
    "executionInfo": {
     "elapsed": 513,
     "status": "ok",
     "timestamp": 1682374516408,
     "user": {
      "displayName": "Pavel Ponomarev",
      "userId": "18279523820110450535"
     },
     "user_tz": -60
    },
    "id": "CchVI0fOIoDc",
    "outputId": "9adab0c5-6246-46ff-f2d2-fad310357a92"
   },
   "outputs": [],
   "source": [
    "print(f\"Max f1-score: {max_f1}, threshold: {max_threshold}\") "
   ]
  }
 ],
 "metadata": {
  "accelerator": "GPU",
  "colab": {
   "machine_shape": "hm",
   "provenance": []
  },
  "gpuClass": "standard",
  "instance_type": "ml.g4dn.xlarge",
  "kernelspec": {
   "display_name": "Python 3 (Base Python 2.0)",
   "language": "python",
   "name": "python3__SAGEMAKER_INTERNAL__arn:aws:sagemaker:us-east-1:081325390199:image/sagemaker-base-python-38"
  },
  "language_info": {
   "codemirror_mode": {
    "name": "ipython",
    "version": 3
   },
   "file_extension": ".py",
   "mimetype": "text/x-python",
   "name": "python",
   "nbconvert_exporter": "python",
   "pygments_lexer": "ipython3",
   "version": "3.8.12"
  }
 },
 "nbformat": 4,
 "nbformat_minor": 4
}
